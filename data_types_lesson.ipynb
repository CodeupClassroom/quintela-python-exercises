{
 "cells": [
  {
   "cell_type": "markdown",
   "id": "2d0fa0be",
   "metadata": {},
   "source": [
    "# Data Types, Operators, and Variables Lesson"
   ]
  },
  {
   "cell_type": "markdown",
   "id": "45678d52",
   "metadata": {},
   "source": [
    "<hr style=\"border:2px solid gray\">"
   ]
  },
  {
   "cell_type": "markdown",
   "id": "8f5f43a3",
   "metadata": {},
   "source": [
    "## Data Types"
   ]
  },
  {
   "cell_type": "markdown",
   "id": "c8dca194",
   "metadata": {},
   "source": [
    "| Data Type | Description |\n",
    "| --- | --- |\n",
    "| ```bool``` | Boolean values (True or False) |\n",
    "| ```int``` | whole, or counting numbers |\n",
    "| ```float``` | decimal numbers |\n",
    "| ```str``` | collection of alpha, words, other |\n",
    "| ```list``` | an ordered sequence of objects |\n",
    "| ```dict``` | a collection of named values |\n",
    "| ```NoneType``` | indicates absence of a value |\n"
   ]
  },
  {
   "cell_type": "markdown",
   "id": "e40d1bbf",
   "metadata": {},
   "source": [
    "<b>Note</b>: We can use the ```type``` function to determine the data type being used."
   ]
  },
  {
   "cell_type": "markdown",
   "id": "16d764db",
   "metadata": {},
   "source": [
    "<b>```bool```:"
   ]
  },
  {
   "cell_type": "code",
   "execution_count": 2,
   "id": "c8e25065",
   "metadata": {},
   "outputs": [
    {
     "data": {
      "text/plain": [
       "bool"
      ]
     },
     "execution_count": 2,
     "metadata": {},
     "output_type": "execute_result"
    }
   ],
   "source": [
    "type(True)"
   ]
  },
  {
   "cell_type": "code",
   "execution_count": 3,
   "id": "ca0bb4d3",
   "metadata": {},
   "outputs": [
    {
     "data": {
      "text/plain": [
       "True"
      ]
     },
     "execution_count": 3,
     "metadata": {},
     "output_type": "execute_result"
    }
   ],
   "source": [
    "True == True"
   ]
  },
  {
   "cell_type": "code",
   "execution_count": 4,
   "id": "9603d231",
   "metadata": {},
   "outputs": [
    {
     "data": {
      "text/plain": [
       "False"
      ]
     },
     "execution_count": 4,
     "metadata": {},
     "output_type": "execute_result"
    }
   ],
   "source": [
    "True == False"
   ]
  },
  {
   "cell_type": "code",
   "execution_count": 5,
   "id": "5133a079",
   "metadata": {},
   "outputs": [
    {
     "data": {
      "text/plain": [
       "True"
      ]
     },
     "execution_count": 5,
     "metadata": {},
     "output_type": "execute_result"
    }
   ],
   "source": [
    "True != False"
   ]
  },
  {
   "cell_type": "code",
   "execution_count": 6,
   "id": "3910c1c3",
   "metadata": {},
   "outputs": [
    {
     "data": {
      "text/plain": [
       "False"
      ]
     },
     "execution_count": 6,
     "metadata": {},
     "output_type": "execute_result"
    }
   ],
   "source": [
    "True != True"
   ]
  },
  {
   "cell_type": "code",
   "execution_count": 7,
   "id": "bfb99d33",
   "metadata": {},
   "outputs": [
    {
     "data": {
      "text/plain": [
       "False"
      ]
     },
     "execution_count": 7,
     "metadata": {},
     "output_type": "execute_result"
    }
   ],
   "source": [
    "not True"
   ]
  },
  {
   "cell_type": "code",
   "execution_count": 8,
   "id": "3830bb00",
   "metadata": {},
   "outputs": [
    {
     "data": {
      "text/plain": [
       "True"
      ]
     },
     "execution_count": 8,
     "metadata": {},
     "output_type": "execute_result"
    }
   ],
   "source": [
    "not False"
   ]
  },
  {
   "cell_type": "markdown",
   "id": "1025b6af",
   "metadata": {},
   "source": [
    "<hr style=\"border:1px solid grey\">"
   ]
  },
  {
   "cell_type": "markdown",
   "id": "07e182d5",
   "metadata": {},
   "source": [
    "<b>Numbers: ```Int``` & ```float```"
   ]
  },
  {
   "cell_type": "code",
   "execution_count": 9,
   "id": "75d4e628",
   "metadata": {},
   "outputs": [
    {
     "data": {
      "text/plain": [
       "1"
      ]
     },
     "execution_count": 9,
     "metadata": {},
     "output_type": "execute_result"
    }
   ],
   "source": [
    "1"
   ]
  },
  {
   "cell_type": "code",
   "execution_count": 10,
   "id": "1cbabbc8",
   "metadata": {},
   "outputs": [
    {
     "data": {
      "text/plain": [
       "int"
      ]
     },
     "execution_count": 10,
     "metadata": {},
     "output_type": "execute_result"
    }
   ],
   "source": [
    "type(123)"
   ]
  },
  {
   "cell_type": "code",
   "execution_count": 11,
   "id": "4de4c4af",
   "metadata": {},
   "outputs": [
    {
     "data": {
      "text/plain": [
       "1.0"
      ]
     },
     "execution_count": 11,
     "metadata": {},
     "output_type": "execute_result"
    }
   ],
   "source": [
    "1.0"
   ]
  },
  {
   "cell_type": "code",
   "execution_count": 12,
   "id": "157bd666",
   "metadata": {},
   "outputs": [
    {
     "data": {
      "text/plain": [
       "float"
      ]
     },
     "execution_count": 12,
     "metadata": {},
     "output_type": "execute_result"
    }
   ],
   "source": [
    "type(1.0)"
   ]
  },
  {
   "cell_type": "code",
   "execution_count": 13,
   "id": "092e7437",
   "metadata": {},
   "outputs": [
    {
     "data": {
      "text/plain": [
       "14"
      ]
     },
     "execution_count": 13,
     "metadata": {},
     "output_type": "execute_result"
    }
   ],
   "source": [
    "4+10"
   ]
  },
  {
   "cell_type": "code",
   "execution_count": 14,
   "id": "0f37d952",
   "metadata": {},
   "outputs": [
    {
     "data": {
      "text/plain": [
       "1.0"
      ]
     },
     "execution_count": 14,
     "metadata": {},
     "output_type": "execute_result"
    }
   ],
   "source": [
    "0.4+0.6"
   ]
  },
  {
   "cell_type": "code",
   "execution_count": 15,
   "id": "b1495310",
   "metadata": {},
   "outputs": [
    {
     "data": {
      "text/plain": [
       "4"
      ]
     },
     "execution_count": 15,
     "metadata": {},
     "output_type": "execute_result"
    }
   ],
   "source": [
    "5-1"
   ]
  },
  {
   "cell_type": "markdown",
   "id": "e44dffc0",
   "metadata": {},
   "source": [
    "<hr style=\"border:1px solid grey\">"
   ]
  },
  {
   "cell_type": "markdown",
   "id": "6c460d4b",
   "metadata": {},
   "source": [
    "<b>```str```"
   ]
  },
  {
   "cell_type": "code",
   "execution_count": 16,
   "id": "e8807bbc",
   "metadata": {},
   "outputs": [
    {
     "data": {
      "text/plain": [
       "str"
      ]
     },
     "execution_count": 16,
     "metadata": {},
     "output_type": "execute_result"
    }
   ],
   "source": [
    "type('hello')"
   ]
  },
  {
   "cell_type": "code",
   "execution_count": 17,
   "id": "08f7c376",
   "metadata": {},
   "outputs": [
    {
     "data": {
      "text/plain": [
       "'Hello World'"
      ]
     },
     "execution_count": 17,
     "metadata": {},
     "output_type": "execute_result"
    }
   ],
   "source": [
    "#single quote\n",
    "'Hello World'"
   ]
  },
  {
   "cell_type": "code",
   "execution_count": 18,
   "id": "aaf94e54",
   "metadata": {},
   "outputs": [
    {
     "data": {
      "text/plain": [
       "'Hello World'"
      ]
     },
     "execution_count": 18,
     "metadata": {},
     "output_type": "execute_result"
    }
   ],
   "source": [
    "#double quote\n",
    "\"Hello World\""
   ]
  },
  {
   "cell_type": "code",
   "execution_count": 19,
   "id": "c3423caa",
   "metadata": {},
   "outputs": [
    {
     "data": {
      "text/plain": [
       "'\\nThis is a multi\\nline \\nstring\\n'"
      ]
     },
     "execution_count": 19,
     "metadata": {},
     "output_type": "execute_result"
    }
   ],
   "source": [
    "#mult-line string (used for docstrings)\n",
    "\"\"\"\n",
    "This is a multi\n",
    "line \n",
    "string\n",
    "\"\"\""
   ]
  },
  {
   "cell_type": "code",
   "execution_count": 20,
   "id": "1d6cca24",
   "metadata": {},
   "outputs": [
    {
     "name": "stdout",
     "output_type": "stream",
     "text": [
      "Hello World\n"
     ]
    }
   ],
   "source": [
    "print('Hello World')"
   ]
  },
  {
   "cell_type": "code",
   "execution_count": 21,
   "id": "49548af0",
   "metadata": {},
   "outputs": [
    {
     "name": "stdout",
     "output_type": "stream",
     "text": [
      "Hello\n",
      " World\n"
     ]
    }
   ],
   "source": [
    "#multi-line print\n",
    "print('Hello\\n World')"
   ]
  },
  {
   "cell_type": "code",
   "execution_count": 22,
   "id": "1f0d0491",
   "metadata": {},
   "outputs": [
    {
     "data": {
      "text/plain": [
       "False"
      ]
     },
     "execution_count": 22,
     "metadata": {},
     "output_type": "execute_result"
    }
   ],
   "source": [
    "'hello' == 'world'"
   ]
  },
  {
   "cell_type": "code",
   "execution_count": 23,
   "id": "e2cbe726",
   "metadata": {},
   "outputs": [
    {
     "data": {
      "text/plain": [
       "True"
      ]
     },
     "execution_count": 23,
     "metadata": {},
     "output_type": "execute_result"
    }
   ],
   "source": [
    "'hello' == 'hello'"
   ]
  },
  {
   "cell_type": "code",
   "execution_count": 24,
   "id": "ad73da3c",
   "metadata": {},
   "outputs": [
    {
     "data": {
      "text/plain": [
       "False"
      ]
     },
     "execution_count": 24,
     "metadata": {},
     "output_type": "execute_result"
    }
   ],
   "source": [
    "#must be accurate- spaces matter\n",
    "'hello ' == 'hello'"
   ]
  },
  {
   "cell_type": "code",
   "execution_count": 25,
   "id": "b48a1f3a",
   "metadata": {},
   "outputs": [
    {
     "data": {
      "text/plain": [
       "'abcdef'"
      ]
     },
     "execution_count": 25,
     "metadata": {},
     "output_type": "execute_result"
    }
   ],
   "source": [
    "#adding two strings together\n",
    "'abc' + 'def'"
   ]
  },
  {
   "cell_type": "code",
   "execution_count": 26,
   "id": "ad738e64",
   "metadata": {},
   "outputs": [
    {
     "name": "stdout",
     "output_type": "stream",
     "text": [
      "abc\n",
      "abc\n",
      "abc\n",
      "abc\n",
      "abc\n",
      "abc\n",
      "abc\n",
      "abc\n",
      "abc\n",
      "abc\n",
      "\n"
     ]
    }
   ],
   "source": [
    "#print abc for me- ten times\n",
    "print('abc\\n' * 10)"
   ]
  },
  {
   "cell_type": "code",
   "execution_count": 27,
   "id": "98c74880",
   "metadata": {},
   "outputs": [
    {
     "ename": "TypeError",
     "evalue": "can only concatenate str (not \"int\") to str",
     "output_type": "error",
     "traceback": [
      "\u001b[0;31m---------------------------------------------------------------------------\u001b[0m",
      "\u001b[0;31mTypeError\u001b[0m                                 Traceback (most recent call last)",
      "Input \u001b[0;32mIn [27]\u001b[0m, in \u001b[0;36m<cell line: 2>\u001b[0;34m()\u001b[0m\n\u001b[1;32m      1\u001b[0m \u001b[38;5;66;03m#can we add a string to an int?\u001b[39;00m\n\u001b[0;32m----> 2\u001b[0m \u001b[38;5;124;43m'\u001b[39;49m\u001b[38;5;124;43m2\u001b[39;49m\u001b[38;5;124;43m'\u001b[39;49m\u001b[43m \u001b[49m\u001b[38;5;241;43m+\u001b[39;49m\u001b[43m \u001b[49m\u001b[38;5;241;43m1\u001b[39;49m\n",
      "\u001b[0;31mTypeError\u001b[0m: can only concatenate str (not \"int\") to str"
     ]
    }
   ],
   "source": [
    "#can we add a string to an int?\n",
    "'2' + 1"
   ]
  },
  {
   "cell_type": "code",
   "execution_count": 28,
   "id": "42536f47",
   "metadata": {},
   "outputs": [
    {
     "data": {
      "text/plain": [
       "3"
      ]
     },
     "execution_count": 28,
     "metadata": {},
     "output_type": "execute_result"
    }
   ],
   "source": [
    "#here I am explicitly telling python that 2 is an int\n",
    "int('2') + 1"
   ]
  },
  {
   "cell_type": "code",
   "execution_count": 29,
   "id": "338b556e",
   "metadata": {},
   "outputs": [
    {
     "ename": "ValueError",
     "evalue": "invalid literal for int() with base 10: 's'",
     "output_type": "error",
     "traceback": [
      "\u001b[0;31m---------------------------------------------------------------------------\u001b[0m",
      "\u001b[0;31mValueError\u001b[0m                                Traceback (most recent call last)",
      "Input \u001b[0;32mIn [29]\u001b[0m, in \u001b[0;36m<cell line: 2>\u001b[0;34m()\u001b[0m\n\u001b[1;32m      1\u001b[0m \u001b[38;5;66;03m#but python wont understand turing an alpha character into an int\u001b[39;00m\n\u001b[0;32m----> 2\u001b[0m \u001b[38;5;28;43mint\u001b[39;49m\u001b[43m(\u001b[49m\u001b[38;5;124;43m'\u001b[39;49m\u001b[38;5;124;43ms\u001b[39;49m\u001b[38;5;124;43m'\u001b[39;49m\u001b[43m)\u001b[49m\n",
      "\u001b[0;31mValueError\u001b[0m: invalid literal for int() with base 10: 's'"
     ]
    }
   ],
   "source": [
    "#but python wont understand turing an alpha character into an int\n",
    "int('s')"
   ]
  },
  {
   "cell_type": "code",
   "execution_count": 30,
   "id": "e2603c74",
   "metadata": {},
   "outputs": [
    {
     "data": {
      "text/plain": [
       "'21'"
      ]
     },
     "execution_count": 30,
     "metadata": {},
     "output_type": "execute_result"
    }
   ],
   "source": [
    "#we CAN add a string to an explicit string though!\n",
    "'2' + str(1)"
   ]
  },
  {
   "cell_type": "code",
   "execution_count": 33,
   "id": "744a1690",
   "metadata": {},
   "outputs": [
    {
     "name": "stdout",
     "output_type": "stream",
     "text": [
      "Hey whats your name: Tasha\n"
     ]
    }
   ],
   "source": [
    "#now we are telling python we need an input\n",
    "my_response = input('Hey whats your name: ')"
   ]
  },
  {
   "cell_type": "code",
   "execution_count": 34,
   "id": "ccc099bd",
   "metadata": {},
   "outputs": [
    {
     "data": {
      "text/plain": [
       "'Tasha'"
      ]
     },
     "execution_count": 34,
     "metadata": {},
     "output_type": "execute_result"
    }
   ],
   "source": [
    "#will output our response\n",
    "my_response"
   ]
  },
  {
   "cell_type": "markdown",
   "id": "706a139b",
   "metadata": {},
   "source": [
    "<hr style=\"border:1px solid grey\">"
   ]
  },
  {
   "cell_type": "markdown",
   "id": "477ca9aa",
   "metadata": {},
   "source": [
    "### String Formatting"
   ]
  },
  {
   "cell_type": "markdown",
   "id": "1f3770e6",
   "metadata": {},
   "source": [
    "- ```%``` formatting: a little older, but still fairly common\n",
    "- ```.format```: a newer way to format strings\n",
    "- f-strings: introduced in python 3.6; comparable to string interpolation in other languages"
   ]
  },
  {
   "cell_type": "code",
   "execution_count": 37,
   "id": "fcdd6461",
   "metadata": {},
   "outputs": [],
   "source": [
    "name = 'Tasha'\n",
    "name2 = 'Brooke'\n",
    "name3 = \"Ryan\"\n",
    "name4 = 'John'"
   ]
  },
  {
   "cell_type": "markdown",
   "id": "aff25300",
   "metadata": {},
   "source": [
    "<b>Using ```%```"
   ]
  },
  {
   "cell_type": "code",
   "execution_count": 38,
   "id": "fabf91d4",
   "metadata": {},
   "outputs": [
    {
     "data": {
      "text/plain": [
       "'Hello Tasha, Brooke, Ryan, John'"
      ]
     },
     "execution_count": 38,
     "metadata": {},
     "output_type": "execute_result"
    }
   ],
   "source": [
    "'Hello %s, %s, %s, %s' % (name, name2, name3, name4)"
   ]
  },
  {
   "cell_type": "markdown",
   "id": "9f77326a",
   "metadata": {},
   "source": [
    "<b>Using ```.format```"
   ]
  },
  {
   "cell_type": "code",
   "execution_count": 39,
   "id": "6e42dee3",
   "metadata": {},
   "outputs": [
    {
     "data": {
      "text/plain": [
       "'Hello Tasha, Brooke, Ryan'"
      ]
     },
     "execution_count": 39,
     "metadata": {},
     "output_type": "execute_result"
    }
   ],
   "source": [
    "'Hello {}, {}, {}'.format(name, name2, name3)"
   ]
  },
  {
   "cell_type": "markdown",
   "id": "c9f0c952",
   "metadata": {},
   "source": [
    "<b>Using f-strings"
   ]
  },
  {
   "cell_type": "code",
   "execution_count": 40,
   "id": "95e79207",
   "metadata": {},
   "outputs": [
    {
     "data": {
      "text/plain": [
       "'Hello Tasha, Brooke, Ryan'"
      ]
     },
     "execution_count": 40,
     "metadata": {},
     "output_type": "execute_result"
    }
   ],
   "source": [
    "f\"Hello {name}, {name2}, {name3}\""
   ]
  },
  {
   "cell_type": "markdown",
   "id": "d4714292",
   "metadata": {},
   "source": [
    "<hr style=\"border:1px solid gray\">"
   ]
  },
  {
   "cell_type": "markdown",
   "id": "69853ac9",
   "metadata": {},
   "source": [
    "### String Methods"
   ]
  },
  {
   "cell_type": "markdown",
   "id": "0f82018d",
   "metadata": {},
   "source": [
    "- ```.lower``` and ```.upper```: convert the string to all lower or upper case\n",
    "- ```.strip```: remove any leading and trailing whitespace from the string\n",
    "- ```.isdigit```: test whether or not the string is a number\n",
    "- ```.split```: convert a string to a list\n",
    "- ```.join```: convert a list to a string"
   ]
  },
  {
   "cell_type": "code",
   "execution_count": 41,
   "id": "d0303a76",
   "metadata": {},
   "outputs": [
    {
     "data": {
      "text/plain": [
       "'hello'"
      ]
     },
     "execution_count": 41,
     "metadata": {},
     "output_type": "execute_result"
    }
   ],
   "source": [
    "#lowercase something that is all caps\n",
    "'HELLO'.lower()"
   ]
  },
  {
   "cell_type": "code",
   "execution_count": 42,
   "id": "9c8576b6",
   "metadata": {},
   "outputs": [
    {
     "data": {
      "text/plain": [
       "'HELLO'"
      ]
     },
     "execution_count": 42,
     "metadata": {},
     "output_type": "execute_result"
    }
   ],
   "source": [
    "#capitalize something that is all lowercase\n",
    "'hello'.upper()"
   ]
  },
  {
   "cell_type": "code",
   "execution_count": 43,
   "id": "38069ad8",
   "metadata": {},
   "outputs": [
    {
     "data": {
      "text/plain": [
       "'HELLO'"
      ]
     },
     "execution_count": 43,
     "metadata": {},
     "output_type": "execute_result"
    }
   ],
   "source": [
    "#do both\n",
    "'HELLO'.lower().upper()"
   ]
  },
  {
   "cell_type": "code",
   "execution_count": 44,
   "id": "7559f443",
   "metadata": {},
   "outputs": [
    {
     "data": {
      "text/plain": [
       "'Hello'"
      ]
     },
     "execution_count": 44,
     "metadata": {},
     "output_type": "execute_result"
    }
   ],
   "source": [
    "#remove all the white space\n",
    "'       Hello     '.strip()"
   ]
  },
  {
   "cell_type": "code",
   "execution_count": 45,
   "id": "3be81eb2",
   "metadata": {},
   "outputs": [
    {
     "data": {
      "text/plain": [
       "True"
      ]
     },
     "execution_count": 45,
     "metadata": {},
     "output_type": "execute_result"
    }
   ],
   "source": [
    "#are these numeric?\n",
    "'123'.isdigit()"
   ]
  },
  {
   "cell_type": "code",
   "execution_count": 46,
   "id": "e235c3fd",
   "metadata": {},
   "outputs": [
    {
     "data": {
      "text/plain": [
       "False"
      ]
     },
     "execution_count": 46,
     "metadata": {},
     "output_type": "execute_result"
    }
   ],
   "source": [
    "#is this numeric?\n",
    "'s'.isdigit()"
   ]
  },
  {
   "cell_type": "code",
   "execution_count": 47,
   "id": "e11d068a",
   "metadata": {},
   "outputs": [
    {
     "data": {
      "text/plain": [
       "False"
      ]
     },
     "execution_count": 47,
     "metadata": {},
     "output_type": "execute_result"
    }
   ],
   "source": [
    "'ADS134'.isdigit()"
   ]
  },
  {
   "cell_type": "code",
   "execution_count": 48,
   "id": "d856586d",
   "metadata": {},
   "outputs": [
    {
     "data": {
      "text/plain": [
       "['Hello', 'Quintela', \"you're\", 'the', 'best']"
      ]
     },
     "execution_count": 48,
     "metadata": {},
     "output_type": "execute_result"
    }
   ],
   "source": [
    "#adds commas on white space\n",
    "\"Hello Quintela you're the best\".split()"
   ]
  },
  {
   "cell_type": "code",
   "execution_count": 49,
   "id": "a16bb58b",
   "metadata": {},
   "outputs": [
    {
     "data": {
      "text/plain": [
       "['emp_id', 'first_name', 'last_name']"
      ]
     },
     "execution_count": 49,
     "metadata": {},
     "output_type": "execute_result"
    }
   ],
   "source": [
    "#separate on the commas\n",
    "'emp_id,first_name,last_name'.split(',')"
   ]
  },
  {
   "cell_type": "code",
   "execution_count": 50,
   "id": "4dfbb36a",
   "metadata": {},
   "outputs": [
    {
     "data": {
      "text/plain": [
       "['emp_id', 'first_name', 'last_name']"
      ]
     },
     "execution_count": 50,
     "metadata": {},
     "output_type": "execute_result"
    }
   ],
   "source": [
    "'emp_id,_first_name,_last_name'.split(',_')"
   ]
  },
  {
   "cell_type": "code",
   "execution_count": 51,
   "id": "5d26329a",
   "metadata": {},
   "outputs": [
    {
     "data": {
      "text/plain": [
       "'emp id'"
      ]
     },
     "execution_count": 51,
     "metadata": {},
     "output_type": "execute_result"
    }
   ],
   "source": [
    "#replace an underscore with a space\n",
    "'emp_id'.replace('_', ' ')"
   ]
  },
  {
   "cell_type": "code",
   "execution_count": 52,
   "id": "d101846f",
   "metadata": {},
   "outputs": [
    {
     "data": {
      "text/plain": [
       "'Hello Quintela'"
      ]
     },
     "execution_count": 52,
     "metadata": {},
     "output_type": "execute_result"
    }
   ],
   "source": [
    "#join on the comman, keep white space\n",
    "' '.join(['Hello', 'Quintela'])"
   ]
  },
  {
   "cell_type": "code",
   "execution_count": 53,
   "id": "cedda2e0",
   "metadata": {},
   "outputs": [
    {
     "data": {
      "text/plain": [
       "'HelloQuintela'"
      ]
     },
     "execution_count": 53,
     "metadata": {},
     "output_type": "execute_result"
    }
   ],
   "source": [
    "#join on the comman, no white space\n",
    "''.join(['Hello', 'Quintela'])"
   ]
  },
  {
   "cell_type": "markdown",
   "id": "535937bd",
   "metadata": {},
   "source": [
    "<hr style=\"border:1px solid gray\">"
   ]
  },
  {
   "cell_type": "markdown",
   "id": "03da12c3",
   "metadata": {},
   "source": [
    "### List\n",
    "Lists allow us to store a sequence of objects. Each item in a list is refered to as an element. The elements in a list can be any type (including another list), but it is most common to see lists where each element is the same type."
   ]
  },
  {
   "cell_type": "code",
   "execution_count": 54,
   "id": "9e6b3f7f",
   "metadata": {},
   "outputs": [
    {
     "data": {
      "text/plain": [
       "[1, 2, 3]"
      ]
     },
     "execution_count": 54,
     "metadata": {},
     "output_type": "execute_result"
    }
   ],
   "source": [
    "#list of three numbers\n",
    "[1,2,3]"
   ]
  },
  {
   "cell_type": "code",
   "execution_count": 55,
   "id": "0072363c",
   "metadata": {},
   "outputs": [
    {
     "data": {
      "text/plain": [
       "['one', 'two', 'three']"
      ]
     },
     "execution_count": 55,
     "metadata": {},
     "output_type": "execute_result"
    }
   ],
   "source": [
    "#list of three strings\n",
    "['one','two','three']"
   ]
  },
  {
   "cell_type": "code",
   "execution_count": 56,
   "id": "5cf4ecd7",
   "metadata": {},
   "outputs": [
    {
     "data": {
      "text/plain": [
       "[[1, 2, 3], [1, 2, 3]]"
      ]
     },
     "execution_count": 56,
     "metadata": {},
     "output_type": "execute_result"
    }
   ],
   "source": [
    "#list of lists\n",
    "[[1, 2, 3], [1, 2, 3]]"
   ]
  },
  {
   "cell_type": "code",
   "execution_count": 57,
   "id": "da9cf12c",
   "metadata": {},
   "outputs": [],
   "source": [
    "number_list = [1, 2, 3]"
   ]
  },
  {
   "cell_type": "code",
   "execution_count": 58,
   "id": "8d9169c2",
   "metadata": {},
   "outputs": [
    {
     "data": {
      "text/plain": [
       "1"
      ]
     },
     "execution_count": 58,
     "metadata": {},
     "output_type": "execute_result"
    }
   ],
   "source": [
    "#call the specific item in that list using index\n",
    "number_list[0]"
   ]
  },
  {
   "cell_type": "code",
   "execution_count": 59,
   "id": "5eb8c54e",
   "metadata": {},
   "outputs": [
    {
     "ename": "IndexError",
     "evalue": "list index out of range",
     "output_type": "error",
     "traceback": [
      "\u001b[0;31m---------------------------------------------------------------------------\u001b[0m",
      "\u001b[0;31mIndexError\u001b[0m                                Traceback (most recent call last)",
      "Input \u001b[0;32mIn [59]\u001b[0m, in \u001b[0;36m<cell line: 2>\u001b[0;34m()\u001b[0m\n\u001b[1;32m      1\u001b[0m \u001b[38;5;66;03m#what if that index doesnt exist?\u001b[39;00m\n\u001b[0;32m----> 2\u001b[0m \u001b[43mnumber_list\u001b[49m\u001b[43m[\u001b[49m\u001b[38;5;241;43m3\u001b[39;49m\u001b[43m]\u001b[49m\n",
      "\u001b[0;31mIndexError\u001b[0m: list index out of range"
     ]
    }
   ],
   "source": [
    "#what if that index doesnt exist?\n",
    "number_list[3]"
   ]
  },
  {
   "cell_type": "markdown",
   "id": "186a8b83",
   "metadata": {},
   "source": [
    "<b>Slices of a list can be obtained by using a ```:``` to indicate a range inside of the square brackets"
   ]
  },
  {
   "cell_type": "code",
   "execution_count": 60,
   "id": "7f6cf55e",
   "metadata": {},
   "outputs": [
    {
     "data": {
      "text/plain": [
       "[1, 2]"
      ]
     },
     "execution_count": 60,
     "metadata": {},
     "output_type": "execute_result"
    }
   ],
   "source": [
    "#everything up to, but not including, the element at index 2\n",
    "number_list[:2] "
   ]
  },
  {
   "cell_type": "code",
   "execution_count": 61,
   "id": "6a1ddc83",
   "metadata": {},
   "outputs": [
    {
     "data": {
      "text/plain": [
       "[2]"
      ]
     },
     "execution_count": 61,
     "metadata": {},
     "output_type": "execute_result"
    }
   ],
   "source": [
    "#everything from index 1 up to, but not including, index \n",
    "number_list[1:2] "
   ]
  },
  {
   "cell_type": "code",
   "execution_count": 62,
   "id": "e3c588cd",
   "metadata": {},
   "outputs": [
    {
     "data": {
      "text/plain": [
       "[2, 3]"
      ]
     },
     "execution_count": 62,
     "metadata": {},
     "output_type": "execute_result"
    }
   ],
   "source": [
    "#everything from index 1 to the end of the list\n",
    "number_list[1:] "
   ]
  },
  {
   "cell_type": "markdown",
   "id": "42645e36",
   "metadata": {},
   "source": [
    "<b>List of lists"
   ]
  },
  {
   "cell_type": "code",
   "execution_count": 63,
   "id": "ab3b2f1e",
   "metadata": {},
   "outputs": [],
   "source": [
    "my_list_of_list_of_numbers = [[1, 2, 3], [4, 5, 6]]"
   ]
  },
  {
   "cell_type": "code",
   "execution_count": 64,
   "id": "0ca03cf9",
   "metadata": {},
   "outputs": [
    {
     "data": {
      "text/plain": [
       "5"
      ]
     },
     "execution_count": 64,
     "metadata": {},
     "output_type": "execute_result"
    }
   ],
   "source": [
    "#outside in\n",
    "my_list_of_list_of_numbers[1][1]"
   ]
  },
  {
   "cell_type": "code",
   "execution_count": 65,
   "id": "ad8530a5",
   "metadata": {},
   "outputs": [
    {
     "data": {
      "text/plain": [
       "3"
      ]
     },
     "execution_count": 65,
     "metadata": {},
     "output_type": "execute_result"
    }
   ],
   "source": [
    "my_list_of_list_of_numbers[0][2]"
   ]
  },
  {
   "cell_type": "code",
   "execution_count": 66,
   "id": "0446fba3",
   "metadata": {},
   "outputs": [
    {
     "data": {
      "text/plain": [
       "[1, 2, 3]"
      ]
     },
     "execution_count": 66,
     "metadata": {},
     "output_type": "execute_result"
    }
   ],
   "source": [
    "my_list_of_list_of_numbers[0]"
   ]
  },
  {
   "cell_type": "markdown",
   "id": "a8555016",
   "metadata": {},
   "source": [
    "<b>List Operators\n",
    "- ```.append``` adds to a list\n",
    "- ```.pop``` removes from a list"
   ]
  },
  {
   "cell_type": "code",
   "execution_count": 67,
   "id": "556beda8",
   "metadata": {},
   "outputs": [],
   "source": [
    "number_list = [1, 2, 3]"
   ]
  },
  {
   "cell_type": "code",
   "execution_count": 68,
   "id": "3e540afb",
   "metadata": {},
   "outputs": [],
   "source": [
    "#add a number to the end of the list\n",
    "number_list.append(4) "
   ]
  },
  {
   "cell_type": "code",
   "execution_count": 69,
   "id": "4fad5dea",
   "metadata": {},
   "outputs": [
    {
     "data": {
      "text/plain": [
       "[1, 2, 3, 4]"
      ]
     },
     "execution_count": 69,
     "metadata": {},
     "output_type": "execute_result"
    }
   ],
   "source": [
    "number_list"
   ]
  },
  {
   "cell_type": "code",
   "execution_count": 70,
   "id": "4a50c12e",
   "metadata": {},
   "outputs": [
    {
     "data": {
      "text/plain": [
       "4"
      ]
     },
     "execution_count": 70,
     "metadata": {},
     "output_type": "execute_result"
    }
   ],
   "source": [
    "#remove the last number \n",
    "number_list.pop()"
   ]
  },
  {
   "cell_type": "code",
   "execution_count": 71,
   "id": "9e3c3f49",
   "metadata": {},
   "outputs": [
    {
     "data": {
      "text/plain": [
       "[1, 2, 3]"
      ]
     },
     "execution_count": 71,
     "metadata": {},
     "output_type": "execute_result"
    }
   ],
   "source": [
    "number_list"
   ]
  },
  {
   "cell_type": "code",
   "execution_count": 72,
   "id": "5468147c",
   "metadata": {},
   "outputs": [
    {
     "data": {
      "text/plain": [
       "2"
      ]
     },
     "execution_count": 72,
     "metadata": {},
     "output_type": "execute_result"
    }
   ],
   "source": [
    "#referencing the index\n",
    "number_list.pop(1) "
   ]
  },
  {
   "cell_type": "code",
   "execution_count": 73,
   "id": "d7c5123e",
   "metadata": {},
   "outputs": [
    {
     "data": {
      "text/plain": [
       "[1, 3]"
      ]
     },
     "execution_count": 73,
     "metadata": {},
     "output_type": "execute_result"
    }
   ],
   "source": [
    "number_list"
   ]
  },
  {
   "cell_type": "code",
   "execution_count": 74,
   "id": "74144dec",
   "metadata": {},
   "outputs": [],
   "source": [
    "list_of_numbers = [n for n in range(10)]"
   ]
  },
  {
   "cell_type": "code",
   "execution_count": 75,
   "id": "2dcce239",
   "metadata": {},
   "outputs": [
    {
     "data": {
      "text/plain": [
       "[0, 1, 2, 3, 4, 5, 6, 7, 8, 9]"
      ]
     },
     "execution_count": 75,
     "metadata": {},
     "output_type": "execute_result"
    }
   ],
   "source": [
    "list_of_numbers"
   ]
  },
  {
   "cell_type": "code",
   "execution_count": 76,
   "id": "574c1519",
   "metadata": {},
   "outputs": [],
   "source": [
    "#add 200 to the fourth index\n",
    "list_of_numbers[4] = 200"
   ]
  },
  {
   "cell_type": "code",
   "execution_count": 77,
   "id": "f8fa694a",
   "metadata": {
    "scrolled": true
   },
   "outputs": [
    {
     "data": {
      "text/plain": [
       "[0, 1, 2, 3, 200, 5, 6, 7, 8, 9]"
      ]
     },
     "execution_count": 77,
     "metadata": {},
     "output_type": "execute_result"
    }
   ],
   "source": [
    "#take a look\n",
    "list_of_numbers"
   ]
  },
  {
   "cell_type": "code",
   "execution_count": 78,
   "id": "4102eea3",
   "metadata": {},
   "outputs": [
    {
     "data": {
      "text/plain": [
       "10"
      ]
     },
     "execution_count": 78,
     "metadata": {},
     "output_type": "execute_result"
    }
   ],
   "source": [
    "#what if I want to know how many numbers are in my list?\n",
    "len(list_of_numbers)"
   ]
  },
  {
   "cell_type": "markdown",
   "id": "2dbd2f19",
   "metadata": {},
   "source": [
    "<b>Converting to a list</b>\n",
    "<br>\n",
    "There are many python functions that return an iterable, as opposed to a list. For example, the range function returns an iterable range object not a list. These type of objects can be converted to a list by using the ```list``` function."
   ]
  },
  {
   "cell_type": "code",
   "execution_count": 79,
   "id": "760a0afd",
   "metadata": {},
   "outputs": [
    {
     "data": {
      "text/plain": [
       "[0, 1, 2, 3, 4, 5, 6, 7, 8, 9]"
      ]
     },
     "execution_count": 79,
     "metadata": {},
     "output_type": "execute_result"
    }
   ],
   "source": [
    "#give me a list of numbers from 0-9\n",
    "list(range(10))"
   ]
  },
  {
   "cell_type": "code",
   "execution_count": 80,
   "id": "77d66cbd",
   "metadata": {},
   "outputs": [
    {
     "data": {
      "text/plain": [
       "[1, 2, 3, 4, 5, 6, 7, 8, 9, 10]"
      ]
     },
     "execution_count": 80,
     "metadata": {},
     "output_type": "execute_result"
    }
   ],
   "source": [
    "list(range(1, 11))"
   ]
  },
  {
   "cell_type": "code",
   "execution_count": 81,
   "id": "3a9179d1",
   "metadata": {},
   "outputs": [
    {
     "data": {
      "text/plain": [
       "[1, 3, 5, 7, 9]"
      ]
     },
     "execution_count": 81,
     "metadata": {},
     "output_type": "execute_result"
    }
   ],
   "source": [
    "#what if we want every other number\n",
    "list(range(1, 11,2))"
   ]
  },
  {
   "cell_type": "code",
   "execution_count": 82,
   "id": "fe1b1f14",
   "metadata": {},
   "outputs": [
    {
     "data": {
      "text/plain": [
       "['a', 'b', 'c', 'd', 'e']"
      ]
     },
     "execution_count": 82,
     "metadata": {},
     "output_type": "execute_result"
    }
   ],
   "source": [
    "#turn this string into a list of individual characters\n",
    "list('abcde')"
   ]
  },
  {
   "cell_type": "code",
   "execution_count": 83,
   "id": "49ef6330",
   "metadata": {},
   "outputs": [
    {
     "data": {
      "text/plain": [
       "['1', '2', '3']"
      ]
     },
     "execution_count": 83,
     "metadata": {},
     "output_type": "execute_result"
    }
   ],
   "source": [
    "#map is used to apply that string type to each item- iterates through\n",
    "list(map(str, [1, 2, 3]))"
   ]
  },
  {
   "cell_type": "code",
   "execution_count": 84,
   "id": "694556b0",
   "metadata": {},
   "outputs": [
    {
     "name": "stdout",
     "output_type": "stream",
     "text": [
      "1\n",
      "2\n",
      "3\n",
      "4\n",
      "5\n",
      "6\n",
      "7\n",
      "8\n",
      "9\n",
      "10\n"
     ]
    }
   ],
   "source": [
    "for number in range(1, 11):\n",
    "    print(number)"
   ]
  },
  {
   "cell_type": "markdown",
   "id": "7ed793e0",
   "metadata": {},
   "source": [
    "<b>List Comprehension"
   ]
  },
  {
   "cell_type": "code",
   "execution_count": 85,
   "id": "c447b0d4",
   "metadata": {},
   "outputs": [
    {
     "data": {
      "text/plain": [
       "[1, 2, 3, 4, 5, 6, 7, 8, 9, 10]"
      ]
     },
     "execution_count": 85,
     "metadata": {},
     "output_type": "execute_result"
    }
   ],
   "source": [
    "[n for n in range(1, 11)]"
   ]
  },
  {
   "cell_type": "code",
   "execution_count": 86,
   "id": "10372385",
   "metadata": {},
   "outputs": [
    {
     "data": {
      "text/plain": [
       "[2, 4, 6, 8, 10, 12, 14, 16, 18, 20]"
      ]
     },
     "execution_count": 86,
     "metadata": {},
     "output_type": "execute_result"
    }
   ],
   "source": [
    "[n * 2 for n in range(1, 11)]"
   ]
  },
  {
   "cell_type": "code",
   "execution_count": 87,
   "id": "ab691365",
   "metadata": {},
   "outputs": [
    {
     "data": {
      "text/plain": [
       "[4, 8, 12, 16, 20]"
      ]
     },
     "execution_count": 87,
     "metadata": {},
     "output_type": "execute_result"
    }
   ],
   "source": [
    "[n * 2 for n in range(1, 11) if n % 2 == 0]"
   ]
  },
  {
   "cell_type": "code",
   "execution_count": null,
   "id": "407dd8b8",
   "metadata": {},
   "outputs": [],
   "source": [
    "[n for n in range(1, 11) if n % 2 == 0]"
   ]
  },
  {
   "cell_type": "code",
   "execution_count": 88,
   "id": "15822976",
   "metadata": {},
   "outputs": [],
   "source": [
    "#range is inclusive of first number and exclusive of final number\n",
    "list_1 = [n for n in range(1, 11)]\n",
    "list_2 = [n * 2 for n in range(1, 11)]"
   ]
  },
  {
   "cell_type": "code",
   "execution_count": 89,
   "id": "892b7f42",
   "metadata": {},
   "outputs": [
    {
     "name": "stdout",
     "output_type": "stream",
     "text": [
      "[1, 2, 3, 4, 5, 6, 7, 8, 9, 10]\n",
      "[2, 4, 6, 8, 10, 12, 14, 16, 18, 20]\n"
     ]
    }
   ],
   "source": [
    "print(list_1) \n",
    "print(list_2)"
   ]
  },
  {
   "cell_type": "code",
   "execution_count": 90,
   "id": "449e0c6a",
   "metadata": {},
   "outputs": [
    {
     "data": {
      "text/plain": [
       "([1, 2, 3, 4, 5, 6, 7, 8, 9, 10], [2, 4, 6, 8, 10, 12, 14, 16, 18, 20])"
      ]
     },
     "execution_count": 90,
     "metadata": {},
     "output_type": "execute_result"
    }
   ],
   "source": [
    "list_1, list_2"
   ]
  },
  {
   "cell_type": "code",
   "execution_count": 94,
   "id": "1a24d30d",
   "metadata": {},
   "outputs": [
    {
     "data": {
      "text/plain": [
       "[1, 2, 3, 4, 5, 6, 7, 8, 9, 10, 2, 4, 6, 8, 10, 12, 14, 16, 18, 20]"
      ]
     },
     "execution_count": 94,
     "metadata": {},
     "output_type": "execute_result"
    }
   ],
   "source": [
    "#python will only read last \n",
    "list_1\n",
    "list_2"
   ]
  },
  {
   "cell_type": "code",
   "execution_count": 93,
   "id": "9427b89d",
   "metadata": {},
   "outputs": [
    {
     "name": "stdout",
     "output_type": "stream",
     "text": [
      "[1, 2, 3, 4, 5, 6, 7, 8, 9, 10]\n"
     ]
    },
    {
     "data": {
      "text/plain": [
       "[2, 4, 6, 8, 10, 12, 14, 16, 18, 20]"
      ]
     },
     "execution_count": 93,
     "metadata": {},
     "output_type": "execute_result"
    }
   ],
   "source": [
    "print(list_1)\n",
    "list_2"
   ]
  },
  {
   "cell_type": "markdown",
   "id": "968449eb",
   "metadata": {},
   "source": [
    "<hr style=\"border:1px solid gray\">"
   ]
  },
  {
   "cell_type": "markdown",
   "id": "cc568b60",
   "metadata": {},
   "source": [
    "### Tuples:\n",
    "<br>\n",
    "Tuples are like lists, except that they are immutable, meaning they <u>cannot</u> be changed. Once a tuple is created, it's length is fixed, and no more items can be added to it or removed from it."
   ]
  },
  {
   "cell_type": "markdown",
   "id": "fab2db4a",
   "metadata": {},
   "source": [
    "We can still use the index to access elements within the tuple"
   ]
  },
  {
   "cell_type": "code",
   "execution_count": 95,
   "id": "b70a5c4c",
   "metadata": {},
   "outputs": [],
   "source": [
    "my_tuple = (1, 2, 3)"
   ]
  },
  {
   "cell_type": "code",
   "execution_count": 96,
   "id": "37a93def",
   "metadata": {},
   "outputs": [
    {
     "data": {
      "text/plain": [
       "2"
      ]
     },
     "execution_count": 96,
     "metadata": {},
     "output_type": "execute_result"
    }
   ],
   "source": [
    "my_tuple[1]"
   ]
  },
  {
   "cell_type": "markdown",
   "id": "d6d31359",
   "metadata": {},
   "source": [
    "<hr style=\"border:1px solid gray\">"
   ]
  },
  {
   "cell_type": "markdown",
   "id": "55f32f17",
   "metadata": {},
   "source": [
    "### Dictionaries\n",
    "\n",
    "Dictionaries are a way to group values together and give a name to each value. The names for the values in a dictionary are sometimes called keys. It is common to refer to a dictionary as a group of key-value pairs.\n",
    "\n",
    "Dictionaries can be created by writing a dictionary literal, which is delimeted with curly braces, and the keys are separated from the values with a colon, and key-value pairs are separated by commas."
   ]
  },
  {
   "cell_type": "code",
   "execution_count": 97,
   "id": "8c9b732e",
   "metadata": {},
   "outputs": [
    {
     "data": {
      "text/plain": [
       "{'name': 'Codeup', 'age': 4}"
      ]
     },
     "execution_count": 97,
     "metadata": {},
     "output_type": "execute_result"
    }
   ],
   "source": [
    "{'name': 'Codeup', 'age': 4}"
   ]
  },
  {
   "cell_type": "markdown",
   "id": "03cc4146",
   "metadata": {},
   "source": [
    "We can create dictionaries using the ```dict``` function"
   ]
  },
  {
   "cell_type": "code",
   "execution_count": 98,
   "id": "51f1e86b",
   "metadata": {},
   "outputs": [
    {
     "data": {
      "text/plain": [
       "{'name': 'Codeup', 'age': 4}"
      ]
     },
     "execution_count": 98,
     "metadata": {},
     "output_type": "execute_result"
    }
   ],
   "source": [
    "dict(name='Codeup', age=4)"
   ]
  },
  {
   "cell_type": "markdown",
   "id": "0ca87a56",
   "metadata": {},
   "source": [
    "<b>Accessing dictionaries"
   ]
  },
  {
   "cell_type": "code",
   "execution_count": 99,
   "id": "eaa056b6",
   "metadata": {},
   "outputs": [
    {
     "data": {
      "text/plain": [
       "{'name': 'Codeup', 'age': 9}"
      ]
     },
     "execution_count": 99,
     "metadata": {},
     "output_type": "execute_result"
    }
   ],
   "source": [
    "school = dict(name='Codeup', age=9)\n",
    "\n",
    "school"
   ]
  },
  {
   "cell_type": "code",
   "execution_count": 100,
   "id": "a71e6345",
   "metadata": {},
   "outputs": [
    {
     "data": {
      "text/plain": [
       "'Codeup'"
      ]
     },
     "execution_count": 100,
     "metadata": {},
     "output_type": "execute_result"
    }
   ],
   "source": [
    "#give me just the name\n",
    "school['name']"
   ]
  },
  {
   "cell_type": "code",
   "execution_count": 101,
   "id": "7875de99",
   "metadata": {},
   "outputs": [],
   "source": [
    "#add 1 to the age\n",
    "school['age'] += 1"
   ]
  },
  {
   "cell_type": "code",
   "execution_count": 102,
   "id": "db51fc21",
   "metadata": {},
   "outputs": [
    {
     "data": {
      "text/plain": [
       "{'name': 'Codeup', 'age': 10}"
      ]
     },
     "execution_count": 102,
     "metadata": {},
     "output_type": "execute_result"
    }
   ],
   "source": [
    "#now what do we get\n",
    "school"
   ]
  },
  {
   "cell_type": "code",
   "execution_count": 103,
   "id": "1c23f1a2",
   "metadata": {},
   "outputs": [
    {
     "data": {
      "text/plain": [
       "10"
      ]
     },
     "execution_count": 103,
     "metadata": {},
     "output_type": "execute_result"
    }
   ],
   "source": [
    "school['age']"
   ]
  },
  {
   "cell_type": "code",
   "execution_count": 104,
   "id": "18c36aa8",
   "metadata": {},
   "outputs": [],
   "source": [
    "#what if the dictionary is more complex?\n",
    "about_tasha = {\n",
    "    'name': 'Tasha',\n",
    "    'age': 36,\n",
    "    'favorite color': 'Purple',\n",
    "    'favorite numbers': [3, 33],\n",
    "    'other': {\n",
    "        'dogs': ['Marley', 'Mazi'],\n",
    "        'cars': ['Tiggy', 'Rusto'],\n",
    "        'school': ['Codeup']\n",
    "    }\n",
    "}"
   ]
  },
  {
   "cell_type": "code",
   "execution_count": 105,
   "id": "afff9469",
   "metadata": {},
   "outputs": [
    {
     "data": {
      "text/plain": [
       "'Tasha'"
      ]
     },
     "execution_count": 105,
     "metadata": {},
     "output_type": "execute_result"
    }
   ],
   "source": [
    "about_tasha['name']"
   ]
  },
  {
   "cell_type": "code",
   "execution_count": 106,
   "id": "46340cf2",
   "metadata": {},
   "outputs": [
    {
     "data": {
      "text/plain": [
       "36"
      ]
     },
     "execution_count": 106,
     "metadata": {},
     "output_type": "execute_result"
    }
   ],
   "source": [
    "about_tasha['age']"
   ]
  },
  {
   "cell_type": "code",
   "execution_count": 107,
   "id": "d6617b7c",
   "metadata": {},
   "outputs": [
    {
     "data": {
      "text/plain": [
       "[3, 33]"
      ]
     },
     "execution_count": 107,
     "metadata": {},
     "output_type": "execute_result"
    }
   ],
   "source": [
    "about_tasha['favorite numbers']"
   ]
  },
  {
   "cell_type": "code",
   "execution_count": 108,
   "id": "d18e1c5b",
   "metadata": {},
   "outputs": [
    {
     "data": {
      "text/plain": [
       "['Marley', 'Mazi']"
      ]
     },
     "execution_count": 108,
     "metadata": {},
     "output_type": "execute_result"
    }
   ],
   "source": [
    "about_tasha['other']['dogs']"
   ]
  },
  {
   "cell_type": "code",
   "execution_count": 113,
   "id": "8bb0acdc",
   "metadata": {},
   "outputs": [],
   "source": [
    "about_tasha['other']['cars'].append('rover')"
   ]
  },
  {
   "cell_type": "code",
   "execution_count": 111,
   "id": "d72ab6b2",
   "metadata": {},
   "outputs": [
    {
     "data": {
      "text/plain": [
       "{'name': 'Tasha',\n",
       " 'age': 36,\n",
       " 'favorite color': 'Purple',\n",
       " 'favorite numbers': [3, 33],\n",
       " 'other': {'dogs': ['Marley', 'Mazi'],\n",
       "  'cars': ['Tiggy', 'Rusto', 'rover'],\n",
       "  'school': ['Codeup']}}"
      ]
     },
     "execution_count": 111,
     "metadata": {},
     "output_type": "execute_result"
    }
   ],
   "source": [
    "about_tasha"
   ]
  },
  {
   "cell_type": "code",
   "execution_count": 114,
   "id": "53798e3f",
   "metadata": {},
   "outputs": [],
   "source": [
    "#adding another component to other\n",
    "about_tasha['other']['house'] = ['SA', 'Zaragoza']"
   ]
  },
  {
   "cell_type": "code",
   "execution_count": 115,
   "id": "e38eea96",
   "metadata": {},
   "outputs": [],
   "source": [
    "#forgot to add height to my about me\n",
    "about_tasha['height'] = 60"
   ]
  },
  {
   "cell_type": "code",
   "execution_count": 116,
   "id": "9cc9d690",
   "metadata": {},
   "outputs": [
    {
     "data": {
      "text/plain": [
       "{'name': 'Tasha',\n",
       " 'age': 36,\n",
       " 'favorite color': 'Purple',\n",
       " 'favorite numbers': [3, 33],\n",
       " 'other': {'dogs': ['Marley', 'Mazi'],\n",
       "  'cars': ['Tiggy', 'Rusto', 'rover', 'rover'],\n",
       "  'school': ['Codeup'],\n",
       "  'house': ['SA', 'Zaragoza']},\n",
       " 'height': 60}"
      ]
     },
     "execution_count": 116,
     "metadata": {},
     "output_type": "execute_result"
    }
   ],
   "source": [
    "about_tasha"
   ]
  },
  {
   "cell_type": "code",
   "execution_count": 117,
   "id": "d5cc48cc",
   "metadata": {},
   "outputs": [
    {
     "data": {
      "text/plain": [
       "dict_keys(['name', 'age', 'favorite color', 'favorite numbers', 'other', 'height'])"
      ]
     },
     "execution_count": 117,
     "metadata": {},
     "output_type": "execute_result"
    }
   ],
   "source": [
    "#what if I need to see all the keys in this dictionary?\n",
    "about_tasha.keys()"
   ]
  },
  {
   "cell_type": "markdown",
   "id": "868251fa",
   "metadata": {},
   "source": [
    "<hr style=\"border:1px solid black\">"
   ]
  },
  {
   "cell_type": "markdown",
   "id": "e9c5eecb",
   "metadata": {},
   "source": [
    "## Variables:\n",
    "A variable associates an object with a human readable name. Variables are created by choosing a valid identifier and using the assignment operator, ```=```."
   ]
  },
  {
   "cell_type": "markdown",
   "id": "baf0541d",
   "metadata": {},
   "source": [
    "<b>Assigning a variable"
   ]
  },
  {
   "cell_type": "code",
   "execution_count": 118,
   "id": "924dce9e",
   "metadata": {},
   "outputs": [],
   "source": [
    "x = 1"
   ]
  },
  {
   "cell_type": "code",
   "execution_count": 119,
   "id": "20586b27",
   "metadata": {},
   "outputs": [
    {
     "data": {
      "text/plain": [
       "1"
      ]
     },
     "execution_count": 119,
     "metadata": {},
     "output_type": "execute_result"
    }
   ],
   "source": [
    "x"
   ]
  },
  {
   "cell_type": "code",
   "execution_count": 120,
   "id": "f9ecd441",
   "metadata": {},
   "outputs": [],
   "source": [
    "is_first_of_month = True\n",
    "report_has_been_sent = False"
   ]
  },
  {
   "cell_type": "code",
   "execution_count": 121,
   "id": "8dd1e9ff",
   "metadata": {},
   "outputs": [
    {
     "data": {
      "text/plain": [
       "True"
      ]
     },
     "execution_count": 121,
     "metadata": {},
     "output_type": "execute_result"
    }
   ],
   "source": [
    "is_first_of_month"
   ]
  },
  {
   "cell_type": "code",
   "execution_count": 122,
   "id": "8cd7ff4d",
   "metadata": {},
   "outputs": [],
   "source": [
    "should_process_report = is_first_of_month and not report_has_been_sent"
   ]
  },
  {
   "cell_type": "code",
   "execution_count": 123,
   "id": "56afd6fc",
   "metadata": {},
   "outputs": [
    {
     "name": "stdout",
     "output_type": "stream",
     "text": [
      "True\n"
     ]
    }
   ],
   "source": [
    "print(should_process_report)"
   ]
  }
 ],
 "metadata": {
  "kernelspec": {
   "display_name": "Python 3 (ipykernel)",
   "language": "python",
   "name": "python3"
  },
  "language_info": {
   "codemirror_mode": {
    "name": "ipython",
    "version": 3
   },
   "file_extension": ".py",
   "mimetype": "text/x-python",
   "name": "python",
   "nbconvert_exporter": "python",
   "pygments_lexer": "ipython3",
   "version": "3.9.13"
  }
 },
 "nbformat": 4,
 "nbformat_minor": 5
}
