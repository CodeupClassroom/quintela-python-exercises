{
 "cells": [
  {
   "cell_type": "markdown",
   "id": "f4477ab5",
   "metadata": {},
   "source": [
    "# Import Exercises"
   ]
  },
  {
   "cell_type": "markdown",
   "id": "6682400e",
   "metadata": {},
   "source": [
    "<hr style=\"border:2px solid gray\">"
   ]
  },
  {
   "cell_type": "markdown",
   "id": "fd3f901d",
   "metadata": {},
   "source": [
    "1. Import and test 3 of the functions from your functions exercise file. Import each function in a different way:\n",
    "\n",
    "- a. Run an interactive python session and import the module. Call the is_vowel function using the . syntax.\n",
    "- b. Create a file named import_exericses.py. Within this file, use from to import the calculate_tip function directly. Call this function with values you choose and print the result.\n",
    "- c. Create a jupyter notebook named import_exercises.ipynb. Use from to import the get_letter_grade function and give it an alias. Test this function in your notebook.\n",
    "\n",
    "Make sure your code that tests the function imports is run from the same directory that your functions exercise file is in.\n",
    "\n",
    "2. Read about and use the ```itertools``` module from the python standard library to help you solve the following problems. Note: Many of these functions in this library return an object, to see the results of the function, cast this object as a list.\n",
    "\n",
    "- a. How many different ways can you combine a single letter from \"abc\" with either 1, 2, or 3?\n",
    "- b. How many different combinations are there of 2 letters from \"abcd\"?\n",
    "- c. How many different permutations are there of 2 letters from \"abcd\"?\n",
    "\n",
    "3. Save this file as ```profiles.json``` inside of your exercises directory (right click -> save file as...).\n",
    "\n",
    "Use the ```load``` function from the ```json``` module to open this file.\n",
    "\n",
    "Your code should produce a list of dictionaries. Using this data, write some code that calculates and outputs the following information:\n",
    "\n",
    "- a. Total number of users\n",
    "- b. Number of active users\n",
    "- c. Number of inactive users\n",
    "- d. Grand total of balances for all users\n",
    "- e. Average balance per user\n",
    "- f. User with the lowest balance\n",
    "- g. User with the highest balance\n",
    "- h. Most common favorite fruit\n",
    "- i. Least most common favorite fruit\n",
    "- j. Total number of unread messages for all users"
   ]
  },
  {
   "cell_type": "markdown",
   "id": "1be8524c",
   "metadata": {},
   "source": [
    "<hr style=\"border:1px solid black\">\n",
    "<hr style=\"border:1px solid black\">"
   ]
  },
  {
   "cell_type": "markdown",
   "id": "cd276afd",
   "metadata": {},
   "source": [
    "<b> #1. Import and test 3 of the functions from your functions exercise file. Import each function in a different way:"
   ]
  },
  {
   "cell_type": "code",
   "execution_count": 1,
   "id": "c76fb89a",
   "metadata": {},
   "outputs": [],
   "source": [
    "import my_functions"
   ]
  },
  {
   "cell_type": "markdown",
   "id": "38efccd9",
   "metadata": {},
   "source": [
    "<b>1a. Run an interactive python session and import the module. Call the ```is_vowel``` function using the ```.``` syntax."
   ]
  },
  {
   "cell_type": "code",
   "execution_count": 2,
   "id": "26aa0aa6",
   "metadata": {},
   "outputs": [
    {
     "data": {
      "text/plain": [
       "True"
      ]
     },
     "execution_count": 2,
     "metadata": {},
     "output_type": "execute_result"
    }
   ],
   "source": [
    "#test the function/import\n",
    "my_functions.is_vowel('a')"
   ]
  },
  {
   "cell_type": "markdown",
   "id": "652b3485",
   "metadata": {},
   "source": [
    "<hr style=\"border:1px solid grey\">"
   ]
  },
  {
   "cell_type": "markdown",
   "id": "49faf721",
   "metadata": {},
   "source": [
    "<b>1b. Create a file named ```import_exericses.py```. Within this file, use ```from``` to import the ```calculate_tip``` function directly. Call this function with values you choose and print the result."
   ]
  },
  {
   "cell_type": "code",
   "execution_count": 3,
   "id": "17048ffa",
   "metadata": {},
   "outputs": [],
   "source": [
    "from my_functions import calculate_tip"
   ]
  },
  {
   "cell_type": "code",
   "execution_count": 4,
   "id": "d615c23f",
   "metadata": {},
   "outputs": [
    {
     "data": {
      "text/plain": [
       "20.0"
      ]
     },
     "execution_count": 4,
     "metadata": {},
     "output_type": "execute_result"
    }
   ],
   "source": [
    "#test the function/import\n",
    "calculate_tip(bill= 100, tip_perc=.20)"
   ]
  },
  {
   "cell_type": "markdown",
   "id": "75f466bb",
   "metadata": {},
   "source": [
    "<hr style=\"border:1px solid grey\">"
   ]
  },
  {
   "cell_type": "markdown",
   "id": "cb16e2cc",
   "metadata": {},
   "source": [
    "<b>1c. Create a jupyter notebook named import_exercises.ipynb. Use ```from``` to import the ```get_letter_grade``` function and give it an alias. Test this function in your notebook."
   ]
  },
  {
   "cell_type": "code",
   "execution_count": 5,
   "id": "1d2a8c24",
   "metadata": {},
   "outputs": [],
   "source": [
    "from my_functions import get_letter_grade as lg"
   ]
  },
  {
   "cell_type": "code",
   "execution_count": 6,
   "id": "b4e6456f",
   "metadata": {},
   "outputs": [
    {
     "data": {
      "text/plain": [
       "'B'"
      ]
     },
     "execution_count": 6,
     "metadata": {},
     "output_type": "execute_result"
    }
   ],
   "source": [
    "lg(82)"
   ]
  },
  {
   "cell_type": "markdown",
   "id": "0a0fbc55",
   "metadata": {},
   "source": [
    "<hr style=\"border:1px solid black\">"
   ]
  },
  {
   "cell_type": "markdown",
   "id": "a366abca",
   "metadata": {},
   "source": [
    "<b> #2. Read about and use the ```itertools``` module from the python standard library to help you solve the following problems. Note: Many of these functions in this library return an object, to see the results of the function, cast this object as a list."
   ]
  },
  {
   "cell_type": "code",
   "execution_count": 7,
   "id": "8d79f078",
   "metadata": {},
   "outputs": [],
   "source": [
    "#alias our import\n",
    "import itertools as it"
   ]
  },
  {
   "cell_type": "markdown",
   "id": "8e8dca9b",
   "metadata": {},
   "source": [
    "<b>2a.How many different ways can you combine a single letter from \"abc\" with either 1, 2, or 3?"
   ]
  },
  {
   "cell_type": "code",
   "execution_count": 8,
   "id": "8e076ea1",
   "metadata": {},
   "outputs": [
    {
     "data": {
      "text/plain": [
       "[('a', 1),\n",
       " ('a', 2),\n",
       " ('a', 3),\n",
       " ('b', 1),\n",
       " ('b', 2),\n",
       " ('b', 3),\n",
       " ('c', 1),\n",
       " ('c', 2),\n",
       " ('c', 3)]"
      ]
     },
     "execution_count": 8,
     "metadata": {},
     "output_type": "execute_result"
    }
   ],
   "source": [
    "list(it.product('abc', [1,2,3]))"
   ]
  },
  {
   "cell_type": "code",
   "execution_count": 9,
   "id": "c6760e2a",
   "metadata": {},
   "outputs": [
    {
     "data": {
      "text/plain": [
       "9"
      ]
     },
     "execution_count": 9,
     "metadata": {},
     "output_type": "execute_result"
    }
   ],
   "source": [
    "len(list(it.product('abc', [1,2,3])))"
   ]
  },
  {
   "cell_type": "markdown",
   "id": "97ee761b",
   "metadata": {},
   "source": [
    "<hr style=\"border:1px solid grey\">"
   ]
  },
  {
   "cell_type": "markdown",
   "id": "ebfff53d",
   "metadata": {},
   "source": [
    "<b>2b. How many different combinations are there of 2 letters from \"abcd\"?"
   ]
  },
  {
   "cell_type": "code",
   "execution_count": 10,
   "id": "6b001242",
   "metadata": {},
   "outputs": [
    {
     "data": {
      "text/plain": [
       "[('a', 'b'), ('a', 'c'), ('a', 'd'), ('b', 'c'), ('b', 'd'), ('c', 'd')]"
      ]
     },
     "execution_count": 10,
     "metadata": {},
     "output_type": "execute_result"
    }
   ],
   "source": [
    "list(it.combinations('abcd', 2))"
   ]
  },
  {
   "cell_type": "code",
   "execution_count": 11,
   "id": "7c6b5c57",
   "metadata": {},
   "outputs": [
    {
     "data": {
      "text/plain": [
       "6"
      ]
     },
     "execution_count": 11,
     "metadata": {},
     "output_type": "execute_result"
    }
   ],
   "source": [
    "len(list(it.combinations('abcd', 2)))"
   ]
  },
  {
   "cell_type": "markdown",
   "id": "33a3a132",
   "metadata": {},
   "source": [
    "<hr style=\"border:1px solid grey\">"
   ]
  },
  {
   "cell_type": "markdown",
   "id": "ddc3eb1f",
   "metadata": {},
   "source": [
    "<b>2c.How many different permutations are there of 2 letters from \"abcd\"?"
   ]
  },
  {
   "cell_type": "code",
   "execution_count": 12,
   "id": "900717c9",
   "metadata": {},
   "outputs": [
    {
     "data": {
      "text/plain": [
       "[('a', 'b'),\n",
       " ('a', 'c'),\n",
       " ('a', 'd'),\n",
       " ('b', 'a'),\n",
       " ('b', 'c'),\n",
       " ('b', 'd'),\n",
       " ('c', 'a'),\n",
       " ('c', 'b'),\n",
       " ('c', 'd'),\n",
       " ('d', 'a'),\n",
       " ('d', 'b'),\n",
       " ('d', 'c')]"
      ]
     },
     "execution_count": 12,
     "metadata": {},
     "output_type": "execute_result"
    }
   ],
   "source": [
    "list(it.permutations('abcd', 2))"
   ]
  },
  {
   "cell_type": "code",
   "execution_count": 13,
   "id": "2e0af713",
   "metadata": {},
   "outputs": [
    {
     "data": {
      "text/plain": [
       "12"
      ]
     },
     "execution_count": 13,
     "metadata": {},
     "output_type": "execute_result"
    }
   ],
   "source": [
    "len(list(it.permutations('abcd', 2)))"
   ]
  },
  {
   "cell_type": "markdown",
   "id": "cd2e8126",
   "metadata": {},
   "source": [
    "<div class=\"alert alert-block alert-info\">\n",
    "<b>NOTE:</b> \n",
    "<br>\n",
    "    <u>Combinations vs Permutations:</u>\n",
    "    \n",
    "- Combinations- non-repeating combinations\n",
    "- Permutations- every combination in every order\n",
    "\n",
    "</div>"
   ]
  },
  {
   "cell_type": "markdown",
   "id": "647d5c55",
   "metadata": {},
   "source": [
    "![](itertools.png)"
   ]
  },
  {
   "cell_type": "markdown",
   "id": "959dd2c2",
   "metadata": {},
   "source": [
    "<hr style=\"border:1px solid black\">"
   ]
  },
  {
   "cell_type": "markdown",
   "id": "de2537ac",
   "metadata": {},
   "source": [
    "<b> #3. Save this file as ```profiles.json``` inside of your exercises directory (right click -> save file as...)."
   ]
  },
  {
   "cell_type": "markdown",
   "id": "b42c53f0",
   "metadata": {},
   "source": [
    "Use the ```load``` function from the json module to open this file."
   ]
  },
  {
   "cell_type": "code",
   "execution_count": 14,
   "id": "e4b7c611",
   "metadata": {},
   "outputs": [],
   "source": [
    "import json\n",
    "\n",
    "profiles = json.load(open('profiles.json'))"
   ]
  },
  {
   "cell_type": "markdown",
   "id": "1a881eeb",
   "metadata": {},
   "source": [
    "Your code should produce a list of dictionaries. Using this data, write some code that calculates and outputs the following information:"
   ]
  },
  {
   "cell_type": "code",
   "execution_count": 15,
   "id": "e8fd8615",
   "metadata": {},
   "outputs": [
    {
     "data": {
      "text/plain": [
       "[{'_id': '54e23c3e46ab53a440b580e8',\n",
       "  'index': 0,\n",
       "  'guid': '9962b468-ef3e-4993-b677-617469bc3008',\n",
       "  'isActive': False,\n",
       "  'balance': '$2,097.02',\n",
       "  'picture': 'http://placehold.it/32x32',\n",
       "  'age': 39,\n",
       "  'eyeColor': 'blue',\n",
       "  'name': 'Hebert Estes',\n",
       "  'gender': 'male',\n",
       "  'company': 'ANDRYX',\n",
       "  'email': 'hebertestes@andryx.com',\n",
       "  'phone': '+1 (866) 456-2268',\n",
       "  'address': '121 Emmons Avenue, Klondike, Kentucky, 5975',\n",
       "  'about': 'Sit cillum deserunt irure laboris tempor fugiat laboris. Amet commodo amet est incididunt. Dolore qui fugiat cillum pariatur dolore excepteur elit ipsum.\\r\\n',\n",
       "  'registered': '2014-11-10T01:44:03 +06:00',\n",
       "  'latitude': -80.157843,\n",
       "  'longitude': 161.93016,\n",
       "  'tags': ['sit', 'occaecat', 'non', 'ea', 'sit', 'laboris', 'exercitation'],\n",
       "  'friends': [{'id': 0, 'name': 'Tanisha Leonard'},\n",
       "   {'id': 1, 'name': 'Dennis Wilson'},\n",
       "   {'id': 2, 'name': 'Lupe Howe'}],\n",
       "  'greeting': 'Hello, Hebert Estes! You have 4 unread messages.',\n",
       "  'favoriteFruit': 'strawberry'},\n",
       " {'_id': '54e23c3ef5cc0d250968c212',\n",
       "  'index': 1,\n",
       "  'guid': '905f849d-49bf-4a57-b4f3-5d6e4bf1b04c',\n",
       "  'isActive': False,\n",
       "  'balance': '$3,654.02',\n",
       "  'picture': 'http://placehold.it/32x32',\n",
       "  'age': 30,\n",
       "  'eyeColor': 'green',\n",
       "  'name': 'Allison Wynn',\n",
       "  'gender': 'male',\n",
       "  'company': 'PHARMACON',\n",
       "  'email': 'allisonwynn@pharmacon.com',\n",
       "  'phone': '+1 (926) 525-3131',\n",
       "  'address': '724 Brevoort Place, Lodoga, Indiana, 3880',\n",
       "  'about': 'Esse quis cillum sunt occaecat ad et eu incididunt aliquip dolor. Adipisicing labore magna anim cillum nisi. Elit mollit consequat velit nulla cillum excepteur elit ullamco deserunt. Anim aliquip Lorem excepteur ad veniam et labore in qui ullamco. Occaecat sit do incididunt voluptate id magna ea amet.\\r\\n',\n",
       "  'registered': '2014-06-10T13:41:26 +05:00',\n",
       "  'latitude': 55.737207,\n",
       "  'longitude': -167.177561,\n",
       "  'tags': ['enim',\n",
       "   'officia',\n",
       "   'laboris',\n",
       "   'irure',\n",
       "   'veniam',\n",
       "   'occaecat',\n",
       "   'pariatur'],\n",
       "  'friends': [{'id': 0, 'name': 'Curry Cox'},\n",
       "   {'id': 1, 'name': 'Alma Dale'},\n",
       "   {'id': 2, 'name': 'Barbara Mayo'}],\n",
       "  'greeting': 'Hello, Allison Wynn! You have 19 unread messages.',\n",
       "  'favoriteFruit': 'apple'},\n",
       " {'_id': '54e23c3e09cc6875638cd36b',\n",
       "  'index': 2,\n",
       "  'guid': '1b042d48-9cfa-4db5-8b60-4104165591c3',\n",
       "  'isActive': True,\n",
       "  'balance': '$1,536.02',\n",
       "  'picture': 'http://placehold.it/32x32',\n",
       "  'age': 31,\n",
       "  'eyeColor': 'brown',\n",
       "  'name': 'Jacobs Floyd',\n",
       "  'gender': 'male',\n",
       "  'company': 'QUONK',\n",
       "  'email': 'jacobsfloyd@quonk.com',\n",
       "  'phone': '+1 (853) 537-3315',\n",
       "  'address': '941 Cox Place, Bluffview, Georgia, 5882',\n",
       "  'about': 'Deserunt adipisicing proident exercitation cillum anim consectetur labore exercitation. Commodo reprehenderit laborum enim exercitation. Ullamco nulla culpa aliqua nisi fugiat consectetur deserunt nostrud in eu.\\r\\n',\n",
       "  'registered': '2014-07-30T03:17:32 +05:00',\n",
       "  'latitude': 30.215667,\n",
       "  'longitude': 68.831905,\n",
       "  'tags': ['est', 'aute', 'laborum', 'sint', 'anim', 'sit', 'consectetur'],\n",
       "  'friends': [{'id': 0, 'name': 'Robles Chan'},\n",
       "   {'id': 1, 'name': 'Whitfield Strickland'},\n",
       "   {'id': 2, 'name': 'Lina Melton'}],\n",
       "  'greeting': 'Hello, Jacobs Floyd! You have 5 unread messages.',\n",
       "  'favoriteFruit': 'apple'},\n",
       " {'_id': '54e23c3e54e4094147a3b1da',\n",
       "  'index': 3,\n",
       "  'guid': '69eb3454-8acc-46f1-a636-c6df00dfb542',\n",
       "  'isActive': False,\n",
       "  'balance': '$3,919.64',\n",
       "  'picture': 'http://placehold.it/32x32',\n",
       "  'age': 20,\n",
       "  'eyeColor': 'green',\n",
       "  'name': 'Fay Hammond',\n",
       "  'gender': 'female',\n",
       "  'company': 'INRT',\n",
       "  'email': 'fayhammond@inrt.com',\n",
       "  'phone': '+1 (922) 429-2592',\n",
       "  'address': '518 Randolph Street, Whitestone, Arizona, 8189',\n",
       "  'about': 'Aliqua sunt exercitation quis cupidatat fugiat nulla laboris occaecat ut reprehenderit qui incididunt. Amet excepteur qui amet mollit sint enim velit est dolor eu. Velit labore ea aute ipsum consequat culpa cupidatat excepteur aliqua. Sit commodo id est deserunt commodo. Labore sit deserunt enim in dolore incididunt. Officia qui est veniam cillum consequat minim duis Lorem esse magna culpa cupidatat cupidatat enim. Amet eiusmod elit qui reprehenderit commodo quis.\\r\\n',\n",
       "  'registered': '2015-01-30T08:05:38 +06:00',\n",
       "  'latitude': 33.825844,\n",
       "  'longitude': -65.969538,\n",
       "  'tags': ['aliqua', 'esse', 'sint', 'pariatur', 'commodo', 'do', 'anim'],\n",
       "  'friends': [{'id': 0, 'name': 'Dudley Booker'},\n",
       "   {'id': 1, 'name': 'Esmeralda Tyler'},\n",
       "   {'id': 2, 'name': 'Rosa Hampton'}],\n",
       "  'greeting': 'Hello, Fay Hammond! You have 10 unread messages.',\n",
       "  'favoriteFruit': 'banana'},\n",
       " {'_id': '54e23c3e177caf5567ba87ac',\n",
       "  'index': 4,\n",
       "  'guid': '97962c85-7700-4ffa-a01e-2fcbc147fd81',\n",
       "  'isActive': False,\n",
       "  'balance': '$3,681.39',\n",
       "  'picture': 'http://placehold.it/32x32',\n",
       "  'age': 39,\n",
       "  'eyeColor': 'green',\n",
       "  'name': 'Chasity Marsh',\n",
       "  'gender': 'female',\n",
       "  'company': 'WAZZU',\n",
       "  'email': 'chasitymarsh@wazzu.com',\n",
       "  'phone': '+1 (976) 425-2362',\n",
       "  'address': '604 Just Court, Eastvale, Federated States Of Micronesia, 8644',\n",
       "  'about': 'Irure excepteur consequat esse qui tempor deserunt nulla fugiat. Ut excepteur do veniam dolore dolor proident sunt voluptate ad ipsum nisi. Lorem proident deserunt Lorem cupidatat dolor nulla qui id aliqua. Et nulla laborum deserunt tempor ad culpa. Ullamco occaecat adipisicing dolore laborum laborum duis aliqua nisi irure ex. Incididunt tempor Lorem quis dolore.\\r\\n',\n",
       "  'registered': '2014-07-31T06:03:19 +05:00',\n",
       "  'latitude': -31.660978,\n",
       "  'longitude': 37.559095,\n",
       "  'tags': ['aliquip', 'duis', 'irure', 'amet', 'aliquip', 'dolore', 'esse'],\n",
       "  'friends': [{'id': 0, 'name': 'Kristina Glover'},\n",
       "   {'id': 1, 'name': 'Ora Christian'},\n",
       "   {'id': 2, 'name': 'Jacklyn Joseph'}],\n",
       "  'greeting': 'Hello, Chasity Marsh! You have 9 unread messages.',\n",
       "  'favoriteFruit': 'apple'},\n",
       " {'_id': '54e23c3eaffbb506aa15ec1c',\n",
       "  'index': 5,\n",
       "  'guid': 'fc3e04d1-44c2-449e-891a-d4f8053d14a4',\n",
       "  'isActive': True,\n",
       "  'balance': '$1,694.42',\n",
       "  'picture': 'http://placehold.it/32x32',\n",
       "  'age': 30,\n",
       "  'eyeColor': 'brown',\n",
       "  'name': 'Camacho Cortez',\n",
       "  'gender': 'male',\n",
       "  'company': 'EARTHWAX',\n",
       "  'email': 'camachocortez@earthwax.com',\n",
       "  'phone': '+1 (869) 528-2019',\n",
       "  'address': '101 Haring Street, Nicut, Louisiana, 1473',\n",
       "  'about': 'Qui ad commodo elit voluptate cupidatat exercitation amet ea laborum sunt aliquip nisi irure. Veniam voluptate eiusmod sint aliquip ea. Voluptate voluptate Lorem nulla laborum eiusmod occaecat et nostrud sint in cillum reprehenderit magna nulla. Lorem id fugiat laborum qui mollit amet. Culpa officia ipsum nisi culpa in. Fugiat quis eu cupidatat non culpa in ea velit pariatur non in excepteur.\\r\\n',\n",
       "  'registered': '2014-03-17T12:04:00 +05:00',\n",
       "  'latitude': 74.434627,\n",
       "  'longitude': 69.527088,\n",
       "  'tags': ['et', 'sit', 'in', 'id', 'ullamco', 'elit', 'laborum'],\n",
       "  'friends': [{'id': 0, 'name': 'Sexton Tillman'},\n",
       "   {'id': 1, 'name': 'Boone Steele'},\n",
       "   {'id': 2, 'name': 'Elvia Ward'}],\n",
       "  'greeting': 'Hello, Camacho Cortez! You have 19 unread messages.',\n",
       "  'favoriteFruit': 'apple'},\n",
       " {'_id': '54e23c3e0fd8074c2ca52667',\n",
       "  'index': 6,\n",
       "  'guid': 'af8d9a03-fde9-4039-b20c-c4708d4cfc3c',\n",
       "  'isActive': False,\n",
       "  'balance': '$1,214.10',\n",
       "  'picture': 'http://placehold.it/32x32',\n",
       "  'age': 35,\n",
       "  'eyeColor': 'green',\n",
       "  'name': 'Avery Flynn',\n",
       "  'gender': 'male',\n",
       "  'company': 'TERSANKI',\n",
       "  'email': 'averyflynn@tersanki.com',\n",
       "  'phone': '+1 (966) 404-2471',\n",
       "  'address': '569 Oakland Place, Beyerville, Puerto Rico, 2395',\n",
       "  'about': 'Minim consequat anim ad et tempor et pariatur cillum ut. Ea Lorem consectetur sunt aliquip ea minim minim id dolore incididunt qui magna. Magna velit labore dolore voluptate ut aliquip esse qui est ipsum cupidatat duis enim. Sunt esse eiusmod cupidatat duis quis sunt anim dolore adipisicing enim dolore aliqua mollit. Commodo sit ad eiusmod reprehenderit.\\r\\n',\n",
       "  'registered': '2014-04-13T10:25:03 +05:00',\n",
       "  'latitude': -89.879409,\n",
       "  'longitude': 143.441709,\n",
       "  'tags': ['quis',\n",
       "   'esse',\n",
       "   'Lorem',\n",
       "   'minim',\n",
       "   'nostrud',\n",
       "   'voluptate',\n",
       "   'laborum'],\n",
       "  'friends': [{'id': 0, 'name': 'Ball Henson'},\n",
       "   {'id': 1, 'name': 'Dalton Mccoy'},\n",
       "   {'id': 2, 'name': 'Carolina Sharp'}],\n",
       "  'greeting': 'Hello, Avery Flynn! You have 13 unread messages.',\n",
       "  'favoriteFruit': 'banana'},\n",
       " {'_id': '54e23c3eb112d96e4204914d',\n",
       "  'index': 7,\n",
       "  'guid': '95f1c020-f9eb-4a29-b236-e766759d89d0',\n",
       "  'isActive': False,\n",
       "  'balance': '$2,930.31',\n",
       "  'picture': 'http://placehold.it/32x32',\n",
       "  'age': 23,\n",
       "  'eyeColor': 'blue',\n",
       "  'name': 'Michael Cash',\n",
       "  'gender': 'male',\n",
       "  'company': 'ORBIXTAR',\n",
       "  'email': 'michaelcash@orbixtar.com',\n",
       "  'phone': '+1 (996) 439-3660',\n",
       "  'address': '808 Duryea Court, Downsville, Northern Mariana Islands, 2154',\n",
       "  'about': 'Minim proident minim consectetur nostrud dolor reprehenderit. Ea est proident non do cillum eu est dolor Lorem id. Tempor enim incididunt consequat voluptate nulla ipsum voluptate id. Incididunt enim laboris nostrud in exercitation est culpa nulla velit.\\r\\n',\n",
       "  'registered': '2014-05-24T17:56:54 +05:00',\n",
       "  'latitude': -86.621367,\n",
       "  'longitude': -4.06197,\n",
       "  'tags': ['eu', 'sit', 'dolore', 'culpa', 'Lorem', 'in', 'esse'],\n",
       "  'friends': [{'id': 0, 'name': 'Rodgers Nolan'},\n",
       "   {'id': 1, 'name': 'Jewel Marks'},\n",
       "   {'id': 2, 'name': 'Sue Mejia'}],\n",
       "  'greeting': 'Hello, Michael Cash! You have 17 unread messages.',\n",
       "  'favoriteFruit': 'strawberry'},\n",
       " {'_id': '54e23c3ef30f14d0e5afddf3',\n",
       "  'index': 8,\n",
       "  'guid': 'bde2d56f-2488-40d0-a7d2-21019ee8a18b',\n",
       "  'isActive': False,\n",
       "  'balance': '$1,944.15',\n",
       "  'picture': 'http://placehold.it/32x32',\n",
       "  'age': 25,\n",
       "  'eyeColor': 'green',\n",
       "  'name': 'Madeleine Bray',\n",
       "  'gender': 'female',\n",
       "  'company': 'KIDSTOCK',\n",
       "  'email': 'madeleinebray@kidstock.com',\n",
       "  'phone': '+1 (820) 541-2969',\n",
       "  'address': '684 Stratford Road, Rosine, District Of Columbia, 7177',\n",
       "  'about': 'Ullamco ea esse ullamco commodo quis amet ut ad. Sint eiusmod ullamco minim nostrud amet in ex adipisicing velit cillum Lorem enim nostrud. Deserunt esse incididunt eiusmod commodo ullamco id pariatur tempor duis laboris Lorem. Laboris magna Lorem quis laborum ullamco. Dolor minim magna ut occaecat in consequat consequat in commodo pariatur voluptate pariatur dolore. Quis exercitation cillum labore cillum laborum. Dolore est reprehenderit anim reprehenderit consectetur sit quis ea ut veniam.\\r\\n',\n",
       "  'registered': '2014-08-11T08:54:06 +05:00',\n",
       "  'latitude': 45.118798,\n",
       "  'longitude': -7.698707,\n",
       "  'tags': ['id',\n",
       "   'magna',\n",
       "   'excepteur',\n",
       "   'excepteur',\n",
       "   'excepteur',\n",
       "   'duis',\n",
       "   'excepteur'],\n",
       "  'friends': [{'id': 0, 'name': 'Herrera Doyle'},\n",
       "   {'id': 1, 'name': 'Berger Fisher'},\n",
       "   {'id': 2, 'name': 'Chang Coffey'}],\n",
       "  'greeting': 'Hello, Madeleine Bray! You have 2 unread messages.',\n",
       "  'favoriteFruit': 'strawberry'},\n",
       " {'_id': '54e23c3ebd80e9c26b057fa3',\n",
       "  'index': 9,\n",
       "  'guid': '75991ca5-05ed-499e-bbb5-f057f86d05d7',\n",
       "  'isActive': True,\n",
       "  'balance': '$2,839.22',\n",
       "  'picture': 'http://placehold.it/32x32',\n",
       "  'age': 37,\n",
       "  'eyeColor': 'blue',\n",
       "  'name': 'Corine French',\n",
       "  'gender': 'female',\n",
       "  'company': 'INTRAWEAR',\n",
       "  'email': 'corinefrench@intrawear.com',\n",
       "  'phone': '+1 (987) 573-3164',\n",
       "  'address': '964 Clara Street, Snyderville, Oklahoma, 3627',\n",
       "  'about': 'Sint cillum laborum labore duis fugiat voluptate adipisicing. Ad culpa et et ea incididunt nulla excepteur officia. Cillum veniam amet ipsum reprehenderit do eiusmod aliqua aute nisi Lorem consectetur esse in incididunt.\\r\\n',\n",
       "  'registered': '2014-06-25T20:17:13 +05:00',\n",
       "  'latitude': -37.637422,\n",
       "  'longitude': 154.195523,\n",
       "  'tags': ['laboris',\n",
       "   'in',\n",
       "   'dolore',\n",
       "   'mollit',\n",
       "   'velit',\n",
       "   'laboris',\n",
       "   'excepteur'],\n",
       "  'friends': [{'id': 0, 'name': 'Greta Hill'},\n",
       "   {'id': 1, 'name': 'Cline Curry'},\n",
       "   {'id': 2, 'name': 'Branch Sawyer'}],\n",
       "  'greeting': 'Hello, Corine French! You have 18 unread messages.',\n",
       "  'favoriteFruit': 'banana'},\n",
       " {'_id': '54e23c3e6d89c09f5507e7dd',\n",
       "  'index': 10,\n",
       "  'guid': '87cffc18-3acf-40c5-8708-1bb93f1b68de',\n",
       "  'isActive': True,\n",
       "  'balance': '$2,467.31',\n",
       "  'picture': 'http://placehold.it/32x32',\n",
       "  'age': 29,\n",
       "  'eyeColor': 'blue',\n",
       "  'name': 'Trudy Cummings',\n",
       "  'gender': 'female',\n",
       "  'company': 'SPLINX',\n",
       "  'email': 'trudycummings@splinx.com',\n",
       "  'phone': '+1 (925) 403-2797',\n",
       "  'address': '558 Charles Place, Tedrow, California, 9832',\n",
       "  'about': 'Non id adipisicing deserunt non magna ex adipisicing sint esse sint. Laborum ea nostrud Lorem voluptate quis proident eu nisi exercitation in. Consequat occaecat proident officia anim.\\r\\n',\n",
       "  'registered': '2014-03-13T17:54:31 +05:00',\n",
       "  'latitude': -36.185131,\n",
       "  'longitude': -37.774906,\n",
       "  'tags': ['aute', 'occaecat', 'ea', 'pariatur', 'consectetur', 'magna', 'ea'],\n",
       "  'friends': [{'id': 0, 'name': 'Amber Gates'},\n",
       "   {'id': 1, 'name': 'Barron Walsh'},\n",
       "   {'id': 2, 'name': 'Nell Bolton'}],\n",
       "  'greeting': 'Hello, Trudy Cummings! You have 2 unread messages.',\n",
       "  'favoriteFruit': 'strawberry'},\n",
       " {'_id': '54e23c3e4192cf53edd67c99',\n",
       "  'index': 11,\n",
       "  'guid': '5a5496f1-a027-4c21-85da-c399234cd9a5',\n",
       "  'isActive': True,\n",
       "  'balance': '$3,304.99',\n",
       "  'picture': 'http://placehold.it/32x32',\n",
       "  'age': 21,\n",
       "  'eyeColor': 'brown',\n",
       "  'name': 'Peggy Mayer',\n",
       "  'gender': 'female',\n",
       "  'company': 'ACCUPRINT',\n",
       "  'email': 'peggymayer@accuprint.com',\n",
       "  'phone': '+1 (854) 428-2585',\n",
       "  'address': '830 Willmohr Street, Crenshaw, Missouri, 6032',\n",
       "  'about': 'Aliqua sit enim cillum aliquip ad proident excepteur in consectetur eiusmod. Ipsum sint cillum veniam eiusmod aute sunt et do est tempor. Lorem elit dolor dolore incididunt cillum. Enim occaecat minim sunt cillum est velit cillum deserunt tempor eu.\\r\\n',\n",
       "  'registered': '2014-09-14T07:06:49 +05:00',\n",
       "  'latitude': 48.323912,\n",
       "  'longitude': 22.184821,\n",
       "  'tags': ['commodo', 'esse', 'ad', 'ullamco', 'ea', 'sint', 'ipsum'],\n",
       "  'friends': [{'id': 0, 'name': 'Hopkins Mccall'},\n",
       "   {'id': 1, 'name': 'Nielsen Weeks'},\n",
       "   {'id': 2, 'name': 'Dale Knowles'}],\n",
       "  'greeting': 'Hello, Peggy Mayer! You have 13 unread messages.',\n",
       "  'favoriteFruit': 'strawberry'},\n",
       " {'_id': '54e23c3eedcc65f0ec3a5496',\n",
       "  'index': 12,\n",
       "  'guid': '759a21c4-5f9c-4189-9c50-c9d8a9f31037',\n",
       "  'isActive': False,\n",
       "  'balance': '$3,844.42',\n",
       "  'picture': 'http://placehold.it/32x32',\n",
       "  'age': 40,\n",
       "  'eyeColor': 'brown',\n",
       "  'name': 'Chan Hurley',\n",
       "  'gender': 'male',\n",
       "  'company': 'ZEAM',\n",
       "  'email': 'chanhurley@zeam.com',\n",
       "  'phone': '+1 (917) 475-3705',\n",
       "  'address': '915 Channel Avenue, Clinton, North Dakota, 6244',\n",
       "  'about': 'Voluptate exercitation ut anim ex adipisicing ut do officia incididunt fugiat cupidatat aliqua. Cillum ullamco irure dolore est consectetur non consequat. Nulla ullamco eu irure qui dolor magna ipsum id in enim voluptate aute. Officia aliqua dolore ut reprehenderit Lorem cillum. Cillum reprehenderit eu cillum aliqua sint eiusmod cupidatat culpa elit in. Fugiat voluptate reprehenderit amet anim qui nisi velit aliqua proident anim.\\r\\n',\n",
       "  'registered': '2014-03-01T14:51:23 +06:00',\n",
       "  'latitude': 85.901051,\n",
       "  'longitude': -74.986179,\n",
       "  'tags': ['minim', 'veniam', 'sit', 'aute', 'irure', 'non', 'eiusmod'],\n",
       "  'friends': [{'id': 0, 'name': 'Reese Grant'},\n",
       "   {'id': 1, 'name': 'Jenna Kinney'},\n",
       "   {'id': 2, 'name': 'Rhea May'}],\n",
       "  'greeting': 'Hello, Chan Hurley! You have 7 unread messages.',\n",
       "  'favoriteFruit': 'apple'},\n",
       " {'_id': '54e23c3eb813e66c6d33aa82',\n",
       "  'index': 13,\n",
       "  'guid': '6fd14a8e-3158-48eb-a7e1-93fe57b74746',\n",
       "  'isActive': True,\n",
       "  'balance': '$3,594.99',\n",
       "  'picture': 'http://placehold.it/32x32',\n",
       "  'age': 40,\n",
       "  'eyeColor': 'blue',\n",
       "  'name': 'Diaz Pena',\n",
       "  'gender': 'male',\n",
       "  'company': 'SUREPLEX',\n",
       "  'email': 'diazpena@sureplex.com',\n",
       "  'phone': '+1 (986) 511-3050',\n",
       "  'address': '184 Kingsway Place, Grantville, Michigan, 2421',\n",
       "  'about': 'Enim elit amet officia consectetur do Lorem reprehenderit cupidatat exercitation velit. Ex tempor esse consectetur dolore aute et. Cupidatat duis nulla in incididunt nulla ullamco non magna officia commodo anim. Labore quis ullamco est deserunt excepteur duis nostrud deserunt cillum proident. Non eiusmod consectetur pariatur deserunt irure quis exercitation ex incididunt quis dolore pariatur sunt irure. Eu do fugiat laboris tempor culpa.\\r\\n',\n",
       "  'registered': '2014-04-19T20:43:12 +05:00',\n",
       "  'latitude': 6.606991,\n",
       "  'longitude': 81.593748,\n",
       "  'tags': ['excepteur',\n",
       "   'elit',\n",
       "   'ullamco',\n",
       "   'excepteur',\n",
       "   'ad',\n",
       "   'quis',\n",
       "   'dolore'],\n",
       "  'friends': [{'id': 0, 'name': 'Mcmillan Knox'},\n",
       "   {'id': 1, 'name': 'Flossie Dixon'},\n",
       "   {'id': 2, 'name': 'Sears Carson'}],\n",
       "  'greeting': 'Hello, Diaz Pena! You have 13 unread messages.',\n",
       "  'favoriteFruit': 'strawberry'},\n",
       " {'_id': '54e23c3e502a2f526b689c3e',\n",
       "  'index': 14,\n",
       "  'guid': '459cc82d-7878-42cb-b9c6-073506380036',\n",
       "  'isActive': True,\n",
       "  'balance': '$2,940.24',\n",
       "  'picture': 'http://placehold.it/32x32',\n",
       "  'age': 40,\n",
       "  'eyeColor': 'brown',\n",
       "  'name': 'Heath Castaneda',\n",
       "  'gender': 'male',\n",
       "  'company': 'NETPLODE',\n",
       "  'email': 'heathcastaneda@netplode.com',\n",
       "  'phone': '+1 (944) 478-3741',\n",
       "  'address': '278 Village Road, Sunnyside, Massachusetts, 7496',\n",
       "  'about': 'Consectetur mollit cupidatat ex consectetur eiusmod ut. Cupidatat anim cupidatat cupidatat minim ipsum et quis amet proident pariatur. Do consectetur fugiat quis nisi non. Ut eu consequat consequat in ullamco eiusmod quis cillum sunt dolore anim. Non irure aliqua aliqua enim elit labore consequat.\\r\\n',\n",
       "  'registered': '2014-07-30T21:38:43 +05:00',\n",
       "  'latitude': 69.928876,\n",
       "  'longitude': 33.649878,\n",
       "  'tags': ['elit', 'commodo', 'ut', 'ullamco', 'ullamco', 'velit', 'ullamco'],\n",
       "  'friends': [{'id': 0, 'name': 'Dora Mack'},\n",
       "   {'id': 1, 'name': 'Christensen Camacho'},\n",
       "   {'id': 2, 'name': 'Castro Kelly'}],\n",
       "  'greeting': 'Hello, Heath Castaneda! You have 12 unread messages.',\n",
       "  'favoriteFruit': 'strawberry'},\n",
       " {'_id': '54e23c3e69d22e49c7fe62de',\n",
       "  'index': 15,\n",
       "  'guid': '33d2bbe5-d6f7-4844-88fc-b9f6af63b373',\n",
       "  'isActive': False,\n",
       "  'balance': '$3,062.41',\n",
       "  'picture': 'http://placehold.it/32x32',\n",
       "  'age': 38,\n",
       "  'eyeColor': 'brown',\n",
       "  'name': 'Greer Blankenship',\n",
       "  'gender': 'male',\n",
       "  'company': 'QUALITERN',\n",
       "  'email': 'greerblankenship@qualitern.com',\n",
       "  'phone': '+1 (957) 482-3874',\n",
       "  'address': '557 Ingraham Street, Brambleton, South Dakota, 8482',\n",
       "  'about': 'Non in excepteur nostrud consectetur. Qui non consectetur officia incididunt elit laboris exercitation exercitation est minim veniam ullamco dolore. Eu sit aute culpa ex sunt amet. Ut et amet Lorem sunt anim pariatur.\\r\\n',\n",
       "  'registered': '2014-03-30T21:39:41 +05:00',\n",
       "  'latitude': -71.093388,\n",
       "  'longitude': 65.740255,\n",
       "  'tags': ['enim',\n",
       "   'eiusmod',\n",
       "   'Lorem',\n",
       "   'reprehenderit',\n",
       "   'nisi',\n",
       "   'anim',\n",
       "   'sunt'],\n",
       "  'friends': [{'id': 0, 'name': 'Woods Norman'},\n",
       "   {'id': 1, 'name': 'Marilyn Haney'},\n",
       "   {'id': 2, 'name': 'Webster Nielsen'}],\n",
       "  'greeting': 'Hello, Greer Blankenship! You have 7 unread messages.',\n",
       "  'favoriteFruit': 'banana'},\n",
       " {'_id': '54e23c3e42676228c442a669',\n",
       "  'index': 16,\n",
       "  'guid': 'e44604f0-c7a8-4b89-bda3-0f4710ebe28a',\n",
       "  'isActive': False,\n",
       "  'balance': '$3,067.82',\n",
       "  'picture': 'http://placehold.it/32x32',\n",
       "  'age': 32,\n",
       "  'eyeColor': 'green',\n",
       "  'name': 'Coffey Hayes',\n",
       "  'gender': 'male',\n",
       "  'company': 'INQUALA',\n",
       "  'email': 'coffeyhayes@inquala.com',\n",
       "  'phone': '+1 (880) 451-3490',\n",
       "  'address': '490 Durland Place, Craig, Tennessee, 5034',\n",
       "  'about': 'Est esse irure Lorem ullamco veniam fugiat laborum veniam excepteur. Ad enim pariatur nostrud excepteur et nostrud velit dolore ex enim cillum in aliquip fugiat. Nulla laborum exercitation irure magna elit laborum magna ad excepteur. Cillum pariatur Lorem eiusmod ad dolore eiusmod veniam do minim laborum in dolor. Reprehenderit elit ad id voluptate Lorem Lorem dolor cupidatat excepteur. Proident minim ea aute nulla.\\r\\n',\n",
       "  'registered': '2014-04-01T23:04:39 +05:00',\n",
       "  'latitude': -30.662644,\n",
       "  'longitude': 59.806684,\n",
       "  'tags': ['duis', 'est', 'in', 'officia', 'nostrud', 'occaecat', 'mollit'],\n",
       "  'friends': [{'id': 0, 'name': 'Suarez Perry'},\n",
       "   {'id': 1, 'name': 'Marlene Sheppard'},\n",
       "   {'id': 2, 'name': 'Cohen Yates'}],\n",
       "  'greeting': 'Hello, Coffey Hayes! You have 19 unread messages.',\n",
       "  'favoriteFruit': 'strawberry'},\n",
       " {'_id': '54e23c3e4ac5969958013235',\n",
       "  'index': 17,\n",
       "  'guid': 'fa7e26df-d239-41e8-9aa9-be5e808b6f89',\n",
       "  'isActive': True,\n",
       "  'balance': '$2,646.76',\n",
       "  'picture': 'http://placehold.it/32x32',\n",
       "  'age': 24,\n",
       "  'eyeColor': 'brown',\n",
       "  'name': 'Leanne Hurst',\n",
       "  'gender': 'female',\n",
       "  'company': 'ACCIDENCY',\n",
       "  'email': 'leannehurst@accidency.com',\n",
       "  'phone': '+1 (820) 420-3317',\n",
       "  'address': '196 Columbus Place, Carbonville, New Jersey, 7513',\n",
       "  'about': 'Dolor occaecat dolore ut tempor. Veniam elit anim duis do pariatur. Qui excepteur nisi eiusmod mollit laboris fugiat commodo ipsum reprehenderit labore cillum. Aliquip laborum commodo nisi cupidatat labore nostrud exercitation adipisicing mollit eu magna proident ex Lorem. Nostrud magna sint sint consequat consectetur et sint.\\r\\n',\n",
       "  'registered': '2014-11-10T01:25:55 +06:00',\n",
       "  'latitude': 16.671695,\n",
       "  'longitude': 139.707959,\n",
       "  'tags': ['culpa',\n",
       "   'deserunt',\n",
       "   'tempor',\n",
       "   'quis',\n",
       "   'reprehenderit',\n",
       "   'incididunt',\n",
       "   'est'],\n",
       "  'friends': [{'id': 0, 'name': 'Farley Frank'},\n",
       "   {'id': 1, 'name': 'Pruitt Frye'},\n",
       "   {'id': 2, 'name': 'Simpson Cardenas'}],\n",
       "  'greeting': 'Hello, Leanne Hurst! You have 5 unread messages.',\n",
       "  'favoriteFruit': 'apple'},\n",
       " {'_id': '54e23c3ed945981ba2580614',\n",
       "  'index': 18,\n",
       "  'guid': 'e608dc5c-fee4-4086-971b-3ebd37bfa137',\n",
       "  'isActive': True,\n",
       "  'balance': '$2,227.79',\n",
       "  'picture': 'http://placehold.it/32x32',\n",
       "  'age': 22,\n",
       "  'eyeColor': 'brown',\n",
       "  'name': 'Ewing Larson',\n",
       "  'gender': 'male',\n",
       "  'company': 'ESCENTA',\n",
       "  'email': 'ewinglarson@escenta.com',\n",
       "  'phone': '+1 (943) 439-3760',\n",
       "  'address': '136 Beard Street, Wattsville, New Hampshire, 2803',\n",
       "  'about': 'Veniam eiusmod exercitation culpa mollit reprehenderit ullamco voluptate voluptate irure qui duis anim et. Laborum dolor quis do voluptate. In pariatur dolor id mollit et enim. Qui ex qui in cillum irure enim non reprehenderit irure et excepteur aliquip eu eu.\\r\\n',\n",
       "  'registered': '2014-07-21T19:17:41 +05:00',\n",
       "  'latitude': 15.903555,\n",
       "  'longitude': -159.721203,\n",
       "  'tags': ['Lorem',\n",
       "   'magna',\n",
       "   'dolor',\n",
       "   'aliquip',\n",
       "   'reprehenderit',\n",
       "   'eu',\n",
       "   'voluptate'],\n",
       "  'friends': [{'id': 0, 'name': 'Suzette Huffman'},\n",
       "   {'id': 1, 'name': 'Paige Santiago'},\n",
       "   {'id': 2, 'name': 'Dollie Fernandez'}],\n",
       "  'greeting': 'Hello, Ewing Larson! You have 16 unread messages.',\n",
       "  'favoriteFruit': 'strawberry'}]"
      ]
     },
     "execution_count": 15,
     "metadata": {},
     "output_type": "execute_result"
    }
   ],
   "source": [
    "#take a look at this dictionary\n",
    "profiles"
   ]
  },
  {
   "cell_type": "code",
   "execution_count": 16,
   "id": "13a2c358",
   "metadata": {},
   "outputs": [
    {
     "data": {
      "text/plain": [
       "{'_id': '54e23c3e46ab53a440b580e8',\n",
       " 'index': 0,\n",
       " 'guid': '9962b468-ef3e-4993-b677-617469bc3008',\n",
       " 'isActive': False,\n",
       " 'balance': '$2,097.02',\n",
       " 'picture': 'http://placehold.it/32x32',\n",
       " 'age': 39,\n",
       " 'eyeColor': 'blue',\n",
       " 'name': 'Hebert Estes',\n",
       " 'gender': 'male',\n",
       " 'company': 'ANDRYX',\n",
       " 'email': 'hebertestes@andryx.com',\n",
       " 'phone': '+1 (866) 456-2268',\n",
       " 'address': '121 Emmons Avenue, Klondike, Kentucky, 5975',\n",
       " 'about': 'Sit cillum deserunt irure laboris tempor fugiat laboris. Amet commodo amet est incididunt. Dolore qui fugiat cillum pariatur dolore excepteur elit ipsum.\\r\\n',\n",
       " 'registered': '2014-11-10T01:44:03 +06:00',\n",
       " 'latitude': -80.157843,\n",
       " 'longitude': 161.93016,\n",
       " 'tags': ['sit', 'occaecat', 'non', 'ea', 'sit', 'laboris', 'exercitation'],\n",
       " 'friends': [{'id': 0, 'name': 'Tanisha Leonard'},\n",
       "  {'id': 1, 'name': 'Dennis Wilson'},\n",
       "  {'id': 2, 'name': 'Lupe Howe'}],\n",
       " 'greeting': 'Hello, Hebert Estes! You have 4 unread messages.',\n",
       " 'favoriteFruit': 'strawberry'}"
      ]
     },
     "execution_count": 16,
     "metadata": {},
     "output_type": "execute_result"
    }
   ],
   "source": [
    "#that is a lot of data\n",
    "#looks look at just one person in this profile dictionary\n",
    "profiles[0]"
   ]
  },
  {
   "cell_type": "markdown",
   "id": "b6909faf",
   "metadata": {},
   "source": [
    "<b>3a. Total number of users"
   ]
  },
  {
   "cell_type": "code",
   "execution_count": 17,
   "id": "2490a553",
   "metadata": {},
   "outputs": [
    {
     "data": {
      "text/plain": [
       "19"
      ]
     },
     "execution_count": 17,
     "metadata": {},
     "output_type": "execute_result"
    }
   ],
   "source": [
    "len(profiles)"
   ]
  },
  {
   "cell_type": "code",
   "execution_count": 47,
   "id": "196d2392",
   "metadata": {},
   "outputs": [
    {
     "data": {
      "text/plain": [
       "19"
      ]
     },
     "execution_count": 47,
     "metadata": {},
     "output_type": "execute_result"
    }
   ],
   "source": [
    "#alternate\n",
    "len([d for d in profiles if isinstance(d, dict)])"
   ]
  },
  {
   "cell_type": "markdown",
   "id": "5f530bec",
   "metadata": {},
   "source": [
    "<hr style=\"border:1px solid grey\">"
   ]
  },
  {
   "cell_type": "markdown",
   "id": "10b5554e",
   "metadata": {},
   "source": [
    "<b>3b. Number of active users"
   ]
  },
  {
   "cell_type": "code",
   "execution_count": 19,
   "id": "65e00112",
   "metadata": {},
   "outputs": [
    {
     "name": "stdout",
     "output_type": "stream",
     "text": [
      "9\n"
     ]
    }
   ],
   "source": [
    "count = 0\n",
    "\n",
    "for profile in profiles:\n",
    "    if profile['isActive'] == True:\n",
    "        count += 1\n",
    "        \n",
    "print(count)"
   ]
  },
  {
   "cell_type": "code",
   "execution_count": 21,
   "id": "a70cb23a",
   "metadata": {},
   "outputs": [
    {
     "data": {
      "text/plain": [
       "9"
      ]
     },
     "execution_count": 21,
     "metadata": {},
     "output_type": "execute_result"
    }
   ],
   "source": [
    "#alternate option- using list comprehension\n",
    "len([profile for profile in profiles if profile['isActive'] == True])"
   ]
  },
  {
   "cell_type": "markdown",
   "id": "c85840a3",
   "metadata": {},
   "source": [
    "<hr style=\"border:1px solid grey\">"
   ]
  },
  {
   "cell_type": "markdown",
   "id": "61aa2d94",
   "metadata": {},
   "source": [
    "<b>3c. Number of inactive users"
   ]
  },
  {
   "cell_type": "code",
   "execution_count": 22,
   "id": "289f9d46",
   "metadata": {},
   "outputs": [
    {
     "name": "stdout",
     "output_type": "stream",
     "text": [
      "10\n"
     ]
    }
   ],
   "source": [
    "count = 0\n",
    "\n",
    "for profile in profiles:\n",
    "    if profile['isActive'] == False:\n",
    "        count += 1\n",
    "        \n",
    "print(count)"
   ]
  },
  {
   "cell_type": "code",
   "execution_count": 23,
   "id": "0fb60e3b",
   "metadata": {},
   "outputs": [
    {
     "data": {
      "text/plain": [
       "10"
      ]
     },
     "execution_count": 23,
     "metadata": {},
     "output_type": "execute_result"
    }
   ],
   "source": [
    "#alternate option- using list comprehension\n",
    "len([profile for profile in profiles if profile['isActive'] == False])"
   ]
  },
  {
   "cell_type": "code",
   "execution_count": 49,
   "id": "42fefa86",
   "metadata": {},
   "outputs": [
    {
     "data": {
      "text/plain": [
       "10"
      ]
     },
     "execution_count": 49,
     "metadata": {},
     "output_type": "execute_result"
    }
   ],
   "source": [
    "#for finding inactive users\n",
    "len([d for d in profiles if isinstance(d, dict) and d['isActive'] == False])"
   ]
  },
  {
   "cell_type": "markdown",
   "id": "e2bc6e58",
   "metadata": {},
   "source": [
    "<hr style=\"border:1px solid grey\">"
   ]
  },
  {
   "cell_type": "markdown",
   "id": "9b8f9eef",
   "metadata": {},
   "source": [
    "<b>3d. Grand total of balances for all users"
   ]
  },
  {
   "cell_type": "code",
   "execution_count": 24,
   "id": "e48f0843",
   "metadata": {},
   "outputs": [
    {
     "data": {
      "text/plain": [
       "'$2,227.79'"
      ]
     },
     "execution_count": 24,
     "metadata": {},
     "output_type": "execute_result"
    }
   ],
   "source": [
    "#look at the balance for a user\n",
    "profile['balance']"
   ]
  },
  {
   "cell_type": "code",
   "execution_count": 25,
   "id": "c9749f54",
   "metadata": {},
   "outputs": [
    {
     "data": {
      "text/plain": [
       "'2227.79'"
      ]
     },
     "execution_count": 25,
     "metadata": {},
     "output_type": "execute_result"
    }
   ],
   "source": [
    "#let's remove special characters so we can add\n",
    "profile['balance'].strip('$').replace(',', '')"
   ]
  },
  {
   "cell_type": "code",
   "execution_count": 26,
   "id": "08cc853c",
   "metadata": {},
   "outputs": [
    {
     "name": "stdout",
     "output_type": "stream",
     "text": [
      "52667.02\n"
     ]
    }
   ],
   "source": [
    "grand_total = 0\n",
    "\n",
    "for profile in profiles:\n",
    "    user_balance = float(profile['balance'].strip('$').replace(',', ''))\n",
    "    grand_total = grand_total + user_balance\n",
    "    \n",
    "print(grand_total)"
   ]
  },
  {
   "cell_type": "markdown",
   "id": "493ec345",
   "metadata": {},
   "source": [
    "<hr style=\"border:1px solid grey\">"
   ]
  },
  {
   "cell_type": "markdown",
   "id": "4cb80c2a",
   "metadata": {},
   "source": [
    "<b>3e. Average balance per user"
   ]
  },
  {
   "cell_type": "code",
   "execution_count": 27,
   "id": "af762e7a",
   "metadata": {},
   "outputs": [
    {
     "data": {
      "text/plain": [
       "2771.95"
      ]
     },
     "execution_count": 27,
     "metadata": {},
     "output_type": "execute_result"
    }
   ],
   "source": [
    "#divide total balance by number of profiles, round to 2 decimals\n",
    "round(grand_total / len(profiles), 2)"
   ]
  },
  {
   "cell_type": "markdown",
   "id": "b9e1a086",
   "metadata": {},
   "source": [
    "<hr style=\"border:1px solid grey\">"
   ]
  },
  {
   "cell_type": "markdown",
   "id": "00cc4ead",
   "metadata": {},
   "source": [
    "<b>3f. User with the lowest balance"
   ]
  },
  {
   "cell_type": "code",
   "execution_count": 28,
   "id": "0d0d0632",
   "metadata": {},
   "outputs": [
    {
     "name": "stdout",
     "output_type": "stream",
     "text": [
      "2097.02\n",
      "3654.02\n",
      "1536.02\n",
      "3919.64\n",
      "3681.39\n",
      "1694.42\n",
      "1214.10\n",
      "2930.31\n",
      "1944.15\n",
      "2839.22\n",
      "2467.31\n",
      "3304.99\n",
      "3844.42\n",
      "3594.99\n",
      "2940.24\n",
      "3062.41\n",
      "3067.82\n",
      "2646.76\n",
      "2227.79\n"
     ]
    }
   ],
   "source": [
    "#create an empty list\n",
    "balance_ls = []\n",
    "\n",
    "#iterate through each profile\n",
    "for profile in profiles:\n",
    "    #remove specal characters from the balance\n",
    "    user_balance = profile['balance'].strip('$').replace(',', '')\n",
    "    #print each user's balance\n",
    "    print(user_balance)\n",
    "    #add the next user's balance to the list\n",
    "    balance_ls.append(user_balance)"
   ]
  },
  {
   "cell_type": "code",
   "execution_count": 29,
   "id": "5121dab9",
   "metadata": {},
   "outputs": [
    {
     "data": {
      "text/plain": [
       "['2097.02',\n",
       " '3654.02',\n",
       " '1536.02',\n",
       " '3919.64',\n",
       " '3681.39',\n",
       " '1694.42',\n",
       " '1214.10',\n",
       " '2930.31',\n",
       " '1944.15',\n",
       " '2839.22',\n",
       " '2467.31',\n",
       " '3304.99',\n",
       " '3844.42',\n",
       " '3594.99',\n",
       " '2940.24',\n",
       " '3062.41',\n",
       " '3067.82',\n",
       " '2646.76',\n",
       " '2227.79']"
      ]
     },
     "execution_count": 29,
     "metadata": {},
     "output_type": "execute_result"
    }
   ],
   "source": [
    "#call the list we just created\n",
    "balance_ls"
   ]
  },
  {
   "cell_type": "code",
   "execution_count": 30,
   "id": "80ea3b52",
   "metadata": {},
   "outputs": [
    {
     "data": {
      "text/plain": [
       "'1214.10'"
      ]
     },
     "execution_count": 30,
     "metadata": {},
     "output_type": "execute_result"
    }
   ],
   "source": [
    "#get the lowest balance on that list\n",
    "min(balance_ls)"
   ]
  },
  {
   "cell_type": "code",
   "execution_count": 31,
   "id": "21a9af9c",
   "metadata": {},
   "outputs": [
    {
     "name": "stdout",
     "output_type": "stream",
     "text": [
      "User: Avery Flynn- has the least amount of cash: $1,214.10\n"
     ]
    }
   ],
   "source": [
    "#now, let's find which user that balance belongs to\n",
    "\n",
    "#iterate through each profile\n",
    "for profile in profiles:\n",
    "    #remove special characters and give minumum balance\n",
    "    if profile['balance'].strip('$').replace(',', '') == min(balance_ls):\n",
    "        #print the user name and balance\n",
    "        print(f'User: {profile[\"name\"]}- has the least amount of cash: {profile[\"balance\"]}')"
   ]
  },
  {
   "cell_type": "markdown",
   "id": "8c20ff22",
   "metadata": {},
   "source": [
    "<hr style=\"border:1px solid grey\">"
   ]
  },
  {
   "cell_type": "markdown",
   "id": "1139f73a",
   "metadata": {},
   "source": [
    "<b>3g. User with the highest balance"
   ]
  },
  {
   "cell_type": "code",
   "execution_count": 32,
   "id": "54a8e237",
   "metadata": {},
   "outputs": [
    {
     "data": {
      "text/plain": [
       "'3919.64'"
      ]
     },
     "execution_count": 32,
     "metadata": {},
     "output_type": "execute_result"
    }
   ],
   "source": [
    "#now, we can get the maximum for that balance list\n",
    "max(balance_ls)"
   ]
  },
  {
   "cell_type": "code",
   "execution_count": 33,
   "id": "184692d5",
   "metadata": {},
   "outputs": [
    {
     "name": "stdout",
     "output_type": "stream",
     "text": [
      "User: Fay Hammond- has the most amount of cash: $3,919.64\n"
     ]
    }
   ],
   "source": [
    "#iterate through each profile\n",
    "for profile in profiles:\n",
    "    #remove special characters and give minumum balance\n",
    "    if profile['balance'].strip('$').replace(',', '') == max(balance_ls):\n",
    "        #print the user name and balance\n",
    "        print(f'User: {profile[\"name\"]}- has the most amount of cash: {profile[\"balance\"]}')"
   ]
  },
  {
   "cell_type": "markdown",
   "id": "0df16606",
   "metadata": {},
   "source": [
    "<hr style=\"border:1px solid grey\">"
   ]
  },
  {
   "cell_type": "markdown",
   "id": "a538017e",
   "metadata": {},
   "source": [
    "<b>3h. Most common favorite fruit"
   ]
  },
  {
   "cell_type": "code",
   "execution_count": 34,
   "id": "5eb3c787",
   "metadata": {},
   "outputs": [
    {
     "data": {
      "text/plain": [
       "{'_id': '54e23c3e46ab53a440b580e8',\n",
       " 'index': 0,\n",
       " 'guid': '9962b468-ef3e-4993-b677-617469bc3008',\n",
       " 'isActive': False,\n",
       " 'balance': '$2,097.02',\n",
       " 'picture': 'http://placehold.it/32x32',\n",
       " 'age': 39,\n",
       " 'eyeColor': 'blue',\n",
       " 'name': 'Hebert Estes',\n",
       " 'gender': 'male',\n",
       " 'company': 'ANDRYX',\n",
       " 'email': 'hebertestes@andryx.com',\n",
       " 'phone': '+1 (866) 456-2268',\n",
       " 'address': '121 Emmons Avenue, Klondike, Kentucky, 5975',\n",
       " 'about': 'Sit cillum deserunt irure laboris tempor fugiat laboris. Amet commodo amet est incididunt. Dolore qui fugiat cillum pariatur dolore excepteur elit ipsum.\\r\\n',\n",
       " 'registered': '2014-11-10T01:44:03 +06:00',\n",
       " 'latitude': -80.157843,\n",
       " 'longitude': 161.93016,\n",
       " 'tags': ['sit', 'occaecat', 'non', 'ea', 'sit', 'laboris', 'exercitation'],\n",
       " 'friends': [{'id': 0, 'name': 'Tanisha Leonard'},\n",
       "  {'id': 1, 'name': 'Dennis Wilson'},\n",
       "  {'id': 2, 'name': 'Lupe Howe'}],\n",
       " 'greeting': 'Hello, Hebert Estes! You have 4 unread messages.',\n",
       " 'favoriteFruit': 'strawberry'}"
      ]
     },
     "execution_count": 34,
     "metadata": {},
     "output_type": "execute_result"
    }
   ],
   "source": [
    "#take a look at one entry again to see what it holds\n",
    "profiles[0]"
   ]
  },
  {
   "cell_type": "code",
   "execution_count": 35,
   "id": "fcf3a34d",
   "metadata": {},
   "outputs": [
    {
     "data": {
      "text/plain": [
       "'strawberry'"
      ]
     },
     "execution_count": 35,
     "metadata": {},
     "output_type": "execute_result"
    }
   ],
   "source": [
    "profile['favoriteFruit']"
   ]
  },
  {
   "cell_type": "code",
   "execution_count": 36,
   "id": "985fefff",
   "metadata": {},
   "outputs": [
    {
     "name": "stdout",
     "output_type": "stream",
     "text": [
      "strawberry\n",
      "apple\n",
      "apple\n",
      "banana\n",
      "apple\n",
      "apple\n",
      "banana\n",
      "strawberry\n",
      "strawberry\n",
      "banana\n",
      "strawberry\n",
      "strawberry\n",
      "apple\n",
      "strawberry\n",
      "strawberry\n",
      "banana\n",
      "strawberry\n",
      "apple\n",
      "strawberry\n"
     ]
    }
   ],
   "source": [
    "#create an empty list\n",
    "fruit_list = []\n",
    "\n",
    "#iterate through each profile\n",
    "for profile in profiles:\n",
    "    #show/print favorite fruit only\n",
    "    print(profile['favoriteFruit'])\n",
    "    #add the next favorite fruit to the list\n",
    "    fruit_list.append(profile['favoriteFruit'])"
   ]
  },
  {
   "cell_type": "code",
   "execution_count": 37,
   "id": "ce253255",
   "metadata": {},
   "outputs": [
    {
     "data": {
      "text/plain": [
       "'strawberry'"
      ]
     },
     "execution_count": 37,
     "metadata": {},
     "output_type": "execute_result"
    }
   ],
   "source": [
    "max((fruit_list), key = fruit_list.count)"
   ]
  },
  {
   "cell_type": "markdown",
   "id": "09482a07",
   "metadata": {},
   "source": [
    "<hr style=\"border:1px solid grey\">"
   ]
  },
  {
   "cell_type": "markdown",
   "id": "52376189",
   "metadata": {},
   "source": [
    "<b>3i. Least most common favorite fruit"
   ]
  },
  {
   "cell_type": "code",
   "execution_count": 38,
   "id": "5ca17a86",
   "metadata": {},
   "outputs": [
    {
     "data": {
      "text/plain": [
       "'banana'"
      ]
     },
     "execution_count": 38,
     "metadata": {},
     "output_type": "execute_result"
    }
   ],
   "source": [
    "#key is count of things- not value\n",
    "min((fruit_list), key = fruit_list.count)"
   ]
  },
  {
   "cell_type": "markdown",
   "id": "45a541f3",
   "metadata": {},
   "source": [
    "<hr style=\"border:1px solid grey\">"
   ]
  },
  {
   "cell_type": "markdown",
   "id": "53dd978c",
   "metadata": {},
   "source": [
    "<b>3j. Total number of unread messages for all users"
   ]
  },
  {
   "cell_type": "code",
   "execution_count": 39,
   "id": "50e5415c",
   "metadata": {},
   "outputs": [
    {
     "data": {
      "text/plain": [
       "'Hello, Ewing Larson! You have 16 unread messages.'"
      ]
     },
     "execution_count": 39,
     "metadata": {},
     "output_type": "execute_result"
    }
   ],
   "source": [
    "profile['greeting']"
   ]
  },
  {
   "cell_type": "code",
   "execution_count": 40,
   "id": "72537638",
   "metadata": {},
   "outputs": [
    {
     "name": "stdout",
     "output_type": "stream",
     "text": [
      "Hello, Hebert Estes! You have 4 unread messages.\n",
      "Hello, Allison Wynn! You have 19 unread messages.\n",
      "Hello, Jacobs Floyd! You have 5 unread messages.\n",
      "Hello, Fay Hammond! You have 10 unread messages.\n",
      "Hello, Chasity Marsh! You have 9 unread messages.\n",
      "Hello, Camacho Cortez! You have 19 unread messages.\n",
      "Hello, Avery Flynn! You have 13 unread messages.\n",
      "Hello, Michael Cash! You have 17 unread messages.\n",
      "Hello, Madeleine Bray! You have 2 unread messages.\n",
      "Hello, Corine French! You have 18 unread messages.\n",
      "Hello, Trudy Cummings! You have 2 unread messages.\n",
      "Hello, Peggy Mayer! You have 13 unread messages.\n",
      "Hello, Chan Hurley! You have 7 unread messages.\n",
      "Hello, Diaz Pena! You have 13 unread messages.\n",
      "Hello, Heath Castaneda! You have 12 unread messages.\n",
      "Hello, Greer Blankenship! You have 7 unread messages.\n",
      "Hello, Coffey Hayes! You have 19 unread messages.\n",
      "Hello, Leanne Hurst! You have 5 unread messages.\n",
      "Hello, Ewing Larson! You have 16 unread messages.\n"
     ]
    }
   ],
   "source": [
    "#create an empty list\n",
    "greeting_list = []\n",
    "\n",
    "#iterate through each profile\n",
    "for profile in profiles:\n",
    "    #show/print greeting only\n",
    "    print(profile['greeting'])\n",
    "    #add the next greeting to the list\n",
    "    greeting_list.append(profile['greeting'])"
   ]
  },
  {
   "cell_type": "code",
   "execution_count": 41,
   "id": "dab92d55",
   "metadata": {},
   "outputs": [
    {
     "data": {
      "text/plain": [
       "['Hello,', 'Ewing', 'Larson!', 'You', 'have', '16', 'unread', 'messages.']"
      ]
     },
     "execution_count": 41,
     "metadata": {},
     "output_type": "execute_result"
    }
   ],
   "source": [
    "#in order to isolate just the number\n",
    "##we have to split on white space\n",
    "\n",
    "message = profile['greeting'].split(' ')\n",
    "message"
   ]
  },
  {
   "cell_type": "code",
   "execution_count": 42,
   "id": "bd7a515a",
   "metadata": {},
   "outputs": [
    {
     "name": "stdout",
     "output_type": "stream",
     "text": [
      "The number of unread messages is:  16\n"
     ]
    }
   ],
   "source": [
    "for word in message:\n",
    "    if word.isdigit():\n",
    "        print('The number of unread messages is: ', word)"
   ]
  },
  {
   "cell_type": "code",
   "execution_count": 44,
   "id": "34dc62d5",
   "metadata": {},
   "outputs": [
    {
     "data": {
      "text/plain": [
       "210"
      ]
     },
     "execution_count": 44,
     "metadata": {},
     "output_type": "execute_result"
    }
   ],
   "source": [
    "#another way to accomplish this\n",
    "sum_messages = 0\n",
    "\n",
    "for profile in profiles:\n",
    "    message = profile['greeting'].split(' ')\n",
    "    for word in message:\n",
    "        if word.isdigit():\n",
    "            sum_messages = sum_messages + int(word)\n",
    "            \n",
    "sum_messages"
   ]
  }
 ],
 "metadata": {
  "kernelspec": {
   "display_name": "Python 3 (ipykernel)",
   "language": "python",
   "name": "python3"
  },
  "language_info": {
   "codemirror_mode": {
    "name": "ipython",
    "version": 3
   },
   "file_extension": ".py",
   "mimetype": "text/x-python",
   "name": "python",
   "nbconvert_exporter": "python",
   "pygments_lexer": "ipython3",
   "version": "3.9.13"
  }
 },
 "nbformat": 4,
 "nbformat_minor": 5
}
