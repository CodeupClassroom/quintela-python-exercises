{
 "cells": [
  {
   "cell_type": "markdown",
   "id": "e692469a",
   "metadata": {},
   "source": [
    "# Control Structure Exercises"
   ]
  },
  {
   "cell_type": "markdown",
   "id": "834a097f",
   "metadata": {},
   "source": [
    "<hr style=\"border:2px solid gray\">"
   ]
  },
  {
   "cell_type": "markdown",
   "id": "7bd949b1",
   "metadata": {},
   "source": [
    "## #1. Conditional Basics\n",
    "\n",
    "a. Prompt the user for a day of the week, print out whether the day is Monday or not\n",
    "\n",
    "b. Prompt the user for a day of the week, print out whether the day is a weekday or a weekend\n",
    "\n",
    "c. Calculate a weekly paycheck, accounting for overtime pay. Create variables and make up values for:\n",
    "   - The number of hours worked in one week\n",
    "   - The hourly rate\n",
    "d. For calculating pay:\n",
    "   - For working 40 hours or less, each hour is paid at the hourly rate\n",
    "   - For working more than 40 hours\n",
    "       - the first 40 hours are paid at the hourly rate\n",
    "       - each hour after 40 is paid at time and a half (hourly rate * 1.5)"
   ]
  },
  {
   "cell_type": "markdown",
   "id": "9da87392",
   "metadata": {},
   "source": [
    "<b>1a. Prompt the user for a day of the week, print out whether the day is Monday or not"
   ]
  },
  {
   "cell_type": "code",
   "execution_count": 48,
   "id": "d832ea98",
   "metadata": {},
   "outputs": [
    {
     "name": "stdout",
     "output_type": "stream",
     "text": [
      "Enter a day of the week: Monday\n",
      "It is Monday!\n"
     ]
    }
   ],
   "source": [
    "day_of_week = input(\"Enter a day of the week: \")\n",
    "\n",
    "if day_of_week.lower() == \"monday\":\n",
    "    print(\"It is Monday!\")\n",
    "else:\n",
    "    print(\"It is not Monday!\")"
   ]
  },
  {
   "cell_type": "markdown",
   "id": "26ca190c",
   "metadata": {},
   "source": [
    "<hr style=\"border:1px solid grey\">"
   ]
  },
  {
   "cell_type": "markdown",
   "id": "98a71990",
   "metadata": {},
   "source": [
    "<b>1b. Prompt the user for a day of the week, print out whether the day is a weekday or a weekend"
   ]
  },
  {
   "cell_type": "code",
   "execution_count": 2,
   "id": "ae945936",
   "metadata": {},
   "outputs": [
    {
     "name": "stdout",
     "output_type": "stream",
     "text": [
      "Enter a day of the week: Wednesday\n",
      "It is not a Weekend!\n"
     ]
    }
   ],
   "source": [
    "#straight forward way\n",
    "day = input(\"Enter a day of the week: \")\n",
    "\n",
    "if day.lower() in [\"saturday\",\"sunday\"]:\n",
    "    print(\"It is a Weekend!\")\n",
    "else:\n",
    "    print(\"It is not a Weekend!\")"
   ]
  },
  {
   "cell_type": "code",
   "execution_count": 49,
   "id": "c2cf3312",
   "metadata": {},
   "outputs": [
    {
     "name": "stdout",
     "output_type": "stream",
     "text": [
      "what day of the week is it: tuesday\n",
      "weekday\n"
     ]
    }
   ],
   "source": [
    "#breaking it down by each day\n",
    "weekend_or_weekday = input('what day of the week is it: ')\n",
    "\n",
    "if weekend_or_weekday == 'Monday':\n",
    "    print('This is a weekday')\n",
    "elif weekend_or_weekday == 'Tuesday' or 'tuesday':\n",
    "    print('This is a weekday')\n",
    "elif weekend_or_weekday == 'Wednesday' or 'wednesday':\n",
    "    print('This is a weekday')\n",
    "elif weekend_or_weekday == 'Thursday' or 'thursday':\n",
    "    print('This is a weekday')\n",
    "elif weekend_or_weekday == 'Friday' or 'friday':\n",
    "    print('This is a weekday')\n",
    "else:\n",
    "    print ('This is a weekend day')"
   ]
  },
  {
   "cell_type": "markdown",
   "id": "badafd7b",
   "metadata": {},
   "source": [
    "<hr style=\"border:1px solid grey\">"
   ]
  },
  {
   "cell_type": "markdown",
   "id": "85791fe6",
   "metadata": {},
   "source": [
    "<b>1c. Calculate a weekly paycheck, accounting for overtime pay. "
   ]
  },
  {
   "cell_type": "markdown",
   "id": "98510bab",
   "metadata": {},
   "source": [
    "- The number of hours worked in one week\n",
    "- The hourly rate d. For calculating pay:\n",
    "- For working 40 hours or less, each hour is paid at the hourly rate\n",
    "- For working more than 40 hours\n",
    "    - The first 40 hours are paid at the hourly rate\n",
    "    - Each hour after 40 is paid at time and a half (hourly rate * 1.5)"
   ]
  },
  {
   "cell_type": "markdown",
   "id": "dd64547b",
   "metadata": {},
   "source": [
    "First, Let's break it down"
   ]
  },
  {
   "cell_type": "code",
   "execution_count": 4,
   "id": "f109a1c9",
   "metadata": {},
   "outputs": [],
   "source": [
    "#the number of hours worked in one week\n",
    "hours_per_day = 8\n",
    "days_per_week = 5\n",
    "hours_per_week = hours_per_day * days_per_week\n",
    "hours_per_week = 40"
   ]
  },
  {
   "cell_type": "code",
   "execution_count": 5,
   "id": "12d462cb",
   "metadata": {},
   "outputs": [],
   "source": [
    "#the hourly rate\n",
    "hourly_rate = 40"
   ]
  },
  {
   "cell_type": "code",
   "execution_count": 6,
   "id": "a6864014",
   "metadata": {},
   "outputs": [],
   "source": [
    "#how much the week's paycheck will be\n",
    "hourly_rate = 40\n",
    "overtime_pay = 1.5 * hourly_rate\n",
    "weekly_pay = (hours_per_week * hourly_rate) + overtime_pay"
   ]
  },
  {
   "cell_type": "markdown",
   "id": "4c20f48f",
   "metadata": {},
   "source": [
    "Now, Let's create the code"
   ]
  },
  {
   "cell_type": "code",
   "execution_count": 7,
   "id": "2c545d9d",
   "metadata": {},
   "outputs": [
    {
     "name": "stdout",
     "output_type": "stream",
     "text": [
      "How many hours did you work this week?: 50\n",
      "What is your hourly pay?: 20\n",
      "You worked overtime this week!\n",
      "Your weekly paycheck is 1100.00\n"
     ]
    }
   ],
   "source": [
    "#option 1\n",
    "hours_worked = input('How many hours did you work this week?: ')\n",
    "h= float(hours_worked)\n",
    "\n",
    "hourly_pay = input('What is your hourly pay?: ')\n",
    "pay= float(hourly_pay)\n",
    "\n",
    "if h <= 40:\n",
    "    pay = h*hourly_pay\n",
    "elif h > 40:\n",
    "    print('You worked overtime this week!')\n",
    "    pay = ((h-40)*pay*1.5)+pay*40   \n",
    "\n",
    "print (\"Your weekly paycheck is %.2f\" %pay)"
   ]
  },
  {
   "cell_type": "code",
   "execution_count": 8,
   "id": "a5e87a4c",
   "metadata": {},
   "outputs": [
    {
     "name": "stdout",
     "output_type": "stream",
     "text": [
      "OVERTIME!\n",
      "950.0\n"
     ]
    }
   ],
   "source": [
    "#option 2\n",
    "hours_worked = 45\n",
    "hourly_rate = 20\n",
    "\n",
    "if hours_worked <= 40:\n",
    "    paycheck = hours_worked * hourly_rate\n",
    "    print(paycheck)\n",
    "    \n",
    "elif hours_worked > 40:\n",
    "    print(\"OVERTIME!\")\n",
    "    ot_hours = (hours_worked - 40)\n",
    "    ot_rate = hourly_rate * 1.5\n",
    "    \n",
    "    ot_paycheck = (40 * hourly_rate) + (ot_hours * ot_rate)\n",
    "    print(ot_paycheck)"
   ]
  },
  {
   "cell_type": "markdown",
   "id": "78f15165",
   "metadata": {},
   "source": [
    "<hr style=\"border:2px solid black\">"
   ]
  },
  {
   "cell_type": "markdown",
   "id": "c330ac9c",
   "metadata": {},
   "source": [
    "## #2. Loop Basics"
   ]
  },
  {
   "cell_type": "markdown",
   "id": "0303c69d",
   "metadata": {},
   "source": [
    "a. While Loops\n",
    "- i. Create an integer variable ```i``` with a value of 5. Create a while loop that runs so long as ```i``` is less than or equal to 15. Each loop iteration, output the current value of ```i```, then increment ```i``` by one.\n",
    "- ii. Create a while loop that will count by 2's starting with 0 and ending at 100. Follow each number with a new line.\n",
    "- iii. Create a while loop that starts at 2, and displays the number squared on each line while the number is less than 1,000,000. Output should equal\n",
    "- iv. Write a while loop that uses print to create the output shown below.\n",
    "\n",
    "<br>\n",
    "\n",
    "b. For Loops\n",
    "- i. Write some code using a for loop that prompts the user for a number, then shows a multiplication table up through 10 for that number.\n",
    "- ii. Create a for loop that uses print to create the output shown below.\n",
    "\n",
    "<br>\n",
    "\n",
    "c. ```break``` and ```continue```\n",
    "- i. Write a program that prompts the user for a positive integer. Next write a loop that prints out the numbers from the number the user entered down to 1.\n",
    "- ii. The input function can be used to prompt for input and use that input in your python code. Prompt the user to enter a positive number and write a loop that counts from 0 to that number. (Hints: note that the input function returns a string, so you'll need to convert this to a numeric type.)\n",
    "- iii. Prompt the user for an odd number between 1 and 50. Use a loop and a break statement to continue prompting the user if they enter invalid input. (Hint: use the isdigit method on strings to determine this). Use a loop and the continue statement to output all the odd numbers between 1 and 50, except for the number the user entered."
   ]
  },
  {
   "cell_type": "markdown",
   "id": "01497d19",
   "metadata": {},
   "source": [
    "<hr style=\"border:1px solid black\">"
   ]
  },
  {
   "cell_type": "markdown",
   "id": "b0967e23",
   "metadata": {},
   "source": [
    "#### While Loops"
   ]
  },
  {
   "cell_type": "markdown",
   "id": "09adf354",
   "metadata": {},
   "source": [
    "<b>ai. Create an integer variable i with a value of 5. Create a while loop that runs so long as i is less than or equal to 15. Each loop iteration, output the current value of i, then increment i by one."
   ]
  },
  {
   "cell_type": "code",
   "execution_count": 9,
   "id": "f3e2aaee",
   "metadata": {},
   "outputs": [],
   "source": [
    "#Create an integer variable i with a value of 5.\n",
    "i = 5"
   ]
  },
  {
   "cell_type": "code",
   "execution_count": 10,
   "id": "07cd7496",
   "metadata": {},
   "outputs": [
    {
     "name": "stdout",
     "output_type": "stream",
     "text": [
      "5\n",
      "6\n",
      "7\n",
      "8\n",
      "9\n",
      "10\n",
      "11\n",
      "12\n",
      "13\n",
      "14\n",
      "15\n"
     ]
    }
   ],
   "source": [
    "#Each loop iteration, output the current value of i, then increment i by one.\n",
    "i = 5\n",
    "while i <= 15:\n",
    "    print(i)\n",
    "    i += 1"
   ]
  },
  {
   "cell_type": "markdown",
   "id": "35e38f80",
   "metadata": {},
   "source": [
    "<hr style=\"border:1px solid grey\">"
   ]
  },
  {
   "cell_type": "markdown",
   "id": "2f5b78eb",
   "metadata": {},
   "source": [
    "<b>aii. Create a while loop that will count by 2's starting with 0 and ending at 100. Follow each number with a new line."
   ]
  },
  {
   "cell_type": "code",
   "execution_count": 11,
   "id": "e1325c46",
   "metadata": {},
   "outputs": [
    {
     "name": "stdout",
     "output_type": "stream",
     "text": [
      "0\n",
      "2\n",
      "4\n",
      "6\n",
      "8\n",
      "10\n",
      "12\n",
      "14\n",
      "16\n",
      "18\n",
      "20\n",
      "22\n",
      "24\n",
      "26\n",
      "28\n",
      "30\n",
      "32\n",
      "34\n",
      "36\n",
      "38\n",
      "40\n",
      "42\n",
      "44\n",
      "46\n",
      "48\n",
      "50\n",
      "52\n",
      "54\n",
      "56\n",
      "58\n",
      "60\n",
      "62\n",
      "64\n",
      "66\n",
      "68\n",
      "70\n",
      "72\n",
      "74\n",
      "76\n",
      "78\n",
      "80\n",
      "82\n",
      "84\n",
      "86\n",
      "88\n",
      "90\n",
      "92\n",
      "94\n",
      "96\n",
      "98\n",
      "100\n"
     ]
    }
   ],
   "source": [
    "i = 0\n",
    "while i <= 100:\n",
    "    print(i)\n",
    "    i += 2"
   ]
  },
  {
   "cell_type": "markdown",
   "id": "8f157d6a",
   "metadata": {},
   "source": [
    "<hr style=\"border:1px solid grey\">"
   ]
  },
  {
   "cell_type": "markdown",
   "id": "b24788ca",
   "metadata": {},
   "source": [
    "<b>aiii. Create a while loop that starts at 2, and displays the number squared on each line while the number is less than 1,000,000. Output should equal"
   ]
  },
  {
   "cell_type": "code",
   "execution_count": 12,
   "id": "7fa29036",
   "metadata": {},
   "outputs": [
    {
     "name": "stdout",
     "output_type": "stream",
     "text": [
      "2\n",
      "4\n",
      "16\n",
      "256\n",
      "65536\n"
     ]
    }
   ],
   "source": [
    "i = 2\n",
    "while i < 1000000:\n",
    "    print(i)\n",
    "    i **= 2"
   ]
  },
  {
   "cell_type": "markdown",
   "id": "daa7a4ad",
   "metadata": {},
   "source": [
    "<hr style=\"border:1px solid grey\">"
   ]
  },
  {
   "cell_type": "markdown",
   "id": "ae31b05a",
   "metadata": {},
   "source": [
    "<b>aiv. Write a while loop that uses print to create the output shown below."
   ]
  },
  {
   "cell_type": "code",
   "execution_count": 13,
   "id": "49fa2a9f",
   "metadata": {},
   "outputs": [
    {
     "name": "stdout",
     "output_type": "stream",
     "text": [
      "100\n",
      "95\n",
      "90\n",
      "85\n",
      "80\n",
      "75\n",
      "70\n",
      "65\n",
      "60\n",
      "55\n",
      "50\n",
      "45\n",
      "40\n",
      "35\n",
      "30\n",
      "25\n",
      "20\n",
      "15\n",
      "10\n",
      "5\n"
     ]
    }
   ],
   "source": [
    "i = 100\n",
    "while i >= 5:\n",
    "    print(i)\n",
    "    i += -5"
   ]
  },
  {
   "cell_type": "markdown",
   "id": "9a07a3be",
   "metadata": {},
   "source": [
    "<hr style=\"border:1px solid black\">"
   ]
  },
  {
   "cell_type": "markdown",
   "id": "cc0f4195",
   "metadata": {},
   "source": [
    "#### For Loops"
   ]
  },
  {
   "cell_type": "markdown",
   "id": "d6961724",
   "metadata": {},
   "source": [
    "<b>bi. Write some code using a for loop that prompts the user for a number, then shows a multiplication table up through 10 for that number."
   ]
  },
  {
   "cell_type": "code",
   "execution_count": 14,
   "id": "a63e3858",
   "metadata": {},
   "outputs": [
    {
     "name": "stdout",
     "output_type": "stream",
     "text": [
      "Enter desired number: 5\n",
      "5 x 1 = 5\n",
      "5 x 2 = 10\n",
      "5 x 3 = 15\n",
      "5 x 4 = 20\n",
      "5 x 5 = 25\n",
      "5 x 6 = 30\n",
      "5 x 7 = 35\n",
      "5 x 8 = 40\n",
      "5 x 9 = 45\n",
      "5 x 10 = 50\n"
     ]
    }
   ],
   "source": [
    "#Option 1:\n",
    "user_num = int(input(\"Enter desired number: \"))\n",
    "\n",
    "for i in range(1,11):\n",
    "    print(user_num, 'x', i, '=', user_num*i)"
   ]
  },
  {
   "cell_type": "code",
   "execution_count": 15,
   "id": "d709ac62",
   "metadata": {},
   "outputs": [
    {
     "name": "stdout",
     "output_type": "stream",
     "text": [
      "Enter desired number: 5\n",
      "5 x 1 = 5\n",
      "5 x 2 = 10\n",
      "5 x 3 = 15\n",
      "5 x 4 = 20\n",
      "5 x 5 = 25\n",
      "5 x 6 = 30\n",
      "5 x 7 = 35\n",
      "5 x 8 = 40\n",
      "5 x 9 = 45\n",
      "5 x 10 = 50\n"
     ]
    }
   ],
   "source": [
    "#Option 2\n",
    "user_num = int(input(\"Enter desired number: \"))\n",
    "\n",
    "for i in range(1, 11):\n",
    "    print(f'{user_num} x {i} = {int(user_num) * i}')"
   ]
  },
  {
   "cell_type": "markdown",
   "id": "3ab35d55",
   "metadata": {},
   "source": [
    "<hr style=\"border:1px solid grey\">"
   ]
  },
  {
   "cell_type": "markdown",
   "id": "76ee906b",
   "metadata": {},
   "source": [
    "<b>bii. Create a ```for``` loop that uses ```print``` to create the output shown below."
   ]
  },
  {
   "cell_type": "code",
   "execution_count": 16,
   "id": "7bb58c4e",
   "metadata": {},
   "outputs": [
    {
     "name": "stdout",
     "output_type": "stream",
     "text": [
      "1\n",
      "22\n",
      "333\n",
      "4444\n",
      "55555\n",
      "666666\n",
      "7777777\n",
      "88888888\n",
      "999999999\n"
     ]
    }
   ],
   "source": [
    "for i in range(1, 10):\n",
    "    print(i * str(i))"
   ]
  },
  {
   "cell_type": "code",
   "execution_count": 17,
   "id": "2b3ed6c1",
   "metadata": {},
   "outputs": [
    {
     "name": "stdout",
     "output_type": "stream",
     "text": [
      "1\n",
      "22\n",
      "333\n",
      "4444\n",
      "55555\n",
      "666666\n",
      "7777777\n",
      "88888888\n",
      "999999999\n",
      "10101010101010101010\n"
     ]
    }
   ],
   "source": [
    "for i in range(1,11):\n",
    "    for j in range (1, i+1):\n",
    "        print(i, end=\"\")\n",
    "    print()"
   ]
  },
  {
   "cell_type": "markdown",
   "id": "4892d7fc",
   "metadata": {},
   "source": [
    "<hr style=\"border:1px solid black\">"
   ]
  },
  {
   "cell_type": "markdown",
   "id": "9833aaa8",
   "metadata": {},
   "source": [
    "#### Break and Continue"
   ]
  },
  {
   "cell_type": "markdown",
   "id": "8886069c",
   "metadata": {},
   "source": [
    "<b>ci. Write a program that prompts the user for a positive integer. Next write a loop that prints out the numbers from the number the user entered down to 1."
   ]
  },
  {
   "cell_type": "code",
   "execution_count": 18,
   "id": "4d9d118d",
   "metadata": {},
   "outputs": [
    {
     "name": "stdout",
     "output_type": "stream",
     "text": [
      "Please enter a positive number: 12\n",
      "This is a digit\n",
      "The number is positive!\n",
      "12\n",
      "11\n",
      "10\n",
      "9\n",
      "8\n",
      "7\n",
      "6\n",
      "5\n",
      "4\n",
      "3\n",
      "2\n",
      "1\n"
     ]
    }
   ],
   "source": [
    "while True:\n",
    "    user_num = input('Please enter a positive number: ')\n",
    "    \n",
    "    if user_num.isdigit() == True:\n",
    "        print('This is a digit')\n",
    "        if int(user_num) > 0:\n",
    "            print('The number is positive!')\n",
    "            break\n",
    "            \n",
    "user_num = int(user_num)\n",
    "for i in range(user_num, 0, -1):\n",
    "    print(i)"
   ]
  },
  {
   "cell_type": "markdown",
   "id": "073358ec",
   "metadata": {},
   "source": [
    "<hr style=\"border:1px solid grey\">"
   ]
  },
  {
   "cell_type": "markdown",
   "id": "2ff48658",
   "metadata": {},
   "source": [
    "<b>cii. The ```input``` function can be used to prompt for input and use that input in your python code. Prompt the user to enter a positive number and write a loop that counts from 0 to that number"
   ]
  },
  {
   "cell_type": "code",
   "execution_count": 19,
   "id": "1bc45a14",
   "metadata": {},
   "outputs": [
    {
     "name": "stdout",
     "output_type": "stream",
     "text": [
      "Please enter a positive number: 12\n",
      "This is a digit\n",
      "The number is positive!\n",
      "0\n",
      "1\n",
      "2\n",
      "3\n",
      "4\n",
      "5\n",
      "6\n",
      "7\n",
      "8\n",
      "9\n",
      "10\n",
      "11\n",
      "12\n"
     ]
    }
   ],
   "source": [
    "while True:\n",
    "    user_num = input('Please enter a positive number: ')\n",
    "    \n",
    "    if user_num.isdigit() == True:\n",
    "        print('This is a digit')\n",
    "        if int(user_num) > 0:\n",
    "            print('The number is positive!')\n",
    "            break\n",
    "            \n",
    "for i in range(int(user_num)+1):\n",
    "    print(i)"
   ]
  },
  {
   "cell_type": "markdown",
   "id": "5659173d",
   "metadata": {},
   "source": [
    "<hr style=\"border:1px solid grey\">"
   ]
  },
  {
   "cell_type": "markdown",
   "id": "0611af8b",
   "metadata": {},
   "source": [
    "<b>ciii. Prompt the user for an odd number between 1 and 50. Use a loop and a ```break``` statement to continue prompting the user if they enter invalid input."
   ]
  },
  {
   "cell_type": "code",
   "execution_count": 20,
   "id": "613d6591",
   "metadata": {},
   "outputs": [
    {
     "name": "stdout",
     "output_type": "stream",
     "text": [
      "Enter odd number between 1 and 50:3\n",
      "Here is an odd number:  1\n",
      "Here is an odd number:  3\n",
      "Here is an odd number:  5\n",
      "Here is an odd number:  7\n",
      "Here is an odd number:  9\n",
      "Here is an odd number:  11\n",
      "Here is an odd number:  13\n",
      "Here is an odd number:  15\n",
      "Here is an odd number:  17\n",
      "Here is an odd number:  19\n",
      "Here is an odd number:  21\n",
      "Here is an odd number:  23\n",
      "Here is an odd number:  25\n",
      "Here is an odd number:  27\n",
      "Here is an odd number:  29\n",
      "Here is an odd number:  31\n",
      "Here is an odd number:  33\n",
      "Here is an odd number:  35\n",
      "Here is an odd number:  37\n",
      "Here is an odd number:  39\n",
      "Here is an odd number:  41\n",
      "Here is an odd number:  43\n",
      "Here is an odd number:  45\n",
      "Here is an odd number:  47\n",
      "Here is an odd number:  49\n"
     ]
    }
   ],
   "source": [
    "while True:\n",
    "    odd_num = input('Enter odd number between 1 and 50:')\n",
    "    if odd_num.isdigit() and int(odd_num) % 2 == 1 and int(odd_num) <= 50:\n",
    "            break\n",
    "    odd_num = int(odd_num)\n",
    "for num in range(1, 50, 2):\n",
    "    if num == odd_num:\n",
    "        print('Yikes! Skipping number: ', num)\n",
    "    else:\n",
    "        print('Here is an odd number: ', num)"
   ]
  },
  {
   "cell_type": "markdown",
   "id": "5f4236d6",
   "metadata": {},
   "source": [
    "<hr style=\"border:2px solid black\">"
   ]
  },
  {
   "cell_type": "markdown",
   "id": "d94ffde1",
   "metadata": {},
   "source": [
    "## #3. Fizzbuzz\n",
    "One of the most common interview questions for entry-level programmers is the FizzBuzz test. Developed by Imran Ghory, the test is designed to test basic looping and conditional logic skills.\n",
    "\n",
    "- a. Write a program that prints the numbers from 1 to 100.\n",
    "- b. For multiples of three print \"Fizz\" instead of the number\n",
    "- c. For the multiples of five print \"Buzz\".\n",
    "- d. For numbers which are multiples of both three and five print \"FizzBuzz\"."
   ]
  },
  {
   "cell_type": "markdown",
   "id": "93da49b8",
   "metadata": {},
   "source": [
    "<b>3a. Write a program that prints the numbers from 1 to 100."
   ]
  },
  {
   "cell_type": "code",
   "execution_count": 21,
   "id": "775cd679",
   "metadata": {},
   "outputs": [
    {
     "name": "stdout",
     "output_type": "stream",
     "text": [
      "1\n",
      "2\n",
      "3\n",
      "4\n",
      "5\n",
      "6\n",
      "7\n",
      "8\n",
      "9\n",
      "10\n",
      "11\n",
      "12\n",
      "13\n",
      "14\n",
      "15\n",
      "16\n",
      "17\n",
      "18\n",
      "19\n",
      "20\n",
      "21\n",
      "22\n",
      "23\n",
      "24\n",
      "25\n",
      "26\n",
      "27\n",
      "28\n",
      "29\n",
      "30\n",
      "31\n",
      "32\n",
      "33\n",
      "34\n",
      "35\n",
      "36\n",
      "37\n",
      "38\n",
      "39\n",
      "40\n",
      "41\n",
      "42\n",
      "43\n",
      "44\n",
      "45\n",
      "46\n",
      "47\n",
      "48\n",
      "49\n",
      "50\n",
      "51\n",
      "52\n",
      "53\n",
      "54\n",
      "55\n",
      "56\n",
      "57\n",
      "58\n",
      "59\n",
      "60\n",
      "61\n",
      "62\n",
      "63\n",
      "64\n",
      "65\n",
      "66\n",
      "67\n",
      "68\n",
      "69\n",
      "70\n",
      "71\n",
      "72\n",
      "73\n",
      "74\n",
      "75\n",
      "76\n",
      "77\n",
      "78\n",
      "79\n",
      "80\n",
      "81\n",
      "82\n",
      "83\n",
      "84\n",
      "85\n",
      "86\n",
      "87\n",
      "88\n",
      "89\n",
      "90\n",
      "91\n",
      "92\n",
      "93\n",
      "94\n",
      "95\n",
      "96\n",
      "97\n",
      "98\n",
      "99\n",
      "100\n"
     ]
    }
   ],
   "source": [
    "for i in range(1,101): \n",
    "    print(i)"
   ]
  },
  {
   "cell_type": "markdown",
   "id": "2904eb46",
   "metadata": {},
   "source": [
    "<hr style=\"border:1px solid grey\">"
   ]
  },
  {
   "cell_type": "markdown",
   "id": "a1602de5",
   "metadata": {},
   "source": [
    "<b>3b. For multiples of three print \"Fizz\" instead of the number"
   ]
  },
  {
   "cell_type": "code",
   "execution_count": 22,
   "id": "ad43938f",
   "metadata": {},
   "outputs": [
    {
     "name": "stdout",
     "output_type": "stream",
     "text": [
      "1\n",
      "2\n",
      "Fizz\n",
      "4\n",
      "5\n",
      "Fizz\n",
      "7\n",
      "8\n",
      "Fizz\n",
      "10\n",
      "11\n",
      "Fizz\n",
      "13\n",
      "14\n",
      "Fizz\n",
      "16\n",
      "17\n",
      "Fizz\n",
      "19\n",
      "20\n",
      "Fizz\n",
      "22\n",
      "23\n",
      "Fizz\n",
      "25\n",
      "26\n",
      "Fizz\n",
      "28\n",
      "29\n",
      "Fizz\n",
      "31\n",
      "32\n",
      "Fizz\n",
      "34\n",
      "35\n",
      "Fizz\n",
      "37\n",
      "38\n",
      "Fizz\n",
      "40\n",
      "41\n",
      "Fizz\n",
      "43\n",
      "44\n",
      "Fizz\n",
      "46\n",
      "47\n",
      "Fizz\n",
      "49\n",
      "50\n",
      "Fizz\n",
      "52\n",
      "53\n",
      "Fizz\n",
      "55\n",
      "56\n",
      "Fizz\n",
      "58\n",
      "59\n",
      "Fizz\n",
      "61\n",
      "62\n",
      "Fizz\n",
      "64\n",
      "65\n",
      "Fizz\n",
      "67\n",
      "68\n",
      "Fizz\n",
      "70\n",
      "71\n",
      "Fizz\n",
      "73\n",
      "74\n",
      "Fizz\n",
      "76\n",
      "77\n",
      "Fizz\n",
      "79\n",
      "80\n",
      "Fizz\n",
      "82\n",
      "83\n",
      "Fizz\n",
      "85\n",
      "86\n",
      "Fizz\n",
      "88\n",
      "89\n",
      "Fizz\n",
      "91\n",
      "92\n",
      "Fizz\n",
      "94\n",
      "95\n",
      "Fizz\n",
      "97\n",
      "98\n",
      "Fizz\n",
      "100\n"
     ]
    }
   ],
   "source": [
    "for num in range(1, 101):\n",
    "    if num % 3 == 0:\n",
    "        print('Fizz')\n",
    "    else:\n",
    "        print(num)"
   ]
  },
  {
   "cell_type": "markdown",
   "id": "cf22d253",
   "metadata": {},
   "source": [
    "<hr style=\"border:1px solid grey\">"
   ]
  },
  {
   "cell_type": "markdown",
   "id": "00163725",
   "metadata": {},
   "source": [
    "<b>3c. For the multiples of five print \"Buzz\"."
   ]
  },
  {
   "cell_type": "code",
   "execution_count": 23,
   "id": "82c09288",
   "metadata": {},
   "outputs": [
    {
     "name": "stdout",
     "output_type": "stream",
     "text": [
      "1\n",
      "2\n",
      "3\n",
      "4\n",
      "Buzz\n",
      "6\n",
      "7\n",
      "8\n",
      "9\n",
      "Buzz\n",
      "11\n",
      "12\n",
      "13\n",
      "14\n",
      "Buzz\n",
      "16\n",
      "17\n",
      "18\n",
      "19\n",
      "Buzz\n",
      "21\n",
      "22\n",
      "23\n",
      "24\n",
      "Buzz\n",
      "26\n",
      "27\n",
      "28\n",
      "29\n",
      "Buzz\n",
      "31\n",
      "32\n",
      "33\n",
      "34\n",
      "Buzz\n",
      "36\n",
      "37\n",
      "38\n",
      "39\n",
      "Buzz\n",
      "41\n",
      "42\n",
      "43\n",
      "44\n",
      "Buzz\n",
      "46\n",
      "47\n",
      "48\n",
      "49\n",
      "Buzz\n",
      "51\n",
      "52\n",
      "53\n",
      "54\n",
      "Buzz\n",
      "56\n",
      "57\n",
      "58\n",
      "59\n",
      "Buzz\n",
      "61\n",
      "62\n",
      "63\n",
      "64\n",
      "Buzz\n",
      "66\n",
      "67\n",
      "68\n",
      "69\n",
      "Buzz\n",
      "71\n",
      "72\n",
      "73\n",
      "74\n",
      "Buzz\n",
      "76\n",
      "77\n",
      "78\n",
      "79\n",
      "Buzz\n",
      "81\n",
      "82\n",
      "83\n",
      "84\n",
      "Buzz\n",
      "86\n",
      "87\n",
      "88\n",
      "89\n",
      "Buzz\n",
      "91\n",
      "92\n",
      "93\n",
      "94\n",
      "Buzz\n",
      "96\n",
      "97\n",
      "98\n",
      "99\n",
      "Buzz\n"
     ]
    }
   ],
   "source": [
    "for num in range(1, 101):\n",
    "    if num % 5 == 0:\n",
    "        print('Buzz')\n",
    "    else:\n",
    "        print(num)"
   ]
  },
  {
   "cell_type": "markdown",
   "id": "bfa0e2df",
   "metadata": {},
   "source": [
    "<hr style=\"border:1px solid grey\">"
   ]
  },
  {
   "cell_type": "markdown",
   "id": "c663b4d3",
   "metadata": {},
   "source": [
    "<b>3d. For numbers which are multiples of both three and five print \"FizzBuzz\"."
   ]
  },
  {
   "cell_type": "code",
   "execution_count": 24,
   "id": "653bcaf9",
   "metadata": {},
   "outputs": [
    {
     "name": "stdout",
     "output_type": "stream",
     "text": [
      "1\n",
      "2\n",
      "Fizz\n",
      "4\n",
      "Buzz\n",
      "Fizz\n",
      "7\n",
      "8\n",
      "Fizz\n",
      "Buzz\n",
      "11\n",
      "Fizz\n",
      "13\n",
      "14\n",
      "FizzBuzz\n",
      "16\n",
      "17\n",
      "Fizz\n",
      "19\n",
      "Buzz\n",
      "Fizz\n",
      "22\n",
      "23\n",
      "Fizz\n",
      "Buzz\n",
      "26\n",
      "Fizz\n",
      "28\n",
      "29\n",
      "FizzBuzz\n",
      "31\n",
      "32\n",
      "Fizz\n",
      "34\n",
      "Buzz\n",
      "Fizz\n",
      "37\n",
      "38\n",
      "Fizz\n",
      "Buzz\n",
      "41\n",
      "Fizz\n",
      "43\n",
      "44\n",
      "FizzBuzz\n",
      "46\n",
      "47\n",
      "Fizz\n",
      "49\n",
      "Buzz\n",
      "Fizz\n",
      "52\n",
      "53\n",
      "Fizz\n",
      "Buzz\n",
      "56\n",
      "Fizz\n",
      "58\n",
      "59\n",
      "FizzBuzz\n",
      "61\n",
      "62\n",
      "Fizz\n",
      "64\n",
      "Buzz\n",
      "Fizz\n",
      "67\n",
      "68\n",
      "Fizz\n",
      "Buzz\n",
      "71\n",
      "Fizz\n",
      "73\n",
      "74\n",
      "FizzBuzz\n",
      "76\n",
      "77\n",
      "Fizz\n",
      "79\n",
      "Buzz\n",
      "Fizz\n",
      "82\n",
      "83\n",
      "Fizz\n",
      "Buzz\n",
      "86\n",
      "Fizz\n",
      "88\n",
      "89\n",
      "FizzBuzz\n",
      "91\n",
      "92\n",
      "Fizz\n",
      "94\n",
      "Buzz\n",
      "Fizz\n",
      "97\n",
      "98\n",
      "Fizz\n",
      "Buzz\n"
     ]
    }
   ],
   "source": [
    "#Option 1\n",
    "for i in range(1,101):\n",
    "    if i % 15 == 0:\n",
    "        print('FizzBuzz')\n",
    "        continue\n",
    "    if i % 3 == 0:\n",
    "        print('Fizz')\n",
    "        continue\n",
    "    if i % 5 == 0:\n",
    "        print('Buzz')\n",
    "        continue\n",
    "    print(i)"
   ]
  },
  {
   "cell_type": "code",
   "execution_count": 25,
   "id": "4b8392d2",
   "metadata": {},
   "outputs": [
    {
     "name": "stdout",
     "output_type": "stream",
     "text": [
      "1\n",
      "2\n",
      "Fizz\n",
      "3\n",
      "4\n",
      "Buzz\n",
      "5\n",
      "Fizz\n",
      "6\n",
      "7\n",
      "8\n",
      "Fizz\n",
      "9\n",
      "Buzz\n",
      "10\n",
      "11\n",
      "Fizz\n",
      "12\n",
      "13\n",
      "14\n",
      "Fizz\n",
      "Buzz\n",
      "FizzBuzz\n",
      "16\n",
      "17\n",
      "Fizz\n",
      "18\n",
      "19\n",
      "Buzz\n",
      "20\n",
      "Fizz\n",
      "21\n",
      "22\n",
      "23\n",
      "Fizz\n",
      "24\n",
      "Buzz\n",
      "25\n",
      "26\n",
      "Fizz\n",
      "27\n",
      "28\n",
      "29\n",
      "Fizz\n",
      "Buzz\n",
      "FizzBuzz\n",
      "31\n",
      "32\n",
      "Fizz\n",
      "33\n",
      "34\n",
      "Buzz\n",
      "35\n",
      "Fizz\n",
      "36\n",
      "37\n",
      "38\n",
      "Fizz\n",
      "39\n",
      "Buzz\n",
      "40\n",
      "41\n",
      "Fizz\n",
      "42\n",
      "43\n",
      "44\n",
      "Fizz\n",
      "Buzz\n",
      "FizzBuzz\n",
      "46\n",
      "47\n",
      "Fizz\n",
      "48\n",
      "49\n",
      "Buzz\n",
      "50\n",
      "Fizz\n",
      "51\n",
      "52\n",
      "53\n",
      "Fizz\n",
      "54\n",
      "Buzz\n",
      "55\n",
      "56\n",
      "Fizz\n",
      "57\n",
      "58\n",
      "59\n",
      "Fizz\n",
      "Buzz\n",
      "FizzBuzz\n",
      "61\n",
      "62\n",
      "Fizz\n",
      "63\n",
      "64\n",
      "Buzz\n",
      "65\n",
      "Fizz\n",
      "66\n",
      "67\n",
      "68\n",
      "Fizz\n",
      "69\n",
      "Buzz\n",
      "70\n",
      "71\n",
      "Fizz\n",
      "72\n",
      "73\n",
      "74\n",
      "Fizz\n",
      "Buzz\n",
      "FizzBuzz\n",
      "76\n",
      "77\n",
      "Fizz\n",
      "78\n",
      "79\n",
      "Buzz\n",
      "80\n",
      "Fizz\n",
      "81\n",
      "82\n",
      "83\n",
      "Fizz\n",
      "84\n",
      "Buzz\n",
      "85\n",
      "86\n",
      "Fizz\n",
      "87\n",
      "88\n",
      "89\n",
      "Fizz\n",
      "Buzz\n",
      "FizzBuzz\n",
      "91\n",
      "92\n",
      "Fizz\n",
      "93\n",
      "94\n",
      "Buzz\n",
      "95\n",
      "Fizz\n",
      "96\n",
      "97\n",
      "98\n",
      "Fizz\n",
      "99\n",
      "Buzz\n",
      "100\n"
     ]
    }
   ],
   "source": [
    "#Option 2\n",
    "for num in range(1, 101):\n",
    "    if num % 3 == 0:\n",
    "        print('Fizz')\n",
    "    if num % 5 == 0:\n",
    "        print('Buzz')\n",
    "    if num % 3 == 0 and num % 5 == 0:\n",
    "        print('FizzBuzz')\n",
    "    else:\n",
    "        print(num)"
   ]
  },
  {
   "cell_type": "markdown",
   "id": "aab19387",
   "metadata": {},
   "source": [
    "<hr style=\"border:2px solid gray\">"
   ]
  },
  {
   "cell_type": "markdown",
   "id": "5a7bca8d",
   "metadata": {},
   "source": [
    "## #4. Display a table of powers.\n",
    "\n",
    "- a. Prompt the user to enter an integer\n",
    "- b. Display a table of squares and cubes from 1 to the value entered\n",
    "- c. \n",
    "    - Ask if the user wants to continue\n",
    "    - Assume that the user will enter valid data\n",
    "    - Only continue if the user agrees to"
   ]
  },
  {
   "cell_type": "markdown",
   "id": "d4d846aa",
   "metadata": {},
   "source": [
    "<b>4a. Prompt the user to enter an integer"
   ]
  },
  {
   "cell_type": "code",
   "execution_count": 29,
   "id": "6300dd98",
   "metadata": {},
   "outputs": [
    {
     "name": "stdout",
     "output_type": "stream",
     "text": [
      "what number would you like to go up to: 15\n"
     ]
    }
   ],
   "source": [
    "integer = int(input(\"what number would you like to go up to: \"))"
   ]
  },
  {
   "cell_type": "markdown",
   "id": "f7e9abaf",
   "metadata": {},
   "source": [
    "<hr style=\"border:1px solid grey\">"
   ]
  },
  {
   "cell_type": "markdown",
   "id": "ffc890bc",
   "metadata": {},
   "source": [
    "<b>4b. Display a table of squares and cubes from 1 to the value entered"
   ]
  },
  {
   "cell_type": "code",
   "execution_count": 38,
   "id": "1b7fa1ed",
   "metadata": {},
   "outputs": [
    {
     "name": "stdout",
     "output_type": "stream",
     "text": [
      "What number would you like to go up to?: 10\n",
      "0 | 0  | 0\n",
      "1 | 1  | 1\n",
      "2 | 4  | 8\n",
      "3 | 9  | 27\n",
      "4 | 16  | 64\n",
      "5 | 25  | 125\n",
      "6 | 36  | 216\n",
      "7 | 49  | 343\n",
      "8 | 64  | 512\n",
      "9 | 81  | 729\n"
     ]
    }
   ],
   "source": [
    "integer = int(input(\"What number would you like to go up to?: \"))\n",
    "\n",
    "for i in range(integer):\n",
    "    print(f'{i} | {i**2}  | {i**3}')  "
   ]
  },
  {
   "cell_type": "markdown",
   "id": "aa53b4eb",
   "metadata": {},
   "source": [
    "<hr style=\"border:1px solid grey\">"
   ]
  },
  {
   "cell_type": "markdown",
   "id": "4dc85911",
   "metadata": {},
   "source": [
    "<b>4c.</b>\n",
    "   - Ask if the user wants to continue\n",
    "   - Assume that the user will enter valid data\n",
    "   - Only continue if the user agrees to"
   ]
  },
  {
   "cell_type": "code",
   "execution_count": null,
   "id": "fd022da2",
   "metadata": {},
   "outputs": [],
   "source": []
  },
  {
   "cell_type": "markdown",
   "id": "eb7b93de",
   "metadata": {},
   "source": [
    "<hr style=\"border:2px solid gray\">"
   ]
  }
 ],
 "metadata": {
  "kernelspec": {
   "display_name": "Python 3 (ipykernel)",
   "language": "python",
   "name": "python3"
  },
  "language_info": {
   "codemirror_mode": {
    "name": "ipython",
    "version": 3
   },
   "file_extension": ".py",
   "mimetype": "text/x-python",
   "name": "python",
   "nbconvert_exporter": "python",
   "pygments_lexer": "ipython3",
   "version": "3.9.13"
  }
 },
 "nbformat": 4,
 "nbformat_minor": 5
}
