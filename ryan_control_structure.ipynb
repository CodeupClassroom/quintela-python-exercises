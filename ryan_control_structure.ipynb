{
 "cells": [
  {
   "cell_type": "markdown",
   "id": "af01d553",
   "metadata": {},
   "source": [
    "# Control Structures Exercise Review"
   ]
  },
  {
   "cell_type": "markdown",
   "id": "47c64099",
   "metadata": {},
   "source": [
    "## 1a. Prompt the user for a day of the week, print out whether the day is Monday or not"
   ]
  },
  {
   "cell_type": "code",
   "execution_count": 6,
   "id": "b1d09dc3",
   "metadata": {},
   "outputs": [
    {
     "name": "stdout",
     "output_type": "stream",
     "text": [
      "Enter a day of the week: monday\n",
      "It is Monday!\n"
     ]
    }
   ],
   "source": [
    "user_input = input(\"Enter a day of the week: \")\n",
    "\n",
    "if user_input.lower() == \"monday\":\n",
    "    print(\"It is Monday!\")\n",
    "else:\n",
    "    print(\"It is not Monday!\")"
   ]
  },
  {
   "cell_type": "markdown",
   "id": "fc9f7606",
   "metadata": {},
   "source": [
    "## 1b. Prompt the user for a day of the week, print out whether the day is a weekday or a weekend"
   ]
  },
  {
   "cell_type": "code",
   "execution_count": 8,
   "id": "c7033619",
   "metadata": {},
   "outputs": [
    {
     "name": "stdout",
     "output_type": "stream",
     "text": [
      "Enter a day of the week: Monday\n",
      "It is a weekday :(\n"
     ]
    }
   ],
   "source": [
    "user_input = input(\"Enter a day of the week: \")\n",
    "\n",
    "if user_input.lower() in ['saturday', 'sunday']:\n",
    "    print(\"It is the weekend!!!\")\n",
    "else:\n",
    "    print(\"It is a weekday :(\")"
   ]
  },
  {
   "cell_type": "markdown",
   "id": "e26ba8ab",
   "metadata": {},
   "source": [
    "## 1c. Calculate a weekly paycheck, accounting for overtime pay. Create variables and make up values for:\n",
    "\n",
    "* The number of hours worked in one week\n",
    "* The hourly rate\n",
    "\n",
    "For calculating pay:\n",
    "\n",
    "* For working 40 hours or less, each hour is paid at the hourly rate\n",
    "* For working more than 40 hours\n",
    "    * the first 40 hours are paid at the hourly rate\n",
    "    * each hour after 40 is paid at time and a half (hourly rate * 1.5)\n",
    "    \n",
    " "
   ]
  },
  {
   "cell_type": "code",
   "execution_count": 14,
   "id": "32467c7c",
   "metadata": {},
   "outputs": [
    {
     "name": "stdout",
     "output_type": "stream",
     "text": [
      "Your pay is 3500\n"
     ]
    }
   ],
   "source": [
    "hours_worked = 35\n",
    "hourly_rate = 100\n",
    "\n",
    "if hours_worked <= 40:\n",
    "    paycheck = hours_worked * hourly_rate\n",
    "    print(f\"Your pay is {paycheck}\")\n",
    "else:\n",
    "    print(\"You made Overtime!!!\")\n",
    "    overtime_hours = hours_worked - 40\n",
    "    overtime_rate = hourly_rate * 1.5\n",
    "    \n",
    "    overtime_paycheck = (40 * hourly_rate) + (overtime_hours * overtime_rate)\n",
    "    print(f\"You pay with overtime included is {overtime_paycheck}\")"
   ]
  },
  {
   "cell_type": "markdown",
   "id": "ec5bcd3e",
   "metadata": {},
   "source": [
    "## 2a. While\n",
    "\n",
    "Create an integer variable i with a value of 5. Create a while loop that runs so long as i is less than or equal to 15. Each loop iteration, output the current value of i, then increment i by one.\n",
    "Your output should look like this:\n",
    "\n",
    "```\n",
    "5\n",
    "6\n",
    "7\n",
    "8\n",
    "9\n",
    "10\n",
    "11\n",
    "12\n",
    "13\n",
    "14\n",
    "15\n",
    "```"
   ]
  },
  {
   "cell_type": "code",
   "execution_count": 15,
   "id": "e7d47dae",
   "metadata": {},
   "outputs": [
    {
     "name": "stdout",
     "output_type": "stream",
     "text": [
      "5\n",
      "6\n",
      "7\n",
      "8\n",
      "9\n",
      "10\n",
      "11\n",
      "12\n",
      "13\n",
      "14\n",
      "15\n"
     ]
    }
   ],
   "source": [
    "i = 5\n",
    "\n",
    "while i <= 15:\n",
    "    print(i)\n",
    "    i += 1"
   ]
  },
  {
   "cell_type": "markdown",
   "id": "1c79c948",
   "metadata": {},
   "source": [
    "### Create a while loop that will count by 2's starting with 0 and ending at 100. Follow each number with a new line."
   ]
  },
  {
   "cell_type": "code",
   "execution_count": 16,
   "id": "dc5ab414",
   "metadata": {},
   "outputs": [
    {
     "name": "stdout",
     "output_type": "stream",
     "text": [
      "0\n",
      "2\n",
      "4\n",
      "6\n",
      "8\n",
      "10\n",
      "12\n",
      "14\n",
      "16\n",
      "18\n",
      "20\n",
      "22\n",
      "24\n",
      "26\n",
      "28\n",
      "30\n",
      "32\n",
      "34\n",
      "36\n",
      "38\n",
      "40\n",
      "42\n",
      "44\n",
      "46\n",
      "48\n",
      "50\n",
      "52\n",
      "54\n",
      "56\n",
      "58\n",
      "60\n",
      "62\n",
      "64\n",
      "66\n",
      "68\n",
      "70\n",
      "72\n",
      "74\n",
      "76\n",
      "78\n",
      "80\n",
      "82\n",
      "84\n",
      "86\n",
      "88\n",
      "90\n",
      "92\n",
      "94\n",
      "96\n",
      "98\n",
      "100\n"
     ]
    }
   ],
   "source": [
    "i = 0\n",
    "\n",
    "while i <= 100:\n",
    "    print(i)\n",
    "    i += 2"
   ]
  },
  {
   "cell_type": "markdown",
   "id": "b0c2ed93",
   "metadata": {},
   "source": [
    "###  Create a while loop that starts at 2, and displays the number squared on each line while the number is less than 1,000,000. Output should equal:\n",
    "\n",
    "```\n",
    " 2\n",
    " 4\n",
    " 16\n",
    " 256\n",
    " 65536\n",
    "```"
   ]
  },
  {
   "cell_type": "code",
   "execution_count": 19,
   "id": "822c2081",
   "metadata": {},
   "outputs": [
    {
     "name": "stdout",
     "output_type": "stream",
     "text": [
      "2\n",
      "4\n",
      "16\n",
      "256\n",
      "65536\n"
     ]
    }
   ],
   "source": [
    "i = 2\n",
    "\n",
    "while i < 1_000_000:\n",
    "    print(i)\n",
    "    i **= 2"
   ]
  },
  {
   "cell_type": "markdown",
   "id": "ef50f930",
   "metadata": {},
   "source": [
    "### Write a while loop that uses print to create the output shown below.\n",
    "\n",
    "```\n",
    "100\n",
    "95\n",
    "90\n",
    "85\n",
    "80\n",
    "75\n",
    "70\n",
    "65\n",
    "60\n",
    "55\n",
    "50\n",
    "45\n",
    "40\n",
    "35\n",
    "30\n",
    "25\n",
    "20\n",
    "15\n",
    "10\n",
    "5\n",
    "```"
   ]
  },
  {
   "cell_type": "code",
   "execution_count": 20,
   "id": "b2201788",
   "metadata": {},
   "outputs": [
    {
     "name": "stdout",
     "output_type": "stream",
     "text": [
      "100\n",
      "95\n",
      "90\n",
      "85\n",
      "80\n",
      "75\n",
      "70\n",
      "65\n",
      "60\n",
      "55\n",
      "50\n",
      "45\n",
      "40\n",
      "35\n",
      "30\n",
      "25\n",
      "20\n",
      "15\n",
      "10\n",
      "5\n"
     ]
    }
   ],
   "source": [
    "i = 100\n",
    "\n",
    "while i > 5:\n",
    "    print(i)\n",
    "    i -= 5"
   ]
  },
  {
   "cell_type": "markdown",
   "id": "375496e9",
   "metadata": {},
   "source": [
    "## For Loops\n",
    "\n",
    "### Write some code using a for loop that prompts the user for a number, then shows a multiplication table up through 10 for that number.\n",
    "\n",
    "#### For example, if the user enters 7, your program should output:\n",
    "\n",
    "```\n",
    "7 x 1 = 7\n",
    "7 x 2 = 14\n",
    "7 x 3 = 21\n",
    "7 x 4 = 28\n",
    "7 x 5 = 35\n",
    "7 x 6 = 42\n",
    "7 x 7 = 49\n",
    "7 x 8 = 56\n",
    "7 x 9 = 63\n",
    "7 x 10 = 70\n",
    "```"
   ]
  },
  {
   "cell_type": "code",
   "execution_count": 23,
   "id": "4a2eb1a1",
   "metadata": {},
   "outputs": [
    {
     "name": "stdout",
     "output_type": "stream",
     "text": [
      "Give me a number: 7\n",
      "7 x 1 = 7\n",
      "7 x 2 = 14\n",
      "7 x 3 = 21\n",
      "7 x 4 = 28\n",
      "7 x 5 = 35\n",
      "7 x 6 = 42\n",
      "7 x 7 = 49\n",
      "7 x 8 = 56\n",
      "7 x 9 = 63\n",
      "7 x 10 = 70\n"
     ]
    }
   ],
   "source": [
    "user_input = int(input(\"Give me a number: \"))\n",
    "\n",
    "for multiplier in range(1, 11):\n",
    "    print(f'{user_input} x {multiplier} = {user_input * multiplier}')"
   ]
  },
  {
   "cell_type": "markdown",
   "id": "8d9aad68",
   "metadata": {},
   "source": [
    "### Create a for loop that uses print to create the output shown below.\n",
    "\n",
    "```\n",
    "1\n",
    "22\n",
    "333\n",
    "4444\n",
    "55555\n",
    "666666\n",
    "7777777\n",
    "88888888\n",
    "999999999\n",
    "```"
   ]
  },
  {
   "cell_type": "code",
   "execution_count": 24,
   "id": "e9ba68fa",
   "metadata": {},
   "outputs": [
    {
     "name": "stdout",
     "output_type": "stream",
     "text": [
      "1\n",
      "22\n",
      "333\n",
      "4444\n",
      "55555\n",
      "666666\n",
      "7777777\n",
      "88888888\n",
      "999999999\n"
     ]
    }
   ],
   "source": [
    "for number in range(1, 10):\n",
    "    print(str(number) * number)"
   ]
  },
  {
   "cell_type": "code",
   "execution_count": 31,
   "id": "be18b56b",
   "metadata": {},
   "outputs": [],
   "source": [
    "number = 3"
   ]
  },
  {
   "cell_type": "code",
   "execution_count": 32,
   "id": "50f678e5",
   "metadata": {},
   "outputs": [
    {
     "data": {
      "text/plain": [
       "'333'"
      ]
     },
     "execution_count": 32,
     "metadata": {},
     "output_type": "execute_result"
    }
   ],
   "source": [
    "str(number) * number"
   ]
  },
  {
   "cell_type": "code",
   "execution_count": 27,
   "id": "81011348",
   "metadata": {},
   "outputs": [
    {
     "data": {
      "text/plain": [
       "'pizzapizza'"
      ]
     },
     "execution_count": 27,
     "metadata": {},
     "output_type": "execute_result"
    }
   ],
   "source": [
    "'pizza' * 2"
   ]
  },
  {
   "cell_type": "markdown",
   "id": "cf296df6",
   "metadata": {},
   "source": [
    "## `break` and `continue`\n",
    "\n",
    "### Write a program that prompts the user for a positive integer. Next write a loop that prints out the numbers from the number the user entered down to 1."
   ]
  },
  {
   "cell_type": "code",
   "execution_count": 44,
   "id": "9edd36ef",
   "metadata": {},
   "outputs": [
    {
     "name": "stdout",
     "output_type": "stream",
     "text": [
      "Give me a positive integer: no\n",
      "That is not an positive interger!\n",
      "Give me a positive integer: -10\n",
      "That is not an positive interger!\n",
      "Give me a positive integer: 10\n",
      "Thanks for give me a digit.\n",
      "Thank you for giving me a positive number.\n",
      "10\n",
      "9\n",
      "8\n",
      "7\n",
      "6\n",
      "5\n",
      "4\n",
      "3\n",
      "2\n",
      "1\n"
     ]
    }
   ],
   "source": [
    "while True:\n",
    "    user_input = input('Give me a positive integer: ')\n",
    "    \n",
    "    if user_input.isdigit():\n",
    "        print('Thanks for give me a digit.')\n",
    "        user_input = int(user_input)\n",
    "        \n",
    "        if user_input > 0:\n",
    "            print('Thank you for giving me a positive number.')\n",
    "            break\n",
    "        \n",
    "    else:\n",
    "        print('That is not an positive interger!')\n",
    "\n",
    "while user_input > 0:\n",
    "    print(user_input)\n",
    "    user_input -= 1"
   ]
  },
  {
   "cell_type": "code",
   "execution_count": 35,
   "id": "619dab5a",
   "metadata": {},
   "outputs": [
    {
     "data": {
      "text/plain": [
       "False"
      ]
     },
     "execution_count": 35,
     "metadata": {},
     "output_type": "execute_result"
    }
   ],
   "source": [
    "'break'.isdigit()"
   ]
  },
  {
   "cell_type": "code",
   "execution_count": 36,
   "id": "0abe9fc4",
   "metadata": {},
   "outputs": [
    {
     "data": {
      "text/plain": [
       "True"
      ]
     },
     "execution_count": 36,
     "metadata": {},
     "output_type": "execute_result"
    }
   ],
   "source": [
    "'10'.isdigit()"
   ]
  },
  {
   "cell_type": "code",
   "execution_count": 42,
   "id": "18485166",
   "metadata": {},
   "outputs": [
    {
     "data": {
      "text/plain": [
       "-10"
      ]
     },
     "execution_count": 42,
     "metadata": {},
     "output_type": "execute_result"
    }
   ],
   "source": [
    "int('-10')"
   ]
  },
  {
   "cell_type": "code",
   "execution_count": 43,
   "id": "6a0ba010",
   "metadata": {
    "scrolled": true
   },
   "outputs": [
    {
     "data": {
      "text/plain": [
       "False"
      ]
     },
     "execution_count": 43,
     "metadata": {},
     "output_type": "execute_result"
    }
   ],
   "source": [
    "'-10'.isdigit()"
   ]
  },
  {
   "cell_type": "markdown",
   "id": "fca4175b",
   "metadata": {},
   "source": [
    "### The `input` function can be used to prompt for input and use that input in your python code. Prompt the user to enter a positive number and write a loop that counts from 0 to that number. (Hints: note that the input function returns a string, so you'll need to convert this to a numeric type.)"
   ]
  },
  {
   "cell_type": "code",
   "execution_count": 48,
   "id": "58552a5d",
   "metadata": {},
   "outputs": [
    {
     "name": "stdout",
     "output_type": "stream",
     "text": [
      "Give me a positive number: 10\n",
      "Thanks for give me a digit.\n",
      "Thank you for giving me a positive number.\n",
      "0\n",
      "1\n",
      "2\n",
      "3\n",
      "4\n",
      "5\n",
      "6\n",
      "7\n",
      "8\n",
      "9\n",
      "10\n"
     ]
    }
   ],
   "source": [
    "while True:\n",
    "    user_input = input('Give me a positive number: ')\n",
    "    \n",
    "    if user_input.isdigit():\n",
    "        print('Thanks for give me a digit.')\n",
    "        user_input = int(user_input)\n",
    "        \n",
    "        if user_input > 0:\n",
    "            print('Thank you for giving me a positive number.')\n",
    "            break\n",
    "        \n",
    "    else:\n",
    "        print('That is not an positive number!')\n",
    "        \n",
    "        \n",
    "for number in range(user_input + 1):\n",
    "    print(number)"
   ]
  },
  {
   "cell_type": "markdown",
   "id": "1cfdd5fa",
   "metadata": {},
   "source": [
    "### Prompt the user for an odd number between 1 and 50. Use a loop and a break statement to continue prompting the user if they enter invalid input. (Hint: use the isdigit method on strings to determine this). Use a loop and the continue statement to output all the odd numbers between 1 and 50, except for the number the user entered.\n",
    "\n",
    "### Your output should look like this:\n",
    "\n",
    "```\n",
    "Number to skip is: 27\n",
    "\n",
    "Here is an odd number: 1\n",
    "Here is an odd number: 3\n",
    "Here is an odd number: 5\n",
    "Here is an odd number: 7\n",
    "Here is an odd number: 9\n",
    "Here is an odd number: 11\n",
    "Here is an odd number: 13\n",
    "Here is an odd number: 15\n",
    "Here is an odd number: 17\n",
    "Here is an odd number: 19\n",
    "Here is an odd number: 21\n",
    "Here is an odd number: 23\n",
    "Here is an odd number: 25\n",
    "Yikes! Skipping number: 27\n",
    "Here is an odd number: 29\n",
    "Here is an odd number: 31\n",
    "Here is an odd number: 33\n",
    "Here is an odd number: 35\n",
    "Here is an odd number: 37\n",
    "Here is an odd number: 39\n",
    "Here is an odd number: 41\n",
    "Here is an odd number: 43\n",
    "Here is an odd number: 45\n",
    "Here is an odd number: 47\n",
    "Here is an odd number: 49\n",
    "```"
   ]
  },
  {
   "cell_type": "code",
   "execution_count": 51,
   "id": "71633728",
   "metadata": {},
   "outputs": [
    {
     "name": "stdout",
     "output_type": "stream",
     "text": [
      "Give me a positive odd number between 1 and 50: 4\n",
      "Give me a positive odd number between 1 and 50: no\n",
      "That is not a positive odd number between 1 and 50!\n",
      "Give me a positive odd number between 1 and 50: 3\n",
      "Thank you for giving me a positive odd number between 1 and 50.\n",
      "Here is an odd number: 1\n",
      "Yikes! Skipping number: 3\n",
      "Here is an odd number: 5\n",
      "Here is an odd number: 7\n",
      "Here is an odd number: 9\n",
      "Here is an odd number: 11\n",
      "Here is an odd number: 13\n",
      "Here is an odd number: 15\n",
      "Here is an odd number: 17\n",
      "Here is an odd number: 19\n",
      "Here is an odd number: 21\n",
      "Here is an odd number: 23\n",
      "Here is an odd number: 25\n",
      "Here is an odd number: 27\n",
      "Here is an odd number: 29\n",
      "Here is an odd number: 31\n",
      "Here is an odd number: 33\n",
      "Here is an odd number: 35\n",
      "Here is an odd number: 37\n",
      "Here is an odd number: 39\n",
      "Here is an odd number: 41\n",
      "Here is an odd number: 43\n",
      "Here is an odd number: 45\n",
      "Here is an odd number: 47\n",
      "Here is an odd number: 49\n"
     ]
    }
   ],
   "source": [
    "while True:\n",
    "    user_input = input('Give me a positive odd number between 1 and 50: ')\n",
    "    \n",
    "    if user_input.isdigit():\n",
    "        user_input = int(user_input)\n",
    "        \n",
    "        if user_input > 0 and user_input <= 50 and user_input % 2 == 1:\n",
    "            print('Thank you for giving me a positive odd number between 1 and 50.')\n",
    "            break\n",
    "        \n",
    "    else:\n",
    "        print('That is not a positive odd number between 1 and 50!')\n",
    "        \n",
    "for i in range(1, 50):\n",
    "    if i == user_input:\n",
    "        print(f'Yikes! Skipping number: {i}')\n",
    "        continue\n",
    "    \n",
    "    if i % 2 == 1:\n",
    "        print(f'Here is an odd number: {i}')"
   ]
  },
  {
   "cell_type": "markdown",
   "id": "a211922d",
   "metadata": {},
   "source": [
    "## Fizzbuzz\n",
    "\n",
    "### One of the most common interview questions for entry-level programmers is the FizzBuzz test. Developed by Imran Ghory, the test is designed to test basic looping and conditional logic skills.\n",
    "\n",
    "* Write a program that prints the numbers from 1 to 100.\n",
    "* For multiples of three print \"Fizz\" instead of the number\n",
    "* For the multiples of five print \"Buzz\".\n",
    "* For numbers which are multiples of both three and five print \"FizzBuzz\"."
   ]
  },
  {
   "cell_type": "code",
   "execution_count": 53,
   "id": "c8200e6c",
   "metadata": {},
   "outputs": [
    {
     "name": "stdout",
     "output_type": "stream",
     "text": [
      "1\n",
      "2\n",
      "Fizz\n",
      "4\n",
      "Buzz\n",
      "Fizz\n",
      "7\n",
      "8\n",
      "Fizz\n",
      "Buzz\n",
      "11\n",
      "Fizz\n",
      "13\n",
      "14\n",
      "FizzBuzz\n",
      "16\n",
      "17\n",
      "Fizz\n",
      "19\n",
      "Buzz\n",
      "Fizz\n",
      "22\n",
      "23\n",
      "Fizz\n",
      "Buzz\n",
      "26\n",
      "Fizz\n",
      "28\n",
      "29\n",
      "FizzBuzz\n",
      "31\n",
      "32\n",
      "Fizz\n",
      "34\n",
      "Buzz\n",
      "Fizz\n",
      "37\n",
      "38\n",
      "Fizz\n",
      "Buzz\n",
      "41\n",
      "Fizz\n",
      "43\n",
      "44\n",
      "FizzBuzz\n",
      "46\n",
      "47\n",
      "Fizz\n",
      "49\n",
      "Buzz\n",
      "Fizz\n",
      "52\n",
      "53\n",
      "Fizz\n",
      "Buzz\n",
      "56\n",
      "Fizz\n",
      "58\n",
      "59\n",
      "FizzBuzz\n",
      "61\n",
      "62\n",
      "Fizz\n",
      "64\n",
      "Buzz\n",
      "Fizz\n",
      "67\n",
      "68\n",
      "Fizz\n",
      "Buzz\n",
      "71\n",
      "Fizz\n",
      "73\n",
      "74\n",
      "FizzBuzz\n",
      "76\n",
      "77\n",
      "Fizz\n",
      "79\n",
      "Buzz\n",
      "Fizz\n",
      "82\n",
      "83\n",
      "Fizz\n",
      "Buzz\n",
      "86\n",
      "Fizz\n",
      "88\n",
      "89\n",
      "FizzBuzz\n",
      "91\n",
      "92\n",
      "Fizz\n",
      "94\n",
      "Buzz\n",
      "Fizz\n",
      "97\n",
      "98\n",
      "Fizz\n",
      "Buzz\n"
     ]
    }
   ],
   "source": [
    "for i in range(1, 101):\n",
    "    if i % 3 == 0 and i % 5 == 0:\n",
    "        print('FizzBuzz')\n",
    "    elif i % 3 == 0:\n",
    "        print('Fizz')\n",
    "    elif i % 5 == 0:\n",
    "        print('Buzz')\n",
    "    else:\n",
    "        print(i)"
   ]
  },
  {
   "cell_type": "markdown",
   "id": "c7996217",
   "metadata": {},
   "source": [
    "### Display a table of powers.\n",
    "\n",
    "* Prompt the user to enter an integer\n",
    "* Display a table of squares and cubes from 1 to the value entered\n",
    "* Ask if the user wants to continue\n",
    "* Assume that the user will enter valid data\n",
    "* Only continue if the user agrees to\n",
    "\n",
    "Example Output:\n",
    "\n",
    "```\n",
    "What number would you like to go up to? 5\n",
    "\n",
    "Here is your table!\n",
    "\n",
    "number | squared | cubed\n",
    "------ | ------- | -----\n",
    "1      | 1       | 1\n",
    "2      | 4       | 8\n",
    "3      | 9       | 27\n",
    "4      | 16      | 64\n",
    "5      | 25      | 125\n",
    "```"
   ]
  },
  {
   "cell_type": "code",
   "execution_count": 67,
   "id": "7a1d2949",
   "metadata": {},
   "outputs": [
    {
     "name": "stdout",
     "output_type": "stream",
     "text": [
      "Give me a positive number: 3\n",
      "Thank you for giving me a positive number.\n",
      "number | squared | cubed\n",
      "------ | ------- | -----\n",
      "1      | 1       | 1\n",
      "2      | 4       | 8\n",
      "3      | 9       | 27\n",
      "Would you like to continue? y/n y\n",
      "Give me a positive number: 5\n",
      "Thank you for giving me a positive number.\n",
      "number | squared | cubed\n",
      "------ | ------- | -----\n",
      "1      | 1       | 1\n",
      "2      | 4       | 8\n",
      "3      | 9       | 27\n",
      "4      | 16      | 64\n",
      "5      | 25      | 125\n",
      "Would you like to continue? y/n n\n"
     ]
    }
   ],
   "source": [
    "while True:\n",
    "    while True:\n",
    "        user_input = input('Give me a positive number: ')\n",
    "\n",
    "        if user_input.isdigit():\n",
    "            user_input = int(user_input)\n",
    "\n",
    "            if user_input > 0:\n",
    "                print('Thank you for giving me a positive number.')\n",
    "                break\n",
    "\n",
    "        else:\n",
    "            print('That is not a positive number!')\n",
    "\n",
    "    print('number | squared | cubed')\n",
    "    print('------ | ------- | -----')\n",
    "\n",
    "    for i in range(1, user_input+1):\n",
    "        print(f'''{i}{' ' * (7 - len(str(i)))}| {i**2}{' ' * (8 - len(str(i**2)))}| {i**3}''')\n",
    "        \n",
    "    user_continue = input('Would you like to continue? y/n ')\n",
    "    \n",
    "    if user_continue == 'n':\n",
    "        break"
   ]
  },
  {
   "cell_type": "markdown",
   "id": "eacef9a8",
   "metadata": {},
   "source": [
    "### Convert given number grades into letter grades.\n",
    "\n",
    "* Prompt the user for a numerical grade from 0 to 100\n",
    "* Display the corresponding letter grade\n",
    "* Prompt the user to continue\n",
    "* Assume that the user will enter valid integers for the grades\n",
    "* The application should only continue if the user agrees to\n",
    "* Grade Ranges:\n",
    "\n",
    "    * A : 100 - 88\n",
    "    * B : 87 - 80\n",
    "    * C : 79 - 67\n",
    "    * D : 66 - 60\n",
    "    * F : 59 - 0"
   ]
  },
  {
   "cell_type": "code",
   "execution_count": 70,
   "id": "184ed92b",
   "metadata": {},
   "outputs": [
    {
     "name": "stdout",
     "output_type": "stream",
     "text": [
      "Give me a numerical grade from 0 to 100: 50\n",
      "F\n",
      "Would you like to continue? y/n 83\n",
      "Give me a numerical grade from 0 to 100: 83\n",
      "B\n",
      "Would you like to continue? y/n y\n",
      "Give me a numerical grade from 0 to 100: 50\n",
      "F\n",
      "Would you like to continue? y/n y\n",
      "Give me a numerical grade from 0 to 100: 67\n",
      "C\n",
      "Would you like to continue? y/n y\n",
      "Give me a numerical grade from 0 to 100: 90\n",
      "A\n",
      "Would you like to continue? y/n n\n"
     ]
    }
   ],
   "source": [
    "while True:   \n",
    "    user_input = int(input('Give me a numerical grade from 0 to 100: '))\n",
    "    \n",
    "    if user_input >= 88:\n",
    "        print('A')\n",
    "    elif user_input >= 80:\n",
    "        print('B')\n",
    "    elif user_input >= 67:\n",
    "        print('C')\n",
    "    elif user_input >= 60:\n",
    "        print('D')\n",
    "    else:\n",
    "        print('F')\n",
    "            \n",
    "    user_continue = input('Would you like to continue? y/n ')\n",
    "    \n",
    "    if user_continue == 'n':\n",
    "        break"
   ]
  },
  {
   "cell_type": "markdown",
   "id": "a61eac5f",
   "metadata": {},
   "source": [
    "### Create a list of dictionaries where each dictionary represents a book that you have read. Each dictionary in the list should have the keys title, author, and genre. Loop through the list and print out information about each book.\n",
    "\n",
    "* Prompt the user to enter a genre, then loop through your books list and print out the titles of all the books in that genre."
   ]
  },
  {
   "cell_type": "code",
   "execution_count": 71,
   "id": "b4cea74c",
   "metadata": {},
   "outputs": [],
   "source": [
    "books_read = [\n",
    "    {\n",
    "        'title': 'The Lion, the Witch, and the Wardrobe',\n",
    "        'author': 'C.S. Lewis',\n",
    "        'genre': 'fantasy',\n",
    "    },\n",
    "    {\n",
    "        'title': 'The Hobbit',\n",
    "        'author': 'J.R.R Tolkien',\n",
    "        'genre': 'fantasy',\n",
    "    },\n",
    "    {\n",
    "        'title': 'The Giver',\n",
    "        'author': 'Lois Lowry',\n",
    "        'genre': 'fiction'\n",
    "    }\n",
    "]"
   ]
  },
  {
   "cell_type": "code",
   "execution_count": 72,
   "id": "db6646f0",
   "metadata": {},
   "outputs": [
    {
     "data": {
      "text/plain": [
       "[{'title': 'The Lion, the Witch, and the Wardrobe',\n",
       "  'author': 'C.S. Lewis',\n",
       "  'genre': 'fantasy'},\n",
       " {'title': 'The Hobbit', 'author': 'J.R.R Tolkien', 'genre': 'fantasy'},\n",
       " {'title': 'The Giver', 'author': 'Lois Lowry', 'genre': 'fiction'}]"
      ]
     },
     "execution_count": 72,
     "metadata": {},
     "output_type": "execute_result"
    }
   ],
   "source": [
    "books_read"
   ]
  },
  {
   "cell_type": "code",
   "execution_count": 78,
   "id": "524ec314",
   "metadata": {},
   "outputs": [
    {
     "name": "stdout",
     "output_type": "stream",
     "text": [
      "Enter a genre for search: fantasy\n",
      "The Lion, the Witch, and the Wardrobe\n",
      "The Hobbit\n"
     ]
    }
   ],
   "source": [
    "user_input = input(f'Enter a genre for search: ')\n",
    "\n",
    "for book_dict in books_read:\n",
    "    if book_dict['genre'] == user_input.lower():\n",
    "        print(book_dict['title'])"
   ]
  },
  {
   "cell_type": "code",
   "execution_count": null,
   "id": "46f07ad1",
   "metadata": {},
   "outputs": [],
   "source": []
  }
 ],
 "metadata": {
  "kernelspec": {
   "display_name": "Python 3 (ipykernel)",
   "language": "python",
   "name": "python3"
  },
  "language_info": {
   "codemirror_mode": {
    "name": "ipython",
    "version": 3
   },
   "file_extension": ".py",
   "mimetype": "text/x-python",
   "name": "python",
   "nbconvert_exporter": "python",
   "pygments_lexer": "ipython3",
   "version": "3.9.12"
  }
 },
 "nbformat": 4,
 "nbformat_minor": 5
}
