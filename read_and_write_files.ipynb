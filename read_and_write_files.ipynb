{
 "cells": [
  {
   "cell_type": "markdown",
   "id": "25ec9ed0",
   "metadata": {},
   "source": [
    "# Reading files with Python"
   ]
  },
  {
   "cell_type": "markdown",
   "id": "a21f83fe",
   "metadata": {},
   "source": [
    "## Terminal-oriented process:\n",
    "* **Optional**: `touch` the file to make it (`touch file_name.file_extension`)\n",
    "* add content via a text editor (VSCode, etc)( `code my_file.txt`)\n",
    "* save the thing\n",
    "* look the thing (open or cat) (`open my_file.txt`)\n",
    "\n",
    "Let's make a file called `my_file.txt` and put these lines inside it\n",
    "\n",
    "```\n",
    "Here's some content!\n",
    "This is a text file!\n",
    "Neat\n",
    "Extra line!\n",
    "\n",
    "```"
   ]
  },
  {
   "cell_type": "markdown",
   "id": "90adc01e",
   "metadata": {},
   "source": [
    "## Open file with python:\n",
    "```python\n",
    "open(my_file_location, 'what i want to do with it')\n",
    "```\n",
    "our reserved word is `open`\n",
    "### my_file.txt lives here so I dont need to specify a path"
   ]
  },
  {
   "cell_type": "code",
   "execution_count": null,
   "id": "8fb9cc30",
   "metadata": {},
   "outputs": [],
   "source": [
    "f = open('my_file.txt', 'r')"
   ]
  },
  {
   "cell_type": "markdown",
   "id": "fb1dd5ce",
   "metadata": {},
   "source": [
    "### If I pass read on the file, then I can get the content inside of it"
   ]
  },
  {
   "cell_type": "code",
   "execution_count": null,
   "id": "8f7e43b7",
   "metadata": {},
   "outputs": [],
   "source": [
    "contents = f.read()"
   ]
  },
  {
   "cell_type": "code",
   "execution_count": null,
   "id": "f20fcc35",
   "metadata": {},
   "outputs": [],
   "source": [
    "contents"
   ]
  },
  {
   "cell_type": "code",
   "execution_count": null,
   "id": "068310c0",
   "metadata": {},
   "outputs": [],
   "source": [
    "contents.split('\\n')"
   ]
  },
  {
   "cell_type": "markdown",
   "id": "0cdd92b3",
   "metadata": {},
   "source": [
    "<div class=\"alert alert-block alert-warning\"><b>NOTE:</b> generally speaking, once a file is opened, we will want to close it </div>"
   ]
  },
  {
   "cell_type": "code",
   "execution_count": null,
   "id": "c385e0e9",
   "metadata": {},
   "outputs": [],
   "source": [
    "f.close()"
   ]
  },
  {
   "cell_type": "markdown",
   "id": "ac16fb59",
   "metadata": {},
   "source": [
    "![Joey Easier way to do this gif](https://cdn.builder.io/o/assets%2FYJIGb4i01jvw0SRdL5Bt%2F581b6ab4fe124a5bb6793f3d55e72b9f%2Fcompressed?format=webp&apiKey=YJIGb4i01jvw0SRdL5Bt&token=581b6ab4fe124a5bb6793f3d55e72b9f&alt=media&optimized=true&width=2000)"
   ]
  },
  {
   "cell_type": "markdown",
   "id": "1e076ffe",
   "metadata": {},
   "source": [
    "## Easier way to do this:\n",
    "\n",
    "We can use a `with` statement.\n",
    "\n",
    "Format:\n",
    "```python\n",
    "with open('my_file_name.extension', 'interation') as f:\n",
    "    # code that does things\n",
    "```\n",
    "\n",
    "`with` closes the file after the code indented under it runs\n",
    "\n",
    "### Reading information\n",
    "\n",
    "We use `r` for our interaction to read from the file"
   ]
  },
  {
   "cell_type": "code",
   "execution_count": null,
   "id": "dfe51ed0",
   "metadata": {},
   "outputs": [],
   "source": [
    "with open('my_file.txt', 'r') as f:\n",
    "    my_content = f.readlines()"
   ]
  },
  {
   "cell_type": "code",
   "execution_count": null,
   "id": "f80217c6",
   "metadata": {},
   "outputs": [],
   "source": [
    "my_content"
   ]
  },
  {
   "cell_type": "markdown",
   "id": "7b341585",
   "metadata": {},
   "source": [
    "### Writing information\n",
    "\n",
    "We use `w` as our interaction to write to the file"
   ]
  },
  {
   "cell_type": "code",
   "execution_count": null,
   "id": "466a81e2",
   "metadata": {},
   "outputs": [],
   "source": [
    "with open('my_new_file.txt', 'w') as f:\n",
    "    f.write(\"Here's some stuff I guess\")"
   ]
  },
  {
   "cell_type": "markdown",
   "id": "259332bb",
   "metadata": {},
   "source": [
    "<div class=\"alert alert-block alert-info\"><b>NOTE:</b> Write mode overwrites the data </div>"
   ]
  },
  {
   "cell_type": "markdown",
   "id": "b9dddf1a",
   "metadata": {},
   "source": [
    "### Appending information\n",
    "\n",
    "We use `a` as our interaction"
   ]
  },
  {
   "cell_type": "code",
   "execution_count": null,
   "id": "404f6170",
   "metadata": {},
   "outputs": [],
   "source": [
    "# appending information: a-mode\n",
    "with open('my_new_file.txt', 'a') as f:\n",
    "    f.writelines(['\\nheres a fun extra line\\n',\n",
    "                 'and another one!\\n'])"
   ]
  },
  {
   "cell_type": "markdown",
   "id": "52e1e2cc",
   "metadata": {},
   "source": [
    "<div class=\"alert alert-block alert-info\"> <b>NOTE:</b> Append mode adds to the data </div>\n",
    "\n",
    "## Welcome to the OS\n",
    "\n",
    "We can use the `os` module to use python to interact with our operating system"
   ]
  },
  {
   "cell_type": "code",
   "execution_count": null,
   "id": "12261b7b",
   "metadata": {},
   "outputs": [],
   "source": [
    "import os"
   ]
  },
  {
   "cell_type": "markdown",
   "id": "49327257",
   "metadata": {},
   "source": [
    "### Using os to create a file\n",
    "* use OS to check if this file exists here\n",
    "* If it does, \n",
    "    * give me that content, toss it in the variable lines\n",
    "* otherwise\n",
    "    * make a new file with that same name\n",
    "    * write a new line of content"
   ]
  },
  {
   "cell_type": "code",
   "execution_count": null,
   "id": "c580144b",
   "metadata": {},
   "outputs": [],
   "source": [
    "if os.path.exists('my_file.txt'):\n",
    "    print('yay it exists!')\n",
    "    with open('my_file.txt', 'r') as f:\n",
    "        lines = f.readlines()\n",
    "else:\n",
    "    print('does not exist')\n",
    "    with open('my_file.txt', 'w') as f:\n",
    "        f.write('brand new file!')"
   ]
  },
  {
   "cell_type": "code",
   "execution_count": null,
   "id": "3a627fce",
   "metadata": {},
   "outputs": [],
   "source": [
    "lines"
   ]
  },
  {
   "cell_type": "code",
   "execution_count": null,
   "id": "3d8b90ce",
   "metadata": {},
   "outputs": [],
   "source": [
    "if os.path.exists('extra_file.txt'):\n",
    "    print('yay it exists!')\n",
    "    with open('extra_file.txt', 'r') as f:\n",
    "        lines = f.readlines()\n",
    "else:\n",
    "    print('does not exist')\n",
    "    with open('extra_file.txt', 'w') as f:\n",
    "        f.write('brand new file!')"
   ]
  },
  {
   "cell_type": "code",
   "execution_count": null,
   "id": "d38981b5",
   "metadata": {},
   "outputs": [],
   "source": [
    "if os.path.exists(\n",
    "    'extra_file.txt'):\n",
    "    print('yay it exists!')\n",
    "    with open('extra_file.txt', 'r') as f:\n",
    "        lines = f.readlines()\n",
    "else:\n",
    "    print('does not exist')\n",
    "    with open('extra_file.txt', 'w') as f:\n",
    "        f.write('brand new file!')"
   ]
  },
  {
   "cell_type": "code",
   "execution_count": null,
   "id": "32772ad9",
   "metadata": {},
   "outputs": [],
   "source": [
    "lines"
   ]
  },
  {
   "cell_type": "markdown",
   "id": "4c0b976c",
   "metadata": {},
   "source": [
    "## Working with csv's"
   ]
  },
  {
   "cell_type": "code",
   "execution_count": null,
   "id": "60bbbb44",
   "metadata": {},
   "outputs": [],
   "source": [
    "with open('baby_csv.csv', 'w') as f:\n",
    "    f.writelines(\n",
    "    ['field_1, field_2, field_3\\n',\n",
    "    '0, 25, ham\\n',\n",
    "    '1, 29, sandwich\\n'])"
   ]
  },
  {
   "cell_type": "code",
   "execution_count": null,
   "id": "6b5da00b",
   "metadata": {},
   "outputs": [],
   "source": [
    "with open('baby_csv.csv','r') as f:\n",
    "    my_baby_csv = f.readlines()"
   ]
  },
  {
   "cell_type": "code",
   "execution_count": null,
   "id": "4f458d17",
   "metadata": {},
   "outputs": [],
   "source": [
    "my_baby_csv"
   ]
  },
  {
   "cell_type": "markdown",
   "id": "f8a2e98b",
   "metadata": {},
   "source": [
    "### import csv!"
   ]
  },
  {
   "cell_type": "code",
   "execution_count": null,
   "id": "55ebdf32",
   "metadata": {},
   "outputs": [],
   "source": [
    "# import csv!\n",
    "import csv"
   ]
  },
  {
   "cell_type": "code",
   "execution_count": null,
   "id": "ba8598ee",
   "metadata": {},
   "outputs": [],
   "source": [
    "# DictWriter, DictReader"
   ]
  },
  {
   "cell_type": "code",
   "execution_count": null,
   "id": "2d729c42",
   "metadata": {},
   "outputs": [],
   "source": [
    "# lets make a receipt\n",
    "# item, category, price\n",
    "# three cols:\n",
    "# item: what thing\n",
    "# category: what type thing\n",
    "# price: da moneys\n",
    "cols = ['item', 'category', 'price']\n",
    "transaction = {\n",
    "    'item': 'milk',\n",
    "    'category': 'dairy',\n",
    "    'price': 100.00\n",
    "}"
   ]
  },
  {
   "cell_type": "code",
   "execution_count": null,
   "id": "86ea5534",
   "metadata": {},
   "outputs": [],
   "source": [
    "transaction"
   ]
  },
  {
   "cell_type": "code",
   "execution_count": null,
   "id": "38fc033d",
   "metadata": {},
   "outputs": [],
   "source": [
    "# csv.Dictwriter needs:\n",
    "# what file its writing to (f)\n",
    "# field names (cols)"
   ]
  },
  {
   "cell_type": "code",
   "execution_count": null,
   "id": "b0d1a251",
   "metadata": {},
   "outputs": [],
   "source": [
    "with open('groceries.csv', 'w') as f:\n",
    "    writer = csv.DictWriter(f, fieldnames=cols)\n",
    "    writer.writeheader()\n",
    "    writer.writerow(transaction)"
   ]
  },
  {
   "cell_type": "code",
   "execution_count": null,
   "id": "2179cc71",
   "metadata": {},
   "outputs": [],
   "source": [
    "# APPEND a new line of information\n",
    "# (so as not to overwrite anything)\n",
    "# 'a' == append\n",
    "with open('groceries.csv', 'a') as f:\n",
    "    writer = csv.DictWriter(f, fieldnames=cols)\n",
    "    writer.writerow(\n",
    "    {\n",
    "        'item': 'eggs',\n",
    "        'category': 'dairy',\n",
    "        'price': 500.00\n",
    "    })"
   ]
  },
  {
   "cell_type": "code",
   "execution_count": null,
   "id": "9ae93ed4",
   "metadata": {},
   "outputs": [],
   "source": [
    "# read in a csv:\n",
    "with open('groceries.csv', 'r') as f:\n",
    "    content = csv.DictReader(f, fieldnames=cols)\n",
    "    lines = []\n",
    "    for line in content:\n",
    "        lines.append(line)"
   ]
  },
  {
   "cell_type": "code",
   "execution_count": null,
   "id": "c72d461e",
   "metadata": {},
   "outputs": [],
   "source": [
    "lines[1:]"
   ]
  },
  {
   "cell_type": "code",
   "execution_count": null,
   "id": "33d92e85",
   "metadata": {},
   "outputs": [],
   "source": [
    "# same thing, with list comprehension\n",
    "# skipping the header line with indexing of 1:\n",
    "with open('groceries.csv', 'r') as f:\n",
    "    content = csv.DictReader(f, fieldnames=cols)\n",
    "    lines = [line for line in content][1:]"
   ]
  },
  {
   "cell_type": "code",
   "execution_count": null,
   "id": "4e75cbc2",
   "metadata": {},
   "outputs": [],
   "source": [
    "lines"
   ]
  },
  {
   "cell_type": "code",
   "execution_count": null,
   "id": "b99fa95e",
   "metadata": {},
   "outputs": [],
   "source": [
    "# exiting a program in python:\n",
    "# call exit()"
   ]
  },
  {
   "cell_type": "code",
   "execution_count": null,
   "id": "7f03c803",
   "metadata": {},
   "outputs": [],
   "source": [
    "# for my project:\n",
    "# maybe a csv with:\n",
    "# credit/debit transaction type\n",
    "# transaction value\n",
    "# time stamp"
   ]
  },
  {
   "cell_type": "code",
   "execution_count": null,
   "id": "571c2d83",
   "metadata": {},
   "outputs": [],
   "source": [
    "import time"
   ]
  },
  {
   "cell_type": "code",
   "execution_count": null,
   "id": "342273be",
   "metadata": {},
   "outputs": [],
   "source": [
    "time.time()"
   ]
  },
  {
   "cell_type": "code",
   "execution_count": null,
   "id": "14151309",
   "metadata": {},
   "outputs": [],
   "source": []
  }
 ],
 "metadata": {
  "kernelspec": {
   "display_name": "Python 3 (ipykernel)",
   "language": "python",
   "name": "python3"
  },
  "language_info": {
   "codemirror_mode": {
    "name": "ipython",
    "version": 3
   },
   "file_extension": ".py",
   "mimetype": "text/x-python",
   "name": "python",
   "nbconvert_exporter": "python",
   "pygments_lexer": "ipython3",
   "version": "3.9.12"
  }
 },
 "nbformat": 4,
 "nbformat_minor": 5
}
