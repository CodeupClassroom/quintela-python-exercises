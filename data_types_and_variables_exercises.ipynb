{
 "cells": [
  {
   "cell_type": "markdown",
   "id": "28b3e1b7",
   "metadata": {},
   "source": [
    "# Data Types and Variables Exercises"
   ]
  },
  {
   "cell_type": "markdown",
   "id": "e62d8d67",
   "metadata": {},
   "source": [
    "<hr style=\"border:2px solid gray\">"
   ]
  },
  {
   "cell_type": "markdown",
   "id": "a033466d",
   "metadata": {},
   "source": [
    "<b>#1. Identify the data type of the following values:"
   ]
  },
  {
   "cell_type": "code",
   "execution_count": 1,
   "id": "79a120b0",
   "metadata": {},
   "outputs": [
    {
     "data": {
      "text/plain": [
       "float"
      ]
     },
     "execution_count": 1,
     "metadata": {},
     "output_type": "execute_result"
    }
   ],
   "source": [
    "type(99.9)"
   ]
  },
  {
   "cell_type": "code",
   "execution_count": 2,
   "id": "1d377253",
   "metadata": {},
   "outputs": [
    {
     "data": {
      "text/plain": [
       "str"
      ]
     },
     "execution_count": 2,
     "metadata": {},
     "output_type": "execute_result"
    }
   ],
   "source": [
    "type(\"False\")"
   ]
  },
  {
   "cell_type": "code",
   "execution_count": 3,
   "id": "04b739e9",
   "metadata": {},
   "outputs": [
    {
     "data": {
      "text/plain": [
       "bool"
      ]
     },
     "execution_count": 3,
     "metadata": {},
     "output_type": "execute_result"
    }
   ],
   "source": [
    "type(False)"
   ]
  },
  {
   "cell_type": "code",
   "execution_count": 4,
   "id": "2607f74a",
   "metadata": {},
   "outputs": [
    {
     "data": {
      "text/plain": [
       "str"
      ]
     },
     "execution_count": 4,
     "metadata": {},
     "output_type": "execute_result"
    }
   ],
   "source": [
    "type('0')"
   ]
  },
  {
   "cell_type": "code",
   "execution_count": 5,
   "id": "e2c44d0f",
   "metadata": {},
   "outputs": [
    {
     "data": {
      "text/plain": [
       "int"
      ]
     },
     "execution_count": 5,
     "metadata": {},
     "output_type": "execute_result"
    }
   ],
   "source": [
    "type(0)"
   ]
  },
  {
   "cell_type": "code",
   "execution_count": 6,
   "id": "d3b16738",
   "metadata": {},
   "outputs": [
    {
     "data": {
      "text/plain": [
       "bool"
      ]
     },
     "execution_count": 6,
     "metadata": {},
     "output_type": "execute_result"
    }
   ],
   "source": [
    "type(True)"
   ]
  },
  {
   "cell_type": "code",
   "execution_count": 7,
   "id": "b24e1e43",
   "metadata": {},
   "outputs": [
    {
     "data": {
      "text/plain": [
       "str"
      ]
     },
     "execution_count": 7,
     "metadata": {},
     "output_type": "execute_result"
    }
   ],
   "source": [
    "type('True')"
   ]
  },
  {
   "cell_type": "code",
   "execution_count": 8,
   "id": "0c657af1",
   "metadata": {},
   "outputs": [
    {
     "data": {
      "text/plain": [
       "list"
      ]
     },
     "execution_count": 8,
     "metadata": {},
     "output_type": "execute_result"
    }
   ],
   "source": [
    "type([{}])"
   ]
  },
  {
   "cell_type": "code",
   "execution_count": 9,
   "id": "fa5681ce",
   "metadata": {},
   "outputs": [
    {
     "data": {
      "text/plain": [
       "dict"
      ]
     },
     "execution_count": 9,
     "metadata": {},
     "output_type": "execute_result"
    }
   ],
   "source": [
    "type({'a':[]})"
   ]
  },
  {
   "cell_type": "markdown",
   "id": "f09424f4",
   "metadata": {},
   "source": [
    "<hr style=\"border:1px solid black\">"
   ]
  },
  {
   "cell_type": "markdown",
   "id": "cdf17400",
   "metadata": {},
   "source": [
    "### #2. What data type would best represent the following?\n",
    "- a. A term or phrase typed into a search box\n",
    "- b. Whether or not a user is logged in\n",
    "- c. A discount amount to apply to a user's shopping cart\n",
    "- d. Whether or not a coupon code is valid\n",
    "- e. An email address typed into a registration form\n",
    "- f. The price of a product\n",
    "- g. The email addresses collected from a registration form\n",
    "- h. Information about applicants to Codeup's data science program"
   ]
  },
  {
   "cell_type": "markdown",
   "id": "60b7353a",
   "metadata": {},
   "source": [
    "<b>a. A term or phrase typed into a search box"
   ]
  },
  {
   "cell_type": "code",
   "execution_count": null,
   "id": "3842fb0c",
   "metadata": {},
   "outputs": [],
   "source": []
  },
  {
   "cell_type": "markdown",
   "id": "83b1d045",
   "metadata": {},
   "source": [
    "<b>b. Whether or not a user is logged in"
   ]
  },
  {
   "cell_type": "code",
   "execution_count": null,
   "id": "499b48fa",
   "metadata": {},
   "outputs": [],
   "source": []
  },
  {
   "cell_type": "markdown",
   "id": "54bd5748",
   "metadata": {},
   "source": [
    "<b>c. A discount amount to apply to a user's shopping cart"
   ]
  },
  {
   "cell_type": "code",
   "execution_count": null,
   "id": "6c0e37b3",
   "metadata": {},
   "outputs": [],
   "source": []
  },
  {
   "cell_type": "markdown",
   "id": "7342a9a0",
   "metadata": {},
   "source": [
    "<b>d. Whether or not a coupon code is valid"
   ]
  },
  {
   "cell_type": "code",
   "execution_count": null,
   "id": "75ca1ccb",
   "metadata": {},
   "outputs": [],
   "source": []
  },
  {
   "cell_type": "markdown",
   "id": "f903ebe3",
   "metadata": {},
   "source": [
    "<b>e. An email address typed into a registration form"
   ]
  },
  {
   "cell_type": "code",
   "execution_count": null,
   "id": "d7b2b401",
   "metadata": {},
   "outputs": [],
   "source": []
  },
  {
   "cell_type": "markdown",
   "id": "c128d2eb",
   "metadata": {},
   "source": [
    "<b>f. The price of a product"
   ]
  },
  {
   "cell_type": "code",
   "execution_count": null,
   "id": "b32866da",
   "metadata": {},
   "outputs": [],
   "source": []
  },
  {
   "cell_type": "markdown",
   "id": "f397b4d7",
   "metadata": {},
   "source": [
    "<b>g. The email addresses collected from a registration form"
   ]
  },
  {
   "cell_type": "code",
   "execution_count": null,
   "id": "1ee3b45d",
   "metadata": {},
   "outputs": [],
   "source": []
  },
  {
   "cell_type": "markdown",
   "id": "0da5052e",
   "metadata": {},
   "source": [
    "<b>h. Information about applicants to Codeup's data science program"
   ]
  },
  {
   "cell_type": "code",
   "execution_count": null,
   "id": "291fa465",
   "metadata": {},
   "outputs": [],
   "source": []
  },
  {
   "cell_type": "markdown",
   "id": "e33f5b0c",
   "metadata": {},
   "source": [
    "<hr style=\"border:1px solid black\">"
   ]
  },
  {
   "cell_type": "markdown",
   "id": "c2f8dd8e",
   "metadata": {},
   "source": [
    "### #3. For each of the following code blocks:\n",
    "- Read the expression and predict the evaluated results\n",
    "- Execute the expression in a Python REPL."
   ]
  },
  {
   "cell_type": "code",
   "execution_count": 10,
   "id": "ad759c32",
   "metadata": {},
   "outputs": [
    {
     "ename": "TypeError",
     "evalue": "can only concatenate str (not \"int\") to str",
     "output_type": "error",
     "traceback": [
      "\u001b[0;31m---------------------------------------------------------------------------\u001b[0m",
      "\u001b[0;31mTypeError\u001b[0m                                 Traceback (most recent call last)",
      "Input \u001b[0;32mIn [10]\u001b[0m, in \u001b[0;36m<cell line: 1>\u001b[0;34m()\u001b[0m\n\u001b[0;32m----> 1\u001b[0m \u001b[38;5;124;43m'\u001b[39;49m\u001b[38;5;124;43m1\u001b[39;49m\u001b[38;5;124;43m'\u001b[39;49m\u001b[43m \u001b[49m\u001b[38;5;241;43m+\u001b[39;49m\u001b[43m \u001b[49m\u001b[38;5;241;43m2\u001b[39;49m\n",
      "\u001b[0;31mTypeError\u001b[0m: can only concatenate str (not \"int\") to str"
     ]
    }
   ],
   "source": [
    "'1' + 2"
   ]
  },
  {
   "cell_type": "code",
   "execution_count": null,
   "id": "dfb151e7",
   "metadata": {},
   "outputs": [],
   "source": [
    "6 % 4"
   ]
  },
  {
   "cell_type": "code",
   "execution_count": null,
   "id": "d90c15d1",
   "metadata": {},
   "outputs": [],
   "source": [
    "type(6 % 4)"
   ]
  },
  {
   "cell_type": "code",
   "execution_count": null,
   "id": "caa6326a",
   "metadata": {},
   "outputs": [],
   "source": [
    "type(type(6 % 4))"
   ]
  },
  {
   "cell_type": "code",
   "execution_count": null,
   "id": "58835219",
   "metadata": {},
   "outputs": [],
   "source": [
    "'3 + 4 is ' + 3 + 4"
   ]
  },
  {
   "cell_type": "code",
   "execution_count": null,
   "id": "ffb0950d",
   "metadata": {},
   "outputs": [],
   "source": [
    "0 < 0"
   ]
  },
  {
   "cell_type": "code",
   "execution_count": null,
   "id": "ef3f4fe8",
   "metadata": {},
   "outputs": [],
   "source": [
    "'False' == False"
   ]
  },
  {
   "cell_type": "code",
   "execution_count": null,
   "id": "978b9f37",
   "metadata": {},
   "outputs": [],
   "source": [
    "True == 'True'"
   ]
  },
  {
   "cell_type": "code",
   "execution_count": null,
   "id": "28a09e65",
   "metadata": {},
   "outputs": [],
   "source": [
    "5 >= -5"
   ]
  },
  {
   "cell_type": "code",
   "execution_count": null,
   "id": "e8c50f66",
   "metadata": {},
   "outputs": [],
   "source": [
    "True or \"42\""
   ]
  },
  {
   "cell_type": "code",
   "execution_count": null,
   "id": "d03fbc26",
   "metadata": {},
   "outputs": [],
   "source": [
    "6 % 5"
   ]
  },
  {
   "cell_type": "code",
   "execution_count": null,
   "id": "9642293d",
   "metadata": {},
   "outputs": [],
   "source": [
    "5 < 4 and 1 == 1"
   ]
  },
  {
   "cell_type": "code",
   "execution_count": null,
   "id": "f9a7fa87",
   "metadata": {},
   "outputs": [],
   "source": [
    "'codeup' == 'codeup' and 'codeup' == 'Codeup'"
   ]
  },
  {
   "cell_type": "code",
   "execution_count": null,
   "id": "8008e749",
   "metadata": {},
   "outputs": [],
   "source": [
    "4 >= 0 and 1 !== '1'"
   ]
  },
  {
   "cell_type": "code",
   "execution_count": null,
   "id": "16a17a1e",
   "metadata": {},
   "outputs": [],
   "source": [
    "6 % 3 == 0"
   ]
  },
  {
   "cell_type": "code",
   "execution_count": null,
   "id": "9cedd693",
   "metadata": {},
   "outputs": [],
   "source": [
    "5 % 2 != 0"
   ]
  },
  {
   "cell_type": "code",
   "execution_count": null,
   "id": "bcae34b1",
   "metadata": {},
   "outputs": [],
   "source": [
    "[1] + 2"
   ]
  },
  {
   "cell_type": "code",
   "execution_count": null,
   "id": "81ba675d",
   "metadata": {},
   "outputs": [],
   "source": [
    "[1] + [2]"
   ]
  },
  {
   "cell_type": "code",
   "execution_count": null,
   "id": "08ef9162",
   "metadata": {},
   "outputs": [],
   "source": [
    "[1] * 2"
   ]
  },
  {
   "cell_type": "code",
   "execution_count": null,
   "id": "52b2bbee",
   "metadata": {},
   "outputs": [],
   "source": [
    "[1] * [2]"
   ]
  },
  {
   "cell_type": "code",
   "execution_count": null,
   "id": "69880452",
   "metadata": {},
   "outputs": [],
   "source": [
    "[] + [] == []"
   ]
  },
  {
   "cell_type": "code",
   "execution_count": null,
   "id": "afe84efe",
   "metadata": {},
   "outputs": [],
   "source": [
    "{} + {}"
   ]
  },
  {
   "cell_type": "markdown",
   "id": "52634461",
   "metadata": {},
   "source": [
    "<hr style=\"border:1px solid black\">"
   ]
  },
  {
   "cell_type": "markdown",
   "id": "9ff4d58a",
   "metadata": {},
   "source": [
    "### Describe the following scenarios. You will need to create and assign variables and use operators."
   ]
  },
  {
   "cell_type": "markdown",
   "id": "585e1402",
   "metadata": {},
   "source": [
    "<b>#5. You have rented some movies for your kids:</b>\n",
    "- The Little Mermaid for 3 days\n",
    "- Brother Bear for 5 days\n",
    "- Hercules for 1 day\n",
    "\n",
    "If the daily fee to rent a movie is 3 dollars, how much will you have to pay?"
   ]
  },
  {
   "cell_type": "code",
   "execution_count": 11,
   "id": "dfa7d90a",
   "metadata": {},
   "outputs": [],
   "source": [
    "little_mermaid = 3\n",
    "brother_bear = 5\n",
    "hercules = 1\n",
    "price_per_day = 3"
   ]
  },
  {
   "cell_type": "code",
   "execution_count": 14,
   "id": "a5d6f2b5",
   "metadata": {},
   "outputs": [
    {
     "name": "stdout",
     "output_type": "stream",
     "text": [
      "$27\n"
     ]
    }
   ],
   "source": [
    "price_total = price_per_day *(little_mermaid + brother_bear + hercules)\n",
    "print(f'${price_total}')"
   ]
  },
  {
   "cell_type": "markdown",
   "id": "68e86749",
   "metadata": {},
   "source": [
    "<hr style=\"border:1px solid black\">"
   ]
  },
  {
   "cell_type": "markdown",
   "id": "66ccb1fb",
   "metadata": {},
   "source": [
    "<b>#6. Suppose you're working as a contractor for 3 companies: Google, Amazon and Facebook.\n",
    "\n",
    "They pay you the following hourly rates:\n",
    "\n",
    "Google: 400 dollars\n",
    "Amazon: 380 dollars\n",
    "Facebook: 350 dollars\n",
    "This week you worked: 10 hours for Facebook, 6 hours for Google and 4 hours for Amazon.\n",
    "\n",
    "How much will you receive in payment for this week?"
   ]
  },
  {
   "cell_type": "code",
   "execution_count": 16,
   "id": "35e0d8c0",
   "metadata": {},
   "outputs": [],
   "source": [
    "Google_pay = 400\n",
    "Google_hrs = 6"
   ]
  },
  {
   "cell_type": "code",
   "execution_count": 17,
   "id": "58ef73a5",
   "metadata": {},
   "outputs": [],
   "source": [
    "Amazon_pay= 380\n",
    "Amazon_hrs = 4"
   ]
  },
  {
   "cell_type": "code",
   "execution_count": 18,
   "id": "7e0860a8",
   "metadata": {},
   "outputs": [],
   "source": [
    "Facebook_pay = 350\n",
    "Facebook_hrs = 10"
   ]
  },
  {
   "cell_type": "code",
   "execution_count": 20,
   "id": "3b09da81",
   "metadata": {},
   "outputs": [
    {
     "name": "stdout",
     "output_type": "stream",
     "text": [
      "my pay this week is $7420\n"
     ]
    }
   ],
   "source": [
    "weekly_pay = (Facebook_pay * Facebook_hrs) + (Google_pay * Google_hrs) + (Amazon_pay * Amazon_hrs)\n",
    "print(f'my pay this week is ${weekly_pay}')"
   ]
  },
  {
   "cell_type": "markdown",
   "id": "c86aefcb",
   "metadata": {},
   "source": [
    "<hr style=\"border:1px solid black\">"
   ]
  },
  {
   "cell_type": "markdown",
   "id": "0a390685",
   "metadata": {},
   "source": [
    "<b>7. A student can be enrolled to a class only if the class is not full and the class schedule does not conflict with her current schedule."
   ]
  },
  {
   "cell_type": "code",
   "execution_count": 21,
   "id": "dc36879d",
   "metadata": {},
   "outputs": [],
   "source": [
    "class_is_full = False\n",
    "schedule_conflict = False"
   ]
  },
  {
   "cell_type": "code",
   "execution_count": 22,
   "id": "69a24088",
   "metadata": {},
   "outputs": [
    {
     "data": {
      "text/plain": [
       "True"
      ]
     },
     "execution_count": 22,
     "metadata": {},
     "output_type": "execute_result"
    }
   ],
   "source": [
    "enrollable_status = not (class_is_full or schedule_conflict)\n",
    "enrollable_status"
   ]
  },
  {
   "cell_type": "markdown",
   "id": "1bd7e6b5",
   "metadata": {},
   "source": [
    "<hr style=\"border:1px solid black\">"
   ]
  },
  {
   "cell_type": "markdown",
   "id": "a21351d1",
   "metadata": {},
   "source": [
    "<b>8. A product offer can be applied only if people buys more than 2 items, and the offer has not expired. Premium members do not need to buy a specific amount of products."
   ]
  },
  {
   "cell_type": "code",
   "execution_count": 23,
   "id": "ad67e3c1",
   "metadata": {},
   "outputs": [],
   "source": [
    "purchase_more_than_two = True\n",
    "product_not_expired = True\n",
    "premium_membership = False"
   ]
  },
  {
   "cell_type": "code",
   "execution_count": 24,
   "id": "f5ff3ff7",
   "metadata": {},
   "outputs": [
    {
     "data": {
      "text/plain": [
       "True"
      ]
     },
     "execution_count": 24,
     "metadata": {},
     "output_type": "execute_result"
    }
   ],
   "source": [
    "discount_eligability = product_not_expired and (purchase_more_than_two or premium_membership)\n",
    "discount_eligability"
   ]
  },
  {
   "cell_type": "markdown",
   "id": "6bf0286f",
   "metadata": {},
   "source": [
    "<hr style=\"border:1px solid black\">"
   ]
  },
  {
   "cell_type": "markdown",
   "id": "030a65c3",
   "metadata": {},
   "source": [
    "<b>#9. Create a variable that holds a boolean value for each of the following conditions</b>:\n",
    "\n",
    "- a. The password must be at least 5 characters\n",
    "- b. The username must be no more than 20 characters\n",
    "- c. The password must not be the same as the username\n",
    "- Bonus: Neither the username or password can start or end with whitespace"
   ]
  },
  {
   "cell_type": "code",
   "execution_count": 26,
   "id": "fc50a199",
   "metadata": {},
   "outputs": [],
   "source": [
    "username = 'codeup'\n",
    "password = 'notastrongpassword'"
   ]
  },
  {
   "cell_type": "markdown",
   "id": "9a54fdaf",
   "metadata": {},
   "source": [
    "<b>a. The password must be at least 5 characters"
   ]
  },
  {
   "cell_type": "code",
   "execution_count": 27,
   "id": "7d3fc6af",
   "metadata": {},
   "outputs": [],
   "source": [
    "password_length = len(password) >= 5 "
   ]
  },
  {
   "cell_type": "markdown",
   "id": "5404e1e0",
   "metadata": {},
   "source": [
    "<b>b. The username must be no more than 20 characters"
   ]
  },
  {
   "cell_type": "code",
   "execution_count": 28,
   "id": "947da1ef",
   "metadata": {},
   "outputs": [],
   "source": [
    "user_name_length = len(username) <= 20"
   ]
  },
  {
   "cell_type": "markdown",
   "id": "2319d58a",
   "metadata": {},
   "source": [
    "<b>c. The password must not be the same as the username"
   ]
  },
  {
   "cell_type": "code",
   "execution_count": 29,
   "id": "f7a20938",
   "metadata": {},
   "outputs": [],
   "source": [
    "qualification = password != username"
   ]
  },
  {
   "cell_type": "code",
   "execution_count": 30,
   "id": "3e123ee6",
   "metadata": {},
   "outputs": [],
   "source": [
    "user_and_password_valid = password_length and user_name_length and qualification"
   ]
  },
  {
   "cell_type": "code",
   "execution_count": 31,
   "id": "dc5de3a4",
   "metadata": {},
   "outputs": [
    {
     "data": {
      "text/plain": [
       "True"
      ]
     },
     "execution_count": 31,
     "metadata": {},
     "output_type": "execute_result"
    }
   ],
   "source": [
    "user_and_password_valid"
   ]
  }
 ],
 "metadata": {
  "kernelspec": {
   "display_name": "Python 3 (ipykernel)",
   "language": "python",
   "name": "python3"
  },
  "language_info": {
   "codemirror_mode": {
    "name": "ipython",
    "version": 3
   },
   "file_extension": ".py",
   "mimetype": "text/x-python",
   "name": "python",
   "nbconvert_exporter": "python",
   "pygments_lexer": "ipython3",
   "version": "3.9.13"
  }
 },
 "nbformat": 4,
 "nbformat_minor": 5
}
