{
 "cells": [
  {
   "cell_type": "markdown",
   "id": "1d9f5db7",
   "metadata": {},
   "source": [
    "# Imports Lesson"
   ]
  },
  {
   "cell_type": "markdown",
   "id": "c0b80c87",
   "metadata": {},
   "source": [
    "<hr style=\"border:2px solid gray\">"
   ]
  },
  {
   "cell_type": "markdown",
   "id": "087bb1c0",
   "metadata": {},
   "source": [
    "We <b>import</b> libraries or modules into our current Python session in order to use the functions, methods, or variables within it. We can also directly import specific functions, methods or variables, as opposed to the entire module. The goal is to avoid reinventing the wheel. Practitioners use imports all the time."
   ]
  },
  {
   "cell_type": "markdown",
   "id": "ccd22213",
   "metadata": {},
   "source": [
    "<hr style=\"border:1px solid black\">"
   ]
  },
  {
   "cell_type": "markdown",
   "id": "b93a5b87",
   "metadata": {},
   "source": [
    "### Terminology"
   ]
  },
  {
   "cell_type": "markdown",
   "id": "26d97659",
   "metadata": {},
   "source": [
    "<b>1. Module</b>: a python file with a ```.py``` extention.\n",
    "- Contain functions and variables\n",
    "\n",
    "- Exist in:\n",
    "   - python standard library \n",
    "   - community developed packages\n",
    "   - files you've created (custom)\n",
    "\n",
    "Examples of modules:\n",
    "- custom\n",
    "    - ```acquire.py```\n",
    "    - ```prepare.py```\n",
    "- standard\n",
    "    - math\n",
    "    - datetime\n",
    "    - random \n",
    "    - itertools"
   ]
  },
  {
   "cell_type": "markdown",
   "id": "e2045eab",
   "metadata": {},
   "source": [
    "<b>2. Package</b>: a directory that contains modules\n",
    "- A way to distribute one or more modules\n",
    "- We install packages in order to import modules or libraries\n",
    "<br>\n",
    "\n",
    "Examples of packages:\n",
    "- pip\n",
    "- conda (packages manager)"
   ]
  },
  {
   "cell_type": "markdown",
   "id": "3d17ba0a",
   "metadata": {},
   "source": [
    "<b>3. Library</b>: collection of code, data, docs.\n",
    "\n",
    "Examples of libraries:\n",
    "- numpy\n",
    "- matplotlib\n",
    "- seaborn\n",
    "- sklearn"
   ]
  },
  {
   "cell_type": "markdown",
   "id": "70e0d070",
   "metadata": {},
   "source": [
    "<b>4. Python Package Index</b>: aka PyPI, a repository of community developed Python packages"
   ]
  },
  {
   "cell_type": "markdown",
   "id": "ab7a61f9",
   "metadata": {},
   "source": [
    "<b>5. Conda</b>: aka Anaconda, is a package manager"
   ]
  },
  {
   "cell_type": "markdown",
   "id": "d9d7a10d",
   "metadata": {},
   "source": [
    "<hr style=\"border:1px solid black\">"
   ]
  },
  {
   "cell_type": "markdown",
   "id": "c7547684",
   "metadata": {},
   "source": [
    "### Import Sources"
   ]
  },
  {
   "cell_type": "markdown",
   "id": "bef4adfa",
   "metadata": {},
   "source": [
    "1. Python standard library\n",
    "2. 3rd party packages\n",
    "3. Our own code"
   ]
  },
  {
   "cell_type": "markdown",
   "id": "cab44a1a",
   "metadata": {},
   "source": [
    "<b> How do we install these packages?</b>"
   ]
  },
  {
   "cell_type": "markdown",
   "id": "00c35baa",
   "metadata": {},
   "source": [
    "<div class=\"alert alert-block alert-danger\">\n",
    "<b>DON'T:</b> \n",
    "Input this code in a notebook, python file, or REPL\n",
    "</div>"
   ]
  },
  {
   "cell_type": "markdown",
   "id": "367553af",
   "metadata": {},
   "source": [
    "<div class=\"alert alert-block alert-success\">\n",
    "<b>DO:</b>\n",
    "Input this code on the command line    \n",
    "</div>"
   ]
  },
  {
   "cell_type": "markdown",
   "id": "faf2a8fa",
   "metadata": {},
   "source": [
    "We simply run the command in our <b><u>terminal</u></b>:\n",
    "\n",
    "```conda install somepackage```  or   ```pip install somepackage```"
   ]
  },
  {
   "cell_type": "markdown",
   "id": "4193fabe",
   "metadata": {},
   "source": [
    "<b>Importing</b>"
   ]
  },
  {
   "cell_type": "markdown",
   "id": "216dc310",
   "metadata": {},
   "source": [
    "We import a module using the ```import``` reserved word followed by the name of the module"
   ]
  },
  {
   "cell_type": "markdown",
   "id": "72f9733b",
   "metadata": {},
   "source": [
    "- To import an <u>entire</u> module:\n",
    "    - ```somemodule.somefunction()```"
   ]
  },
  {
   "cell_type": "markdown",
   "id": "40f31ea1",
   "metadata": {},
   "source": [
    "- To import a <u>single function</u> from the module\n",
    "    - ```from somemodule import somefunction```"
   ]
  },
  {
   "cell_type": "markdown",
   "id": "0c653db4",
   "metadata": {},
   "source": [
    "<hr style=\"border:1px solid black\">"
   ]
  },
  {
   "cell_type": "markdown",
   "id": "f6c05e7c",
   "metadata": {},
   "source": [
    "### Example 1: Import modules"
   ]
  },
  {
   "cell_type": "markdown",
   "id": "c4ab08c0",
   "metadata": {},
   "source": [
    "Python's ```math``` module\n",
    "\n",
    "This module has many functions within it:"
   ]
  },
  {
   "cell_type": "markdown",
   "id": "9e917489",
   "metadata": {},
   "source": [
    "- ```sqrt```: to take the square root of a number\n",
    "- ```ceil```: to round a number up\n",
    "- ```pow```: to raise a number to a power."
   ]
  },
  {
   "cell_type": "code",
   "execution_count": 1,
   "id": "d59d3189",
   "metadata": {},
   "outputs": [],
   "source": [
    "import math"
   ]
  },
  {
   "cell_type": "code",
   "execution_count": 2,
   "id": "9fbcbbf9",
   "metadata": {},
   "outputs": [
    {
     "data": {
      "text/plain": [
       "2.0"
      ]
     },
     "execution_count": 2,
     "metadata": {},
     "output_type": "execute_result"
    }
   ],
   "source": [
    "#assign a variable\n",
    "x = 4\n",
    "\n",
    "#using squareroot function from math module\n",
    "math.sqrt(x)"
   ]
  },
  {
   "cell_type": "markdown",
   "id": "8cd8592d",
   "metadata": {},
   "source": [
    "<b>Import using an alias"
   ]
  },
  {
   "cell_type": "code",
   "execution_count": 3,
   "id": "9e646725",
   "metadata": {},
   "outputs": [],
   "source": [
    "#alias\n",
    "import math as m"
   ]
  },
  {
   "cell_type": "code",
   "execution_count": 4,
   "id": "1660b39c",
   "metadata": {},
   "outputs": [
    {
     "data": {
      "text/plain": [
       "4.0"
      ]
     },
     "execution_count": 4,
     "metadata": {},
     "output_type": "execute_result"
    }
   ],
   "source": [
    "#assign the variable\n",
    "y= 16\n",
    "\n",
    "#using squareroot function from math module\n",
    "m.sqrt(y)"
   ]
  },
  {
   "cell_type": "code",
   "execution_count": 5,
   "id": "9b1660c4",
   "metadata": {},
   "outputs": [
    {
     "data": {
      "text/plain": [
       "5"
      ]
     },
     "execution_count": 5,
     "metadata": {},
     "output_type": "execute_result"
    }
   ],
   "source": [
    "#assign the variable\n",
    "z = 4.3\n",
    "\n",
    "#using ceiling function for math module\n",
    "m.ceil(z)"
   ]
  },
  {
   "cell_type": "markdown",
   "id": "0cd299c7",
   "metadata": {},
   "source": [
    "<b>Importing specific function from math module"
   ]
  },
  {
   "cell_type": "code",
   "execution_count": 6,
   "id": "30ec52c0",
   "metadata": {},
   "outputs": [],
   "source": [
    "from math import sqrt"
   ]
  },
  {
   "cell_type": "code",
   "execution_count": 7,
   "id": "05d9fb60",
   "metadata": {},
   "outputs": [
    {
     "data": {
      "text/plain": [
       "2.0"
      ]
     },
     "execution_count": 7,
     "metadata": {},
     "output_type": "execute_result"
    }
   ],
   "source": [
    "sqrt(4)"
   ]
  },
  {
   "cell_type": "code",
   "execution_count": 8,
   "id": "5eaed608",
   "metadata": {},
   "outputs": [],
   "source": [
    "from math import sqrt, pow"
   ]
  },
  {
   "cell_type": "code",
   "execution_count": 9,
   "id": "59411be7",
   "metadata": {},
   "outputs": [
    {
     "name": "stdout",
     "output_type": "stream",
     "text": [
      "The square root of 2 is ≅ 1.414\n",
      "pi squared is about 9.86\n"
     ]
    }
   ],
   "source": [
    "print('The square root of 2 is ≅ %.3f' % sqrt(2))\n",
    "print('pi squared is about %.2f' % pow(3.14, 2))"
   ]
  },
  {
   "cell_type": "markdown",
   "id": "c651728e",
   "metadata": {},
   "source": [
    "<div class=\"alert alert-block alert-info\">\n",
    "<b>NOTE:</b> \n",
    "    <br>\n",
    "Because we have explicitly told python we want a specific function, we no longer have to use . notation\n",
    "    \n",
    "- (ex):Use sqrt instead of math.sqrt\n",
    "</div>"
   ]
  },
  {
   "cell_type": "markdown",
   "id": "39cc00e2",
   "metadata": {},
   "source": [
    "### Example 2: Import third party library"
   ]
  },
  {
   "cell_type": "code",
   "execution_count": 10,
   "id": "efbec06e",
   "metadata": {},
   "outputs": [],
   "source": [
    "import pandas as pd"
   ]
  },
  {
   "cell_type": "code",
   "execution_count": 11,
   "id": "6c9a1fb4",
   "metadata": {},
   "outputs": [
    {
     "data": {
      "text/plain": [
       "0       a\n",
       "1       1\n",
       "2    True\n",
       "dtype: object"
      ]
     },
     "execution_count": 11,
     "metadata": {},
     "output_type": "execute_result"
    }
   ],
   "source": [
    "pd.Series([\"a\", 1, True])"
   ]
  },
  {
   "cell_type": "markdown",
   "id": "f04584d0",
   "metadata": {},
   "source": [
    "### Example 3: A local file that contains imports"
   ]
  },
  {
   "cell_type": "markdown",
   "id": "8fc90058",
   "metadata": {},
   "source": [
    "Imagine we have a file named ```util.py``` stored in the ```~/codeup-data-science``` directory with the following contents"
   ]
  },
  {
   "cell_type": "code",
   "execution_count": 12,
   "id": "53456334",
   "metadata": {},
   "outputs": [],
   "source": [
    "import math\n",
    "\n",
    "def rounded_sqrt(x):\n",
    "    return math.ceil(math.sqrt(x))"
   ]
  },
  {
   "cell_type": "markdown",
   "id": "94073b50",
   "metadata": {},
   "source": [
    "We can demonstrate importing from this file py starting an interactive python session in the same directory as our file:"
   ]
  },
  {
   "cell_type": "code",
   "execution_count": 13,
   "id": "50c9e971",
   "metadata": {},
   "outputs": [
    {
     "ename": "SyntaxError",
     "evalue": "invalid syntax (667652131.py, line 1)",
     "output_type": "error",
     "traceback": [
      "\u001b[0;36m  Input \u001b[0;32mIn [13]\u001b[0;36m\u001b[0m\n\u001b[0;31m    cd ~/codeup-data-science\u001b[0m\n\u001b[0m       ^\u001b[0m\n\u001b[0;31mSyntaxError\u001b[0m\u001b[0;31m:\u001b[0m invalid syntax\n"
     ]
    }
   ],
   "source": [
    "cd ~/codeup-data-science\n",
    "python"
   ]
  },
  {
   "cell_type": "markdown",
   "id": "41402afe",
   "metadata": {},
   "source": [
    "From within our python session:"
   ]
  },
  {
   "cell_type": "code",
   "execution_count": null,
   "id": "2cbeae0f",
   "metadata": {},
   "outputs": [],
   "source": [
    ">>> from util import rounded_sqrt\n",
    ">>> rounded_sqrt(10)\n",
    "4"
   ]
  }
 ],
 "metadata": {
  "kernelspec": {
   "display_name": "Python 3 (ipykernel)",
   "language": "python",
   "name": "python3"
  },
  "language_info": {
   "codemirror_mode": {
    "name": "ipython",
    "version": 3
   },
   "file_extension": ".py",
   "mimetype": "text/x-python",
   "name": "python",
   "nbconvert_exporter": "python",
   "pygments_lexer": "ipython3",
   "version": "3.9.13"
  }
 },
 "nbformat": 4,
 "nbformat_minor": 5
}
