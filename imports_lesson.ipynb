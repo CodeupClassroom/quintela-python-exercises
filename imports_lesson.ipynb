{
 "cells": [
  {
   "cell_type": "markdown",
   "id": "1d9f5db7",
   "metadata": {},
   "source": [
    "# Imports Lesson"
   ]
  },
  {
   "cell_type": "markdown",
   "id": "c0b80c87",
   "metadata": {},
   "source": [
    "<hr style=\"border:2px solid gray\">"
   ]
  },
  {
   "cell_type": "markdown",
   "id": "087bb1c0",
   "metadata": {},
   "source": [
    "We <b>import</b> libraries or modules into our current Python session in order to use the functions, methods, or variables within it. We can also directly import specific functions, methods or variables, as opposed to the entire module. The goal is to avoid reinventing the wheel. Practitioners use imports all the time."
   ]
  },
  {
   "cell_type": "markdown",
   "id": "ccd22213",
   "metadata": {},
   "source": [
    "<hr style=\"border:1px solid black\">"
   ]
  },
  {
   "cell_type": "markdown",
   "id": "b93a5b87",
   "metadata": {},
   "source": [
    "### Vocabulary"
   ]
  },
  {
   "cell_type": "markdown",
   "id": "26d97659",
   "metadata": {},
   "source": [
    "<b>Module</b>: a python file with a ```.py``` extention.\n",
    "- Contain functions and variables\n",
    "\n",
    "- Exist in:\n",
    "   - python standard library \n",
    "   - community developed packages\n",
    "   - files you've created (custom)\n",
    "\n",
    "Examples of modules:\n",
    "- custom\n",
    "    - ```acquire.py```\n",
    "    - ```prepare.py```\n",
    "- standard\n",
    "    - math\n",
    "    - datetime\n",
    "    - random "
   ]
  },
  {
   "cell_type": "markdown",
   "id": "e2045eab",
   "metadata": {},
   "source": [
    "<b>Package</b>: a directory that contains modules\n",
    "- A way to distribute one or more modules\n",
    "- We install packages in order to import modules or libraries\n",
    "<br>\n",
    "\n",
    "Examples of packages:\n",
    "- pip\n",
    "- conda (packages manager)"
   ]
  },
  {
   "cell_type": "markdown",
   "id": "3d17ba0a",
   "metadata": {},
   "source": [
    "<b>Library</b>: collection of code, data, docs.\n",
    "\n",
    "Examples of libraries:\n",
    "- numpy\n",
    "- matplotlib\n",
    "- seaborn\n",
    "- sklearn"
   ]
  },
  {
   "cell_type": "markdown",
   "id": "d9d7a10d",
   "metadata": {},
   "source": [
    "<hr style=\"border:1px solid black\">"
   ]
  },
  {
   "cell_type": "markdown",
   "id": "c7547684",
   "metadata": {},
   "source": [
    "### Import Sources"
   ]
  },
  {
   "cell_type": "markdown",
   "id": "bef4adfa",
   "metadata": {},
   "source": [
    "1. Python standard library\n",
    "2. 3rd party packages\n",
    "3. Our own code"
   ]
  },
  {
   "cell_type": "markdown",
   "id": "faf2a8fa",
   "metadata": {},
   "source": [
    "<b> How do we install these packages?</b>\n",
    "\n",
    "We simply run the command in our terminal:\n",
    "\n",
    "```conda install somepackage```  or   ```pip install somepackage```"
   ]
  },
  {
   "cell_type": "markdown",
   "id": "4193fabe",
   "metadata": {},
   "source": [
    "<b>Importing</b>"
   ]
  },
  {
   "cell_type": "markdown",
   "id": "72f9733b",
   "metadata": {},
   "source": [
    "We can import an entire module:\n",
    "- somemodule.somefunction()"
   ]
  },
  {
   "cell_type": "markdown",
   "id": "40f31ea1",
   "metadata": {},
   "source": [
    "We can import a single function from the module\n",
    "- from somemodule import somefunction"
   ]
  },
  {
   "cell_type": "code",
   "execution_count": null,
   "id": "eab993ee",
   "metadata": {},
   "outputs": [],
   "source": []
  },
  {
   "cell_type": "code",
   "execution_count": null,
   "id": "7f274bd8",
   "metadata": {},
   "outputs": [],
   "source": []
  },
  {
   "cell_type": "code",
   "execution_count": null,
   "id": "f520bd7f",
   "metadata": {},
   "outputs": [],
   "source": []
  },
  {
   "cell_type": "code",
   "execution_count": null,
   "id": "35669fa4",
   "metadata": {},
   "outputs": [],
   "source": []
  }
 ],
 "metadata": {
  "kernelspec": {
   "display_name": "Python 3 (ipykernel)",
   "language": "python",
   "name": "python3"
  },
  "language_info": {
   "codemirror_mode": {
    "name": "ipython",
    "version": 3
   },
   "file_extension": ".py",
   "mimetype": "text/x-python",
   "name": "python",
   "nbconvert_exporter": "python",
   "pygments_lexer": "ipython3",
   "version": "3.9.13"
  }
 },
 "nbformat": 4,
 "nbformat_minor": 5
}
