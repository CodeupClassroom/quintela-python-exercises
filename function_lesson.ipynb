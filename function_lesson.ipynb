{
 "cells": [
  {
   "cell_type": "markdown",
   "id": "f31de8b1",
   "metadata": {},
   "source": [
    "# Functions Lessson\n",
    "\n",
    "## What we already know"
   ]
  },
  {
   "cell_type": "code",
   "execution_count": 1,
   "id": "8550e287",
   "metadata": {},
   "outputs": [
    {
     "data": {
      "text/plain": [
       "3"
      ]
     },
     "execution_count": 1,
     "metadata": {},
     "output_type": "execute_result"
    }
   ],
   "source": [
    "len([1, 2, 3])"
   ]
  },
  {
   "cell_type": "code",
   "execution_count": 2,
   "id": "f7965ca6",
   "metadata": {},
   "outputs": [
    {
     "data": {
      "text/plain": [
       "<function len(obj, /)>"
      ]
     },
     "execution_count": 2,
     "metadata": {},
     "output_type": "execute_result"
    }
   ],
   "source": [
    "len"
   ]
  },
  {
   "cell_type": "code",
   "execution_count": 3,
   "id": "e176f21b",
   "metadata": {},
   "outputs": [
    {
     "data": {
      "text/plain": [
       "<function print>"
      ]
     },
     "execution_count": 3,
     "metadata": {},
     "output_type": "execute_result"
    }
   ],
   "source": [
    "print"
   ]
  },
  {
   "cell_type": "code",
   "execution_count": 4,
   "id": "891c357b",
   "metadata": {},
   "outputs": [
    {
     "name": "stdout",
     "output_type": "stream",
     "text": [
      "hello\n"
     ]
    }
   ],
   "source": [
    "print('hello')"
   ]
  },
  {
   "cell_type": "markdown",
   "id": "92eded8a",
   "metadata": {},
   "source": [
    "## How to make a function\n",
    "\n",
    "```python\n",
    "def name_of_function(parameters):\n",
    "    Steps of excution\n",
    "    return result\n",
    "\n",
    "name_of_function(arguments)\n",
    "```"
   ]
  },
  {
   "cell_type": "code",
   "execution_count": 5,
   "id": "25fe5cfa",
   "metadata": {},
   "outputs": [],
   "source": [
    "def increment(n):\n",
    "    return n + 1"
   ]
  },
  {
   "cell_type": "code",
   "execution_count": 8,
   "id": "2062852b",
   "metadata": {},
   "outputs": [],
   "source": [
    "x = increment(1)"
   ]
  },
  {
   "cell_type": "code",
   "execution_count": 9,
   "id": "baee1776",
   "metadata": {},
   "outputs": [
    {
     "data": {
      "text/plain": [
       "2"
      ]
     },
     "execution_count": 9,
     "metadata": {},
     "output_type": "execute_result"
    }
   ],
   "source": [
    "x"
   ]
  },
  {
   "cell_type": "code",
   "execution_count": 10,
   "id": "ac22901a",
   "metadata": {},
   "outputs": [
    {
     "data": {
      "text/plain": [
       "3"
      ]
     },
     "execution_count": 10,
     "metadata": {},
     "output_type": "execute_result"
    }
   ],
   "source": [
    "increment(increment(1))"
   ]
  },
  {
   "cell_type": "code",
   "execution_count": 11,
   "id": "2f488a9a",
   "metadata": {},
   "outputs": [
    {
     "data": {
      "text/plain": [
       "4"
      ]
     },
     "execution_count": 11,
     "metadata": {},
     "output_type": "execute_result"
    }
   ],
   "source": [
    "increment(increment(increment(1)))"
   ]
  },
  {
   "cell_type": "code",
   "execution_count": 12,
   "id": "5468cbcf",
   "metadata": {},
   "outputs": [
    {
     "data": {
      "text/plain": [
       "<function len(obj, /)>"
      ]
     },
     "execution_count": 12,
     "metadata": {},
     "output_type": "execute_result"
    }
   ],
   "source": [
    "len"
   ]
  },
  {
   "cell_type": "code",
   "execution_count": 13,
   "id": "9bf857d7",
   "metadata": {},
   "outputs": [],
   "source": [
    "def length(thing):\n",
    "    count = 0\n",
    "    \n",
    "    for item in thing:\n",
    "        count += 1\n",
    "        \n",
    "    return count"
   ]
  },
  {
   "cell_type": "code",
   "execution_count": 15,
   "id": "3e254a86",
   "metadata": {},
   "outputs": [
    {
     "data": {
      "text/plain": [
       "3"
      ]
     },
     "execution_count": 15,
     "metadata": {},
     "output_type": "execute_result"
    }
   ],
   "source": [
    "length([1, 2, 3])"
   ]
  },
  {
   "cell_type": "code",
   "execution_count": 16,
   "id": "0bdf1fed",
   "metadata": {},
   "outputs": [
    {
     "data": {
      "text/plain": [
       "5"
      ]
     },
     "execution_count": 16,
     "metadata": {},
     "output_type": "execute_result"
    }
   ],
   "source": [
    "length('hello')"
   ]
  },
  {
   "cell_type": "code",
   "execution_count": 17,
   "id": "93b74e23",
   "metadata": {},
   "outputs": [
    {
     "data": {
      "text/plain": [
       "0"
      ]
     },
     "execution_count": 17,
     "metadata": {},
     "output_type": "execute_result"
    }
   ],
   "source": [
    "length([])"
   ]
  },
  {
   "cell_type": "code",
   "execution_count": 18,
   "id": "edf136cf",
   "metadata": {},
   "outputs": [
    {
     "data": {
      "text/plain": [
       "0"
      ]
     },
     "execution_count": 18,
     "metadata": {},
     "output_type": "execute_result"
    }
   ],
   "source": [
    "length('')"
   ]
  },
  {
   "cell_type": "code",
   "execution_count": 19,
   "id": "a8505f4b",
   "metadata": {},
   "outputs": [
    {
     "name": "stdout",
     "output_type": "stream",
     "text": [
      "h\n",
      "e\n",
      "l\n",
      "l\n",
      "o\n"
     ]
    }
   ],
   "source": [
    "for letter in 'hello':\n",
    "    print(letter)"
   ]
  },
  {
   "cell_type": "code",
   "execution_count": 20,
   "id": "de58e739",
   "metadata": {},
   "outputs": [
    {
     "data": {
      "text/plain": [
       "'h'"
      ]
     },
     "execution_count": 20,
     "metadata": {},
     "output_type": "execute_result"
    }
   ],
   "source": [
    "'hello'[0]"
   ]
  },
  {
   "cell_type": "code",
   "execution_count": 21,
   "id": "58e10d9b",
   "metadata": {},
   "outputs": [
    {
     "data": {
      "text/plain": [
       "['h', 'e', 'l', 'l', 'o']"
      ]
     },
     "execution_count": 21,
     "metadata": {},
     "output_type": "execute_result"
    }
   ],
   "source": [
    "list(str('hello'))"
   ]
  },
  {
   "cell_type": "markdown",
   "id": "9a992756",
   "metadata": {},
   "source": [
    "## Multiple return statements"
   ]
  },
  {
   "cell_type": "code",
   "execution_count": 24,
   "id": "4d388389",
   "metadata": {},
   "outputs": [],
   "source": [
    "def increment(n):\n",
    "    return n + 1\n",
    "    print('You will never see this')\n",
    "    return n + 1"
   ]
  },
  {
   "cell_type": "code",
   "execution_count": 27,
   "id": "c1694719",
   "metadata": {},
   "outputs": [
    {
     "data": {
      "text/plain": [
       "2"
      ]
     },
     "execution_count": 27,
     "metadata": {},
     "output_type": "execute_result"
    }
   ],
   "source": [
    "increment(1)"
   ]
  },
  {
   "cell_type": "code",
   "execution_count": 28,
   "id": "09f2b5c5",
   "metadata": {},
   "outputs": [],
   "source": [
    "def double_increment(n):\n",
    "    first_increment = n + 1\n",
    "    second_increment = first_increment + 1\n",
    "    \n",
    "    return first_increment, second_increment"
   ]
  },
  {
   "cell_type": "code",
   "execution_count": 30,
   "id": "1ace46e1",
   "metadata": {},
   "outputs": [
    {
     "data": {
      "text/plain": [
       "tuple"
      ]
     },
     "execution_count": 30,
     "metadata": {},
     "output_type": "execute_result"
    }
   ],
   "source": [
    "type(double_increment(1))"
   ]
  },
  {
   "cell_type": "code",
   "execution_count": 31,
   "id": "fe6594e6",
   "metadata": {},
   "outputs": [
    {
     "data": {
      "text/plain": [
       "(2, 3)"
      ]
     },
     "execution_count": 31,
     "metadata": {},
     "output_type": "execute_result"
    }
   ],
   "source": [
    "double_increment(1)"
   ]
  },
  {
   "cell_type": "code",
   "execution_count": 32,
   "id": "8f722642",
   "metadata": {},
   "outputs": [],
   "source": [
    "x = double_increment(1)"
   ]
  },
  {
   "cell_type": "code",
   "execution_count": 33,
   "id": "cb4c7857",
   "metadata": {},
   "outputs": [
    {
     "data": {
      "text/plain": [
       "(2, 3)"
      ]
     },
     "execution_count": 33,
     "metadata": {},
     "output_type": "execute_result"
    }
   ],
   "source": [
    "x"
   ]
  },
  {
   "cell_type": "code",
   "execution_count": 34,
   "id": "44fcfb74",
   "metadata": {},
   "outputs": [
    {
     "data": {
      "text/plain": [
       "tuple"
      ]
     },
     "execution_count": 34,
     "metadata": {},
     "output_type": "execute_result"
    }
   ],
   "source": [
    "type(x)"
   ]
  },
  {
   "cell_type": "code",
   "execution_count": 35,
   "id": "74b631b5",
   "metadata": {},
   "outputs": [],
   "source": [
    "x, y = double_increment(1)"
   ]
  },
  {
   "cell_type": "code",
   "execution_count": 36,
   "id": "bf24252a",
   "metadata": {},
   "outputs": [
    {
     "data": {
      "text/plain": [
       "2"
      ]
     },
     "execution_count": 36,
     "metadata": {},
     "output_type": "execute_result"
    }
   ],
   "source": [
    "x"
   ]
  },
  {
   "cell_type": "code",
   "execution_count": 37,
   "id": "cef1169e",
   "metadata": {},
   "outputs": [
    {
     "data": {
      "text/plain": [
       "3"
      ]
     },
     "execution_count": 37,
     "metadata": {},
     "output_type": "execute_result"
    }
   ],
   "source": [
    "y"
   ]
  },
  {
   "cell_type": "markdown",
   "id": "8c07adcc",
   "metadata": {},
   "source": [
    "## What if I don't return anything"
   ]
  },
  {
   "cell_type": "code",
   "execution_count": 38,
   "id": "0f3390d8",
   "metadata": {},
   "outputs": [],
   "source": [
    "def say_hello():\n",
    "    print('Hello!')"
   ]
  },
  {
   "cell_type": "code",
   "execution_count": 39,
   "id": "c2ef5ff5",
   "metadata": {},
   "outputs": [
    {
     "name": "stdout",
     "output_type": "stream",
     "text": [
      "Hello!\n"
     ]
    }
   ],
   "source": [
    "say_hello()"
   ]
  },
  {
   "cell_type": "code",
   "execution_count": 40,
   "id": "3ffb9435",
   "metadata": {},
   "outputs": [
    {
     "name": "stdout",
     "output_type": "stream",
     "text": [
      "Hello!\n"
     ]
    }
   ],
   "source": [
    "hello = say_hello()"
   ]
  },
  {
   "cell_type": "code",
   "execution_count": 41,
   "id": "3b5886e9",
   "metadata": {},
   "outputs": [],
   "source": [
    "hello"
   ]
  },
  {
   "cell_type": "code",
   "execution_count": 42,
   "id": "bceac373",
   "metadata": {},
   "outputs": [
    {
     "data": {
      "text/plain": [
       "NoneType"
      ]
     },
     "execution_count": 42,
     "metadata": {},
     "output_type": "execute_result"
    }
   ],
   "source": [
    "type(hello)"
   ]
  },
  {
   "cell_type": "markdown",
   "id": "37f481ad",
   "metadata": {},
   "source": [
    "### What happens if I try to give arguments to a function with no parameters"
   ]
  },
  {
   "cell_type": "code",
   "execution_count": 43,
   "id": "612415f1",
   "metadata": {},
   "outputs": [
    {
     "ename": "TypeError",
     "evalue": "say_hello() takes 0 positional arguments but 1 was given",
     "output_type": "error",
     "traceback": [
      "\u001b[0;31m---------------------------------------------------------------------------\u001b[0m",
      "\u001b[0;31mTypeError\u001b[0m                                 Traceback (most recent call last)",
      "Input \u001b[0;32mIn [43]\u001b[0m, in \u001b[0;36m<cell line: 1>\u001b[0;34m()\u001b[0m\n\u001b[0;32m----> 1\u001b[0m \u001b[43msay_hello\u001b[49m\u001b[43m(\u001b[49m\u001b[38;5;124;43m'\u001b[39;49m\u001b[38;5;124;43mRyan\u001b[39;49m\u001b[38;5;124;43m'\u001b[39;49m\u001b[43m)\u001b[49m\n",
      "\u001b[0;31mTypeError\u001b[0m: say_hello() takes 0 positional arguments but 1 was given"
     ]
    }
   ],
   "source": [
    "say_hello('Ryan')"
   ]
  },
  {
   "cell_type": "code",
   "execution_count": 44,
   "id": "42e224ce",
   "metadata": {},
   "outputs": [
    {
     "ename": "TypeError",
     "evalue": "length() missing 1 required positional argument: 'thing'",
     "output_type": "error",
     "traceback": [
      "\u001b[0;31m---------------------------------------------------------------------------\u001b[0m",
      "\u001b[0;31mTypeError\u001b[0m                                 Traceback (most recent call last)",
      "Input \u001b[0;32mIn [44]\u001b[0m, in \u001b[0;36m<cell line: 1>\u001b[0;34m()\u001b[0m\n\u001b[0;32m----> 1\u001b[0m \u001b[43mlength\u001b[49m\u001b[43m(\u001b[49m\u001b[43m)\u001b[49m\n",
      "\u001b[0;31mTypeError\u001b[0m: length() missing 1 required positional argument: 'thing'"
     ]
    }
   ],
   "source": [
    "length()"
   ]
  },
  {
   "cell_type": "code",
   "execution_count": 45,
   "id": "1afa159e",
   "metadata": {},
   "outputs": [
    {
     "ename": "TypeError",
     "evalue": "increment() missing 1 required positional argument: 'n'",
     "output_type": "error",
     "traceback": [
      "\u001b[0;31m---------------------------------------------------------------------------\u001b[0m",
      "\u001b[0;31mTypeError\u001b[0m                                 Traceback (most recent call last)",
      "Input \u001b[0;32mIn [45]\u001b[0m, in \u001b[0;36m<cell line: 1>\u001b[0;34m()\u001b[0m\n\u001b[0;32m----> 1\u001b[0m \u001b[43mincrement\u001b[49m\u001b[43m(\u001b[49m\u001b[43m)\u001b[49m\n",
      "\u001b[0;31mTypeError\u001b[0m: increment() missing 1 required positional argument: 'n'"
     ]
    }
   ],
   "source": [
    "increment()"
   ]
  },
  {
   "cell_type": "markdown",
   "id": "31831629",
   "metadata": {},
   "source": [
    "## Default arguments"
   ]
  },
  {
   "cell_type": "code",
   "execution_count": 49,
   "id": "523913b2",
   "metadata": {},
   "outputs": [],
   "source": [
    "def say_hello(greeting='Hello', name='User'):\n",
    "    print(greeting, name)"
   ]
  },
  {
   "cell_type": "code",
   "execution_count": 50,
   "id": "4b8d72b4",
   "metadata": {},
   "outputs": [
    {
     "name": "stdout",
     "output_type": "stream",
     "text": [
      "Hello Ryan\n"
     ]
    }
   ],
   "source": [
    "say_hello('Hello', 'Ryan')"
   ]
  },
  {
   "cell_type": "code",
   "execution_count": 51,
   "id": "2be1e547",
   "metadata": {},
   "outputs": [
    {
     "name": "stdout",
     "output_type": "stream",
     "text": [
      "Hello User\n"
     ]
    }
   ],
   "source": [
    "say_hello()"
   ]
  },
  {
   "cell_type": "code",
   "execution_count": 53,
   "id": "21b21cfe",
   "metadata": {},
   "outputs": [
    {
     "name": "stdout",
     "output_type": "stream",
     "text": [
      "Ryan User\n"
     ]
    }
   ],
   "source": [
    "say_hello('Ryan')"
   ]
  },
  {
   "cell_type": "markdown",
   "id": "63e80c9d",
   "metadata": {},
   "source": [
    "## Keyword arguments"
   ]
  },
  {
   "cell_type": "code",
   "execution_count": 54,
   "id": "fb8639ad",
   "metadata": {},
   "outputs": [
    {
     "name": "stdout",
     "output_type": "stream",
     "text": [
      "Hello Ryan\n"
     ]
    }
   ],
   "source": [
    "say_hello(name='Ryan')"
   ]
  },
  {
   "cell_type": "code",
   "execution_count": 55,
   "id": "36372a6c",
   "metadata": {},
   "outputs": [
    {
     "name": "stdout",
     "output_type": "stream",
     "text": [
      "Salutations Derek\n"
     ]
    }
   ],
   "source": [
    "say_hello(greeting='Salutations', name='Derek')"
   ]
  },
  {
   "cell_type": "code",
   "execution_count": 56,
   "id": "ef8eb50d",
   "metadata": {},
   "outputs": [
    {
     "name": "stdout",
     "output_type": "stream",
     "text": [
      "Salutations Derek\n"
     ]
    }
   ],
   "source": [
    "say_hello('Salutations', 'Derek')"
   ]
  },
  {
   "cell_type": "code",
   "execution_count": 57,
   "id": "22f52cb8",
   "metadata": {},
   "outputs": [],
   "source": [
    "def print_multiple(thing_1 = 'Empty',\n",
    "                  thing_2 = 'Empty',\n",
    "                  thing_3 = 'Empty',\n",
    "                  thing_4 = 'Empty',\n",
    "                  thing_5 = 'Empty',):\n",
    "    list_of_things = [thing_1, thing_2, thing_3, thing_4, thing_5]\n",
    "    \n",
    "    for thing in list_of_things:\n",
    "        print(thing)"
   ]
  },
  {
   "cell_type": "code",
   "execution_count": 59,
   "id": "8db67034",
   "metadata": {},
   "outputs": [
    {
     "name": "stdout",
     "output_type": "stream",
     "text": [
      "Empty\n",
      "Empty\n",
      "Empty\n",
      "Empty\n",
      "Empty\n"
     ]
    }
   ],
   "source": [
    "print_multiple()"
   ]
  },
  {
   "cell_type": "code",
   "execution_count": 63,
   "id": "ae5884e3",
   "metadata": {},
   "outputs": [
    {
     "name": "stdout",
     "output_type": "stream",
     "text": [
      "Hello\n",
      "Quintela\n",
      "Empty\n",
      "I am thing 4\n",
      "Wow\n"
     ]
    }
   ],
   "source": [
    "print_multiple('Hello', 'Quintela', thing_4='I am thing 4', thing_5='Wow')"
   ]
  },
  {
   "cell_type": "code",
   "execution_count": 64,
   "id": "e466d2f5",
   "metadata": {},
   "outputs": [
    {
     "ename": "SyntaxError",
     "evalue": "non-default argument follows default argument (3540063715.py, line 4)",
     "output_type": "error",
     "traceback": [
      "\u001b[0;36m  Input \u001b[0;32mIn [64]\u001b[0;36m\u001b[0m\n\u001b[0;31m    thing_4 = 'Empty',\u001b[0m\n\u001b[0m    ^\u001b[0m\n\u001b[0;31mSyntaxError\u001b[0m\u001b[0;31m:\u001b[0m non-default argument follows default argument\n"
     ]
    }
   ],
   "source": [
    "def print_multiple(thing_1 = 'Empty',\n",
    "                  thing_2 = 'Empty',\n",
    "                  thing_3,\n",
    "                  thing_4 = 'Empty',\n",
    "                  thing_5 = 'Empty',):\n",
    "    list_of_things = [thing_1, thing_2, thing_3, thing_4, thing_5]\n",
    "    \n",
    "    for thing in list_of_things:\n",
    "        print(thing)"
   ]
  },
  {
   "cell_type": "markdown",
   "id": "1ea90979",
   "metadata": {},
   "source": [
    "### *args"
   ]
  },
  {
   "cell_type": "code",
   "execution_count": 65,
   "id": "0fc49a4b",
   "metadata": {},
   "outputs": [
    {
     "name": "stdout",
     "output_type": "stream",
     "text": [
      "Hello User\n"
     ]
    }
   ],
   "source": [
    "say_hello()"
   ]
  },
  {
   "cell_type": "code",
   "execution_count": 66,
   "id": "4381720b",
   "metadata": {},
   "outputs": [
    {
     "name": "stdout",
     "output_type": "stream",
     "text": [
      "Greetings Ryan\n"
     ]
    }
   ],
   "source": [
    "say_hello('Greetings', 'Ryan')"
   ]
  },
  {
   "cell_type": "code",
   "execution_count": 68,
   "id": "c3b9e83e",
   "metadata": {},
   "outputs": [
    {
     "name": "stdout",
     "output_type": "stream",
     "text": [
      "Greetings Ryan\n"
     ]
    }
   ],
   "source": [
    "list_of_arguments = ['Greetings', 'Ryan']\n",
    "\n",
    "say_hello(*list_of_arguments)"
   ]
  },
  {
   "cell_type": "markdown",
   "id": "a8fddfa9",
   "metadata": {},
   "source": [
    "### **kwargs"
   ]
  },
  {
   "cell_type": "code",
   "execution_count": 69,
   "id": "b5ffcade",
   "metadata": {},
   "outputs": [
    {
     "name": "stdout",
     "output_type": "stream",
     "text": [
      "Greetings Ryan\n"
     ]
    }
   ],
   "source": [
    "dict_of_arguments = {\n",
    "    'greeting': 'Greetings',\n",
    "    'name': 'Ryan'\n",
    "}\n",
    "\n",
    "say_hello(**dict_of_arguments)"
   ]
  },
  {
   "cell_type": "code",
   "execution_count": 70,
   "id": "9a6a44a0",
   "metadata": {},
   "outputs": [],
   "source": [
    "list_of_dictionaries = [\n",
    "    {\n",
    "        'greeting': 'Hi',\n",
    "        'name': 'Liz',\n",
    "    },\n",
    "    {\n",
    "        'greeting': 'Hello there',\n",
    "        'name': 'General Kenobi',\n",
    "    }\n",
    "]"
   ]
  },
  {
   "cell_type": "code",
   "execution_count": 71,
   "id": "7433063a",
   "metadata": {},
   "outputs": [
    {
     "name": "stdout",
     "output_type": "stream",
     "text": [
      "Hi Liz\n",
      "Hello there General Kenobi\n"
     ]
    }
   ],
   "source": [
    "for dictionary in list_of_dictionaries:\n",
    "    say_hello(**dictionary)"
   ]
  },
  {
   "cell_type": "markdown",
   "id": "26660e80",
   "metadata": {},
   "source": [
    "## Scope"
   ]
  },
  {
   "cell_type": "code",
   "execution_count": 72,
   "id": "c2a4e6d9",
   "metadata": {},
   "outputs": [
    {
     "name": "stdout",
     "output_type": "stream",
     "text": [
      "Inside the function: 1\n",
      "Outside the function: 1\n"
     ]
    }
   ],
   "source": [
    "number = 1\n",
    "\n",
    "def print_number():\n",
    "    print('Inside the function:', number)\n",
    "    \n",
    "print_number()\n",
    "print('Outside the function:', number)"
   ]
  },
  {
   "cell_type": "code",
   "execution_count": 73,
   "id": "70211036",
   "metadata": {},
   "outputs": [
    {
     "name": "stdout",
     "output_type": "stream",
     "text": [
      "Inside the function: 1\n",
      "Outside the function: 1\n"
     ]
    }
   ],
   "source": [
    "def print_number():\n",
    "    print('Inside the function:', other_number)\n",
    "    \n",
    "other_number = 1\n",
    "print_number()\n",
    "print('Outside the function:', other_number)"
   ]
  },
  {
   "cell_type": "code",
   "execution_count": 74,
   "id": "f61aed51",
   "metadata": {},
   "outputs": [
    {
     "ename": "NameError",
     "evalue": "name 'some_other_number' is not defined",
     "output_type": "error",
     "traceback": [
      "\u001b[0;31m---------------------------------------------------------------------------\u001b[0m",
      "\u001b[0;31mNameError\u001b[0m                                 Traceback (most recent call last)",
      "Input \u001b[0;32mIn [74]\u001b[0m, in \u001b[0;36m<cell line: 4>\u001b[0;34m()\u001b[0m\n\u001b[1;32m      1\u001b[0m \u001b[38;5;28;01mdef\u001b[39;00m \u001b[38;5;21mprint_number\u001b[39m():\n\u001b[1;32m      2\u001b[0m     \u001b[38;5;28mprint\u001b[39m(\u001b[38;5;124m'\u001b[39m\u001b[38;5;124mInside the function:\u001b[39m\u001b[38;5;124m'\u001b[39m, some_other_number)\n\u001b[0;32m----> 4\u001b[0m \u001b[43mprint_number\u001b[49m\u001b[43m(\u001b[49m\u001b[43m)\u001b[49m\n\u001b[1;32m      5\u001b[0m some_other_number \u001b[38;5;241m=\u001b[39m \u001b[38;5;241m1\u001b[39m\n\u001b[1;32m      6\u001b[0m \u001b[38;5;28mprint\u001b[39m(\u001b[38;5;124m'\u001b[39m\u001b[38;5;124mOutside the function:\u001b[39m\u001b[38;5;124m'\u001b[39m, some_other_number)\n",
      "Input \u001b[0;32mIn [74]\u001b[0m, in \u001b[0;36mprint_number\u001b[0;34m()\u001b[0m\n\u001b[1;32m      1\u001b[0m \u001b[38;5;28;01mdef\u001b[39;00m \u001b[38;5;21mprint_number\u001b[39m():\n\u001b[0;32m----> 2\u001b[0m     \u001b[38;5;28mprint\u001b[39m(\u001b[38;5;124m'\u001b[39m\u001b[38;5;124mInside the function:\u001b[39m\u001b[38;5;124m'\u001b[39m, \u001b[43msome_other_number\u001b[49m)\n",
      "\u001b[0;31mNameError\u001b[0m: name 'some_other_number' is not defined"
     ]
    }
   ],
   "source": [
    "def print_number():\n",
    "    print('Inside the function:', some_other_number)\n",
    "    \n",
    "print_number()\n",
    "some_other_number = 1\n",
    "print('Outside the function:', some_other_number)"
   ]
  },
  {
   "cell_type": "code",
   "execution_count": 79,
   "id": "917263be",
   "metadata": {},
   "outputs": [
    {
     "name": "stdout",
     "output_type": "stream",
     "text": [
      "Outside function: 123\n",
      "After n declared inside function: 10\n",
      "After n manipulated inside function: 7\n",
      "Outside function after calling function: 123\n",
      "After n declared inside function: 10\n",
      "After n manipulated inside function: 7\n",
      "Reassign the result of calling function 7\n"
     ]
    }
   ],
   "source": [
    "n = 123\n",
    "\n",
    "def a_function():\n",
    "    n = 10\n",
    "    print('After n declared inside function:', n)\n",
    "    n = n - 3\n",
    "    print('After n manipulated inside function:', n)\n",
    "    return n\n",
    "\n",
    "print('Outside function:', n)\n",
    "a_function()\n",
    "print('Outside function after calling function:', n)\n",
    "n = a_function()\n",
    "print('Reassign the result of calling function', n)"
   ]
  },
  {
   "cell_type": "markdown",
   "id": "22c05fb2",
   "metadata": {},
   "source": [
    "## Lamda function"
   ]
  },
  {
   "cell_type": "code",
   "execution_count": 80,
   "id": "b3da8f27",
   "metadata": {},
   "outputs": [],
   "source": [
    "add_one = lambda n: n + 1"
   ]
  },
  {
   "cell_type": "code",
   "execution_count": 81,
   "id": "75fa06c6",
   "metadata": {},
   "outputs": [
    {
     "data": {
      "text/plain": [
       "10"
      ]
     },
     "execution_count": 81,
     "metadata": {},
     "output_type": "execute_result"
    }
   ],
   "source": [
    "add_one(9)"
   ]
  },
  {
   "cell_type": "code",
   "execution_count": 82,
   "id": "40287401",
   "metadata": {},
   "outputs": [],
   "source": [
    "square = lambda n: n**2"
   ]
  },
  {
   "cell_type": "code",
   "execution_count": 83,
   "id": "a77edcbc",
   "metadata": {},
   "outputs": [
    {
     "data": {
      "text/plain": [
       "4"
      ]
     },
     "execution_count": 83,
     "metadata": {},
     "output_type": "execute_result"
    }
   ],
   "source": [
    "square(2)"
   ]
  },
  {
   "cell_type": "code",
   "execution_count": 84,
   "id": "f2612c9b",
   "metadata": {},
   "outputs": [],
   "source": [
    "list_of_numbers = list(range(1, 11))"
   ]
  },
  {
   "cell_type": "code",
   "execution_count": 85,
   "id": "29ac407c",
   "metadata": {},
   "outputs": [
    {
     "data": {
      "text/plain": [
       "[1, 2, 3, 4, 5, 6, 7, 8, 9, 10]"
      ]
     },
     "execution_count": 85,
     "metadata": {},
     "output_type": "execute_result"
    }
   ],
   "source": [
    "list_of_numbers"
   ]
  },
  {
   "cell_type": "code",
   "execution_count": 86,
   "id": "4cb8fc45",
   "metadata": {},
   "outputs": [
    {
     "data": {
      "text/plain": [
       "<map at 0x1119deb80>"
      ]
     },
     "execution_count": 86,
     "metadata": {},
     "output_type": "execute_result"
    }
   ],
   "source": [
    "map(lambda n: n**2, list_of_numbers)"
   ]
  },
  {
   "cell_type": "code",
   "execution_count": 87,
   "id": "30d60eb8",
   "metadata": {},
   "outputs": [
    {
     "data": {
      "text/plain": [
       "range(1, 11)"
      ]
     },
     "execution_count": 87,
     "metadata": {},
     "output_type": "execute_result"
    }
   ],
   "source": [
    "range(1, 11)"
   ]
  },
  {
   "cell_type": "code",
   "execution_count": 88,
   "id": "876ae096",
   "metadata": {},
   "outputs": [
    {
     "data": {
      "text/plain": [
       "[1, 4, 9, 16, 25, 36, 49, 64, 81, 100]"
      ]
     },
     "execution_count": 88,
     "metadata": {},
     "output_type": "execute_result"
    }
   ],
   "source": [
    "list(map(lambda n: n**2, list_of_numbers))"
   ]
  },
  {
   "cell_type": "code",
   "execution_count": 90,
   "id": "66b38574",
   "metadata": {},
   "outputs": [
    {
     "data": {
      "text/plain": [
       "[1, 4, 9, 16, 25, 36, 49, 64, 81, 100]"
      ]
     },
     "execution_count": 90,
     "metadata": {},
     "output_type": "execute_result"
    }
   ],
   "source": [
    "def square(n):\n",
    "    return n**2\n",
    "\n",
    "list(map(square, list_of_numbers))"
   ]
  },
  {
   "cell_type": "code",
   "execution_count": 91,
   "id": "87670de1",
   "metadata": {},
   "outputs": [
    {
     "data": {
      "text/plain": [
       "[1, 4, 9, 16, 25, 36, 49, 64, 81, 100]"
      ]
     },
     "execution_count": 91,
     "metadata": {},
     "output_type": "execute_result"
    }
   ],
   "source": [
    "[n**2 for n in range(1, 11)]"
   ]
  },
  {
   "cell_type": "code",
   "execution_count": null,
   "id": "572812cb",
   "metadata": {},
   "outputs": [],
   "source": []
  }
 ],
 "metadata": {
  "kernelspec": {
   "display_name": "Python 3 (ipykernel)",
   "language": "python",
   "name": "python3"
  },
  "language_info": {
   "codemirror_mode": {
    "name": "ipython",
    "version": 3
   },
   "file_extension": ".py",
   "mimetype": "text/x-python",
   "name": "python",
   "nbconvert_exporter": "python",
   "pygments_lexer": "ipython3",
   "version": "3.9.12"
  }
 },
 "nbformat": 4,
 "nbformat_minor": 5
}
