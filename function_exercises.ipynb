{
 "cells": [
  {
   "cell_type": "markdown",
   "id": "80f7b10a",
   "metadata": {},
   "source": [
    "# Function Exercises"
   ]
  },
  {
   "cell_type": "markdown",
   "id": "dfa99ce4",
   "metadata": {},
   "source": [
    "<hr style=\"border:2px solid gray\">"
   ]
  },
  {
   "cell_type": "markdown",
   "id": "d78e7827",
   "metadata": {},
   "source": [
    "1. Define a function named ```is_two```. It should accept one input and return True if the passed input is either the number or the string 2, ```False``` otherwise.\n",
    "2. Define a function named ```is_vowel```. It should return ```True``` if the passed string is a vowel, ```False``` otherwise.\n",
    "3. Define a function named ```is_consonant```. It should return ```True``` if the passed string is a consonant, False otherwise. Use your ```is_vowel``` function to accomplish this.\n",
    "4. Define a function that accepts a string that is a word. The function should capitalize the first letter of the word if the word starts with a consonant.\n",
    "5. Define a function named ```calculate_tip```. It should accept a tip percentage (a number between 0 and 1) and the bill total, and return the amount to tip.\n",
    "6. Define a function named ```apply_discount```. It should accept a original price, and a discount percentage, and return the price after the discount is applied.\n",
    "7. Define a function named ```handle_commas```. It should accept a string that is a number that contains commas in it as input, and return a number as output.\n",
    "8. Define a function named ```get_letter_grade```. It should accept a number and return the letter grade associated with that number (A-F).\n",
    "9. Define a function named ```remove_vowels``` that accepts a string and returns a string with all the vowels removed.\n",
    "10. Define a function named ```normalize_name```. It should accept a string and return a valid python identifier, that is:\n",
    "- anything that is not a valid python identifier should be removed\n",
    "- leading and trailing whitespace should be removed\n",
    "- everything should be lowercase\n",
    "- spaces should be replaced with underscores\n",
    "- for example:\n",
    "    - ```Name``` will become name\n",
    "    - ```First Name``` will become ```first_name```\n",
    "    - ```% Completed``` will become ```completed```\n",
    "11. Write a function named cumulative_sum that accepts a list of numbers and returns a list that is the cumulative sum of the numbers in the list.\n",
    "- ```cumulative_sum([1, 1, 1])``` returns ```[1, 2, 3]```\n",
    "- ```cumulative_sum([1, 2, 3, 4])``` returns ```[1, 3, 6, 10]```"
   ]
  },
  {
   "cell_type": "markdown",
   "id": "676bb010",
   "metadata": {},
   "source": [
    "<hr style=\"border:1px solid black\">\n",
    "<hr style=\"border:1px solid black\">"
   ]
  },
  {
   "cell_type": "markdown",
   "id": "befd0f43",
   "metadata": {},
   "source": [
    "1. Define a function named ```is_two```. It should accept one input and return True if the passed input is either the number or the string 2, ```False``` otherwise."
   ]
  },
  {
   "cell_type": "code",
   "execution_count": 1,
   "id": "870dba42",
   "metadata": {},
   "outputs": [],
   "source": [
    "def is_two(number):\n",
    "    '''\n",
    "    This function takes in a number or string\n",
    "    returns True if the input is number 2 or string 2\n",
    "    and False is any other number or string.\n",
    "    '''\n",
    "    #if the number input is an integer 2\n",
    "    if number == 2:\n",
    "        return True\n",
    "    #or if the number input is a string 2\n",
    "    if number == '2':\n",
    "        return True\n",
    "    else:\n",
    "        return False"
   ]
  },
  {
   "cell_type": "code",
   "execution_count": 2,
   "id": "49c48cf2",
   "metadata": {},
   "outputs": [
    {
     "data": {
      "text/plain": [
       "True"
      ]
     },
     "execution_count": 2,
     "metadata": {},
     "output_type": "execute_result"
    }
   ],
   "source": [
    "#test the code\n",
    "is_two(2)"
   ]
  },
  {
   "cell_type": "code",
   "execution_count": 3,
   "id": "aab513d2",
   "metadata": {
    "scrolled": true
   },
   "outputs": [
    {
     "data": {
      "text/plain": [
       "True"
      ]
     },
     "execution_count": 3,
     "metadata": {},
     "output_type": "execute_result"
    }
   ],
   "source": [
    "#test the code\n",
    "is_two('2')"
   ]
  },
  {
   "cell_type": "code",
   "execution_count": 4,
   "id": "528f563c",
   "metadata": {},
   "outputs": [
    {
     "data": {
      "text/plain": [
       "False"
      ]
     },
     "execution_count": 4,
     "metadata": {},
     "output_type": "execute_result"
    }
   ],
   "source": [
    "#test the code\n",
    "is_two(3)"
   ]
  },
  {
   "cell_type": "code",
   "execution_count": 5,
   "id": "07fa1281",
   "metadata": {},
   "outputs": [],
   "source": [
    "#more straight forward\n",
    "def is_two(n):\n",
    "    return n == 2 or n == '2'"
   ]
  },
  {
   "cell_type": "code",
   "execution_count": 6,
   "id": "d1419511",
   "metadata": {},
   "outputs": [
    {
     "data": {
      "text/plain": [
       "False"
      ]
     },
     "execution_count": 6,
     "metadata": {},
     "output_type": "execute_result"
    }
   ],
   "source": [
    "#test the code\n",
    "is_two(3)"
   ]
  },
  {
   "cell_type": "code",
   "execution_count": 7,
   "id": "a662b75e",
   "metadata": {},
   "outputs": [
    {
     "data": {
      "text/plain": [
       "True"
      ]
     },
     "execution_count": 7,
     "metadata": {},
     "output_type": "execute_result"
    }
   ],
   "source": [
    "#test the code\n",
    "is_two('2')"
   ]
  },
  {
   "cell_type": "markdown",
   "id": "b5bc5e1f",
   "metadata": {},
   "source": [
    "<hr style=\"border:1px solid grey\">"
   ]
  },
  {
   "cell_type": "markdown",
   "id": "0fe80119",
   "metadata": {},
   "source": [
    "2. Define a function named ```is_vowel```. It should return ```True``` if the passed string is a vowel, ```False``` otherwise."
   ]
  },
  {
   "cell_type": "code",
   "execution_count": 8,
   "id": "af6e1278",
   "metadata": {},
   "outputs": [],
   "source": [
    "def is_vowel(vowelstring):\n",
    "    '''\n",
    "    This function takes in a string and lowercases it\n",
    "    Return true if input is a vowel\n",
    "    And return False if input is consonant\n",
    "    '''\n",
    "    #lowercase the input string\n",
    "    vowelstring = vowelstring.lower()\n",
    "    \n",
    "    #if the input is a vowel\n",
    "    if vowelstring == ('a' or 'e' or 'i' or 'o' or 'u'):\n",
    "        return True\n",
    "    else:\n",
    "        return False"
   ]
  },
  {
   "cell_type": "code",
   "execution_count": 9,
   "id": "d588200e",
   "metadata": {
    "scrolled": true
   },
   "outputs": [
    {
     "data": {
      "text/plain": [
       "True"
      ]
     },
     "execution_count": 9,
     "metadata": {},
     "output_type": "execute_result"
    }
   ],
   "source": [
    "is_vowel('a')"
   ]
  },
  {
   "cell_type": "code",
   "execution_count": 10,
   "id": "f0662cda",
   "metadata": {},
   "outputs": [
    {
     "data": {
      "text/plain": [
       "True"
      ]
     },
     "execution_count": 10,
     "metadata": {},
     "output_type": "execute_result"
    }
   ],
   "source": [
    "is_vowel('A')"
   ]
  },
  {
   "cell_type": "code",
   "execution_count": 11,
   "id": "f3029cb6",
   "metadata": {},
   "outputs": [
    {
     "data": {
      "text/plain": [
       "False"
      ]
     },
     "execution_count": 11,
     "metadata": {},
     "output_type": "execute_result"
    }
   ],
   "source": [
    "is_vowel('b')"
   ]
  },
  {
   "cell_type": "code",
   "execution_count": 12,
   "id": "015ee735",
   "metadata": {},
   "outputs": [],
   "source": [
    "#another way to do this\n",
    "list('aeiou')\n",
    "\n",
    "def is_vowel(somestring):\n",
    "    if type(somestring) == str:\n",
    "        if len(somestring) == 1 and somestring.isalpha():\n",
    "            return somestring.lower() in list('aeiou')\n",
    "        else:\n",
    "            return False\n",
    "    else:\n",
    "        return False"
   ]
  },
  {
   "cell_type": "markdown",
   "id": "53a88b3c",
   "metadata": {},
   "source": [
    "<hr style=\"border:1px solid grey\">"
   ]
  },
  {
   "cell_type": "markdown",
   "id": "7bf81404",
   "metadata": {},
   "source": [
    "3. Define a function named ```is_consonant```. It should return ```True``` if the passed string is a consonant, False otherwise. Use your ```is_vowel``` function to accomplish this."
   ]
  },
  {
   "cell_type": "code",
   "execution_count": 13,
   "id": "9453beb9",
   "metadata": {},
   "outputs": [],
   "source": [
    "#using the is_vowel function from above\n",
    "def is_consonant(string):\n",
    "    '''\n",
    "    This function takes in a string\n",
    "    Return true if input is a consonant \n",
    "    Return False if input is a vowel\n",
    "    '''\n",
    "    #if the string input is a string datatype\n",
    "    if type(string) == str:\n",
    "        #confirms that only alpha characters are in the input\n",
    "        is_only_letters = string.isalpha()\n",
    "        #returns only the alpha characters that are not vowesl\n",
    "        return is_only_letters and not is_vowel(string)\n",
    "    else:\n",
    "        return False"
   ]
  },
  {
   "cell_type": "code",
   "execution_count": 14,
   "id": "050530a1",
   "metadata": {},
   "outputs": [
    {
     "data": {
      "text/plain": [
       "True"
      ]
     },
     "execution_count": 14,
     "metadata": {},
     "output_type": "execute_result"
    }
   ],
   "source": [
    "#test the function\n",
    "is_consonant('b')"
   ]
  },
  {
   "cell_type": "code",
   "execution_count": 15,
   "id": "30cabc25",
   "metadata": {},
   "outputs": [
    {
     "data": {
      "text/plain": [
       "True"
      ]
     },
     "execution_count": 15,
     "metadata": {},
     "output_type": "execute_result"
    }
   ],
   "source": [
    "#test the function\n",
    "is_consonant('B')"
   ]
  },
  {
   "cell_type": "code",
   "execution_count": 16,
   "id": "c501ce03",
   "metadata": {},
   "outputs": [
    {
     "data": {
      "text/plain": [
       "False"
      ]
     },
     "execution_count": 16,
     "metadata": {},
     "output_type": "execute_result"
    }
   ],
   "source": [
    "#test the function\n",
    "is_consonant('a')"
   ]
  },
  {
   "cell_type": "code",
   "execution_count": 17,
   "id": "fb4718dc",
   "metadata": {},
   "outputs": [],
   "source": [
    "#another way not using previous function\n",
    "#opposite output of is_vowel function\n",
    "def is_consonant(constrng):\n",
    "    '''\n",
    "    This function takes in a string\n",
    "    Return true if input is a consonant \n",
    "    Return False if input is a vowel\n",
    "    '''\n",
    "    #lowercase the input string\n",
    "    constrng = constrng.lower()\n",
    "    \n",
    "    #if the input is a vowel\n",
    "    if constrng in ('a' or 'e' or 'i' or 'o' or 'u'):\n",
    "        return False\n",
    "    else:\n",
    "        return True"
   ]
  },
  {
   "cell_type": "code",
   "execution_count": 18,
   "id": "cb8e757d",
   "metadata": {},
   "outputs": [
    {
     "data": {
      "text/plain": [
       "True"
      ]
     },
     "execution_count": 18,
     "metadata": {},
     "output_type": "execute_result"
    }
   ],
   "source": [
    "#test the function\n",
    "is_consonant('b')"
   ]
  },
  {
   "cell_type": "code",
   "execution_count": 19,
   "id": "2f2a3ce9",
   "metadata": {},
   "outputs": [
    {
     "data": {
      "text/plain": [
       "True"
      ]
     },
     "execution_count": 19,
     "metadata": {},
     "output_type": "execute_result"
    }
   ],
   "source": [
    "is_consonant('B')"
   ]
  },
  {
   "cell_type": "code",
   "execution_count": 20,
   "id": "a2f4a4e0",
   "metadata": {},
   "outputs": [
    {
     "data": {
      "text/plain": [
       "False"
      ]
     },
     "execution_count": 20,
     "metadata": {},
     "output_type": "execute_result"
    }
   ],
   "source": [
    "#test the function\n",
    "is_consonant('a')"
   ]
  },
  {
   "cell_type": "markdown",
   "id": "91461048",
   "metadata": {},
   "source": [
    "<hr style=\"border:1px solid grey\">"
   ]
  },
  {
   "cell_type": "markdown",
   "id": "3d04f95c",
   "metadata": {},
   "source": [
    "4. Define a function that accepts a string that is a word. The function should capitalize the first letter of the word if the word starts with a consonant."
   ]
  },
  {
   "cell_type": "code",
   "execution_count": 21,
   "id": "fb7b2650",
   "metadata": {},
   "outputs": [],
   "source": [
    "#another way of doing this\n",
    "def cap_first_cons(string):\n",
    "    '''\n",
    "    This function takes in a string\n",
    "    and returns that string capitalized\n",
    "    if it starts with a consonent.\n",
    "    Otherwise, it returns the original string.\n",
    "    '''\n",
    "    #if the input string is a string datatype\n",
    "    if type(string) == str:\n",
    "        #look at the first letter in that string\n",
    "        if is_consonant(string[0]):\n",
    "            #and capitalize that letter\n",
    "            return string.capitalize()\n",
    "        else:\n",
    "            return string\n",
    "    else:\n",
    "        return string"
   ]
  },
  {
   "cell_type": "code",
   "execution_count": 22,
   "id": "1e3167c3",
   "metadata": {},
   "outputs": [
    {
     "data": {
      "text/plain": [
       "'Dog'"
      ]
     },
     "execution_count": 22,
     "metadata": {},
     "output_type": "execute_result"
    }
   ],
   "source": [
    "#test the function\n",
    "cap_first_cons('dog')"
   ]
  },
  {
   "cell_type": "code",
   "execution_count": 23,
   "id": "5d83a7a1",
   "metadata": {},
   "outputs": [
    {
     "data": {
      "text/plain": [
       "'apple'"
      ]
     },
     "execution_count": 23,
     "metadata": {},
     "output_type": "execute_result"
    }
   ],
   "source": [
    "#test the function\n",
    "#this will not work because 'a' is not a consonant\n",
    "cap_first_cons('apple')"
   ]
  },
  {
   "cell_type": "code",
   "execution_count": 24,
   "id": "274b07c2",
   "metadata": {},
   "outputs": [],
   "source": [
    "#another way without using any previous functions\n",
    "def cap_first_cons(string):\n",
    "    '''\n",
    "    This function takes in a string\n",
    "    Then capitalizes the string \n",
    "    if it begins with a consonant.\n",
    "    Otherwise, it returns invalid message.\n",
    "    '''\n",
    "    if string[0] in ('a' or 'e' or 'i' or 'o' or 'u'):\n",
    "        return (\"invalid: this string does not start with a consonant\")\n",
    "    else:\n",
    "        return string.capitalize()"
   ]
  },
  {
   "cell_type": "code",
   "execution_count": 25,
   "id": "306928c3",
   "metadata": {},
   "outputs": [
    {
     "data": {
      "text/plain": [
       "'Dog'"
      ]
     },
     "execution_count": 25,
     "metadata": {},
     "output_type": "execute_result"
    }
   ],
   "source": [
    "#test the function\n",
    "cap_first_cons(\"dog\")"
   ]
  },
  {
   "cell_type": "code",
   "execution_count": 26,
   "id": "d158a6a4",
   "metadata": {},
   "outputs": [
    {
     "data": {
      "text/plain": [
       "'invalid: this string does not start with a consonant'"
      ]
     },
     "execution_count": 26,
     "metadata": {},
     "output_type": "execute_result"
    }
   ],
   "source": [
    "#this should not work because it starts with 'a'\n",
    "cap_first_cons(\"apple\")"
   ]
  },
  {
   "cell_type": "markdown",
   "id": "7241eb1c",
   "metadata": {},
   "source": [
    "<hr style=\"border:1px solid grey\">"
   ]
  },
  {
   "cell_type": "markdown",
   "id": "da07e6c8",
   "metadata": {},
   "source": [
    "5. Define a function named ```calculate_tip```. It should accept a tip percentage (a number between 0 and 1) and the bill total, and return the amount to tip."
   ]
  },
  {
   "cell_type": "code",
   "execution_count": 27,
   "id": "9c06f019",
   "metadata": {},
   "outputs": [],
   "source": [
    "def calculate_tip(bill, tip_perc):\n",
    "    '''\n",
    "    This function takes in total bill and tip percentage\n",
    "    Then it returns what the actual tip should be\n",
    "    '''\n",
    "    return bill * tip_perc"
   ]
  },
  {
   "cell_type": "code",
   "execution_count": 28,
   "id": "098958dc",
   "metadata": {},
   "outputs": [
    {
     "data": {
      "text/plain": [
       "20.0"
      ]
     },
     "execution_count": 28,
     "metadata": {},
     "output_type": "execute_result"
    }
   ],
   "source": [
    "#test the function($100 bill- wanting to tip 20%)\n",
    "calculate_tip(100, .2)"
   ]
  },
  {
   "cell_type": "markdown",
   "id": "ca5119d2",
   "metadata": {},
   "source": [
    "<hr style=\"border:1px solid grey\">"
   ]
  },
  {
   "cell_type": "markdown",
   "id": "e556e8ac",
   "metadata": {},
   "source": [
    "6. Define a function named ```apply_discount```. It should accept a original price, and a discount percentage, and return the price after the discount is applied."
   ]
  },
  {
   "cell_type": "code",
   "execution_count": 29,
   "id": "200cf3ee",
   "metadata": {},
   "outputs": [],
   "source": [
    "def apply_discount(orig_price, disc_perc):\n",
    "    '''\n",
    "    This function takes in sales price and discount percent\n",
    "    then returns the new price of the item.\n",
    "    '''\n",
    "    return orig_price - ((disc_perc / 100) * orig_price)\n"
   ]
  },
  {
   "cell_type": "code",
   "execution_count": 30,
   "id": "a56e2a0d",
   "metadata": {},
   "outputs": [
    {
     "data": {
      "text/plain": [
       "80.0"
      ]
     },
     "execution_count": 30,
     "metadata": {},
     "output_type": "execute_result"
    }
   ],
   "source": [
    "#test the function- ($100 original price, 20% discount)\n",
    "apply_discount(100, 20)"
   ]
  },
  {
   "cell_type": "markdown",
   "id": "9e1f3f27",
   "metadata": {},
   "source": [
    "<hr style=\"border:1px solid grey\">"
   ]
  },
  {
   "cell_type": "markdown",
   "id": "196a54b0",
   "metadata": {},
   "source": [
    "7. Define a function named ```handle_commas```. It should accept a string that is a number that contains commas in it as input, and return a number as output."
   ]
  },
  {
   "cell_type": "code",
   "execution_count": 31,
   "id": "34f31c6f",
   "metadata": {},
   "outputs": [],
   "source": [
    "def handle_commas(string):\n",
    "    '''\n",
    "    This function takes in a string\n",
    "    removes the commas\n",
    "    and returns the string as an integer.\n",
    "    '''\n",
    "    string = string.replace(\",\" , \"\") \n",
    "    return int(string)"
   ]
  },
  {
   "cell_type": "code",
   "execution_count": 61,
   "id": "b49ae19c",
   "metadata": {},
   "outputs": [
    {
     "data": {
      "text/plain": [
       "4000000"
      ]
     },
     "execution_count": 61,
     "metadata": {},
     "output_type": "execute_result"
    }
   ],
   "source": [
    "handle_commas('4,000,000')"
   ]
  },
  {
   "cell_type": "code",
   "execution_count": 33,
   "id": "41825196",
   "metadata": {},
   "outputs": [],
   "source": [
    "#another way to handle this\n",
    "def handle_commas(string):\n",
    "    '''\n",
    "    This function takes in a string\n",
    "    if the input is not a string, returns an error message\n",
    "    Otherwise, it removes the commas and returns the string as float.\n",
    "    '''\n",
    "    if type(string) != str:\n",
    "        return (\"Input must be a string\")\n",
    "    \n",
    "    return float(string.replace(\",\" , \"\"))"
   ]
  },
  {
   "cell_type": "code",
   "execution_count": 34,
   "id": "f521b702",
   "metadata": {},
   "outputs": [
    {
     "data": {
      "text/plain": [
       "5230000.0"
      ]
     },
     "execution_count": 34,
     "metadata": {},
     "output_type": "execute_result"
    }
   ],
   "source": [
    "#test the function \n",
    "handle_commas('5,230,000')"
   ]
  },
  {
   "cell_type": "code",
   "execution_count": 35,
   "id": "3f316c60",
   "metadata": {},
   "outputs": [
    {
     "data": {
      "text/plain": [
       "'Input must be a string'"
      ]
     },
     "execution_count": 35,
     "metadata": {},
     "output_type": "execute_result"
    }
   ],
   "source": [
    "#test the function \n",
    "#should get error message\n",
    "handle_commas(5230)"
   ]
  },
  {
   "cell_type": "code",
   "execution_count": 36,
   "id": "1060f5a5",
   "metadata": {},
   "outputs": [
    {
     "ename": "TypeError",
     "evalue": "handle_commas() takes 1 positional argument but 3 were given",
     "output_type": "error",
     "traceback": [
      "\u001b[0;31m---------------------------------------------------------------------------\u001b[0m",
      "\u001b[0;31mTypeError\u001b[0m                                 Traceback (most recent call last)",
      "Input \u001b[0;32mIn [36]\u001b[0m, in \u001b[0;36m<cell line: 4>\u001b[0;34m()\u001b[0m\n\u001b[1;32m      1\u001b[0m \u001b[38;5;66;03m#test the function\u001b[39;00m\n\u001b[1;32m      2\u001b[0m \u001b[38;5;66;03m#we will get an error because python thinks commas \u001b[39;00m\n\u001b[1;32m      3\u001b[0m \u001b[38;5;66;03m##(not in strings) are separate arguments\u001b[39;00m\n\u001b[0;32m----> 4\u001b[0m \u001b[43mhandle_commas\u001b[49m\u001b[43m(\u001b[49m\u001b[38;5;241;43m5\u001b[39;49m\u001b[43m,\u001b[49m\u001b[38;5;241;43m230\u001b[39;49m\u001b[43m,\u001b[49m\u001b[38;5;241;43m000\u001b[39;49m\u001b[43m)\u001b[49m\n",
      "\u001b[0;31mTypeError\u001b[0m: handle_commas() takes 1 positional argument but 3 were given"
     ]
    }
   ],
   "source": [
    "#test the function\n",
    "#we will get an error because python thinks commas \n",
    "##(not in strings) are separate arguments\n",
    "handle_commas(5,230,000)"
   ]
  },
  {
   "cell_type": "markdown",
   "id": "f8a4808c",
   "metadata": {},
   "source": [
    "<hr style=\"border:1px solid grey\">"
   ]
  },
  {
   "cell_type": "markdown",
   "id": "f02ce259",
   "metadata": {},
   "source": [
    "8. Define a function named ```get_letter_grade```. It should accept a number and return the letter grade associated with that number (A-F)."
   ]
  },
  {
   "cell_type": "code",
   "execution_count": 37,
   "id": "ae9a1c0f",
   "metadata": {},
   "outputs": [],
   "source": [
    "def is_letter_grade(score):\n",
    "    '''\n",
    "    This function takes in a float or integer\n",
    "    as a numeric grade\n",
    "    and returns the letter grade.\n",
    "    '''\n",
    "    if type(score) == int or type(score) == float:\n",
    "        if(score < 60):\n",
    "            return \"F\"\n",
    "        elif(score < 70):\n",
    "            return \"D\"\n",
    "        elif(score < 80):\n",
    "            return \"C\"\n",
    "        elif(score < 90):\n",
    "            return \"B\"\n",
    "        elif(score <101):\n",
    "            return \"A\""
   ]
  },
  {
   "cell_type": "code",
   "execution_count": 38,
   "id": "8ccd5ac9",
   "metadata": {
    "scrolled": true
   },
   "outputs": [
    {
     "data": {
      "text/plain": [
       "'C'"
      ]
     },
     "execution_count": 38,
     "metadata": {},
     "output_type": "execute_result"
    }
   ],
   "source": [
    "is_letter_grade(75)"
   ]
  },
  {
   "cell_type": "code",
   "execution_count": 39,
   "id": "b52c4acf",
   "metadata": {},
   "outputs": [],
   "source": [
    "#another way to handle this\n",
    "def get_letter_grade(somegrade):\n",
    "    if somegrade >= 90:\n",
    "        return 'A'\n",
    "    elif somegrade >= 80:\n",
    "        return 'B'\n",
    "    elif somegrade >= 70:\n",
    "        return 'C'\n",
    "    elif somegrade >= 60:\n",
    "        return 'D'\n",
    "    else:\n",
    "        return 'F'"
   ]
  },
  {
   "cell_type": "code",
   "execution_count": 40,
   "id": "3d5b954f",
   "metadata": {},
   "outputs": [
    {
     "data": {
      "text/plain": [
       "'C'"
      ]
     },
     "execution_count": 40,
     "metadata": {},
     "output_type": "execute_result"
    }
   ],
   "source": [
    "is_letter_grade(75)"
   ]
  },
  {
   "cell_type": "markdown",
   "id": "6d5f12bf",
   "metadata": {},
   "source": [
    "<hr style=\"border:1px solid grey\">"
   ]
  },
  {
   "cell_type": "markdown",
   "id": "b4b24a69",
   "metadata": {},
   "source": [
    "9. Define a function named ```remove_vowels``` that accepts a string and returns a string with all the vowels removed."
   ]
  },
  {
   "cell_type": "code",
   "execution_count": 41,
   "id": "b47f5e3d",
   "metadata": {},
   "outputs": [],
   "source": [
    "#using a previous function in this function\n",
    "def remove_vowels(vowel_word):\n",
    "    '''\n",
    "    This function takes in a word\n",
    "    and removes all vowels from the word.\n",
    "    '''\n",
    "    new_word = ''\n",
    "    for letter in vowel_word:\n",
    "        if not is_vowel(letter):\n",
    "            new_word += letter\n",
    "    return new_word"
   ]
  },
  {
   "cell_type": "code",
   "execution_count": 42,
   "id": "e7470d5f",
   "metadata": {},
   "outputs": [
    {
     "data": {
      "text/plain": [
       "'Sq'"
      ]
     },
     "execution_count": 42,
     "metadata": {},
     "output_type": "execute_result"
    }
   ],
   "source": [
    "remove_vowels('Sequoia')"
   ]
  },
  {
   "cell_type": "code",
   "execution_count": 43,
   "id": "d39e6cd7",
   "metadata": {},
   "outputs": [],
   "source": [
    "#another way to handle this without using previous function\n",
    "def remove_vowels(string):\n",
    "    '''\n",
    "    This function takes in a word\n",
    "    replaces the vowels with nothing\n",
    "    and returns the word without the vowels\n",
    "    '''\n",
    "    vowels = ('a', 'e', 'i', 'o', 'u') \n",
    "    for x in string.lower():\n",
    "        if x in vowels:\n",
    "            string = string.replace(x, \"\")\n",
    "              \n",
    "    return string"
   ]
  },
  {
   "cell_type": "code",
   "execution_count": 44,
   "id": "20527ab0",
   "metadata": {},
   "outputs": [
    {
     "data": {
      "text/plain": [
       "'vlkswgn'"
      ]
     },
     "execution_count": 44,
     "metadata": {},
     "output_type": "execute_result"
    }
   ],
   "source": [
    "remove_vowels('volkswagon')"
   ]
  },
  {
   "cell_type": "markdown",
   "id": "575d847a",
   "metadata": {},
   "source": [
    "<hr style=\"border:1px solid grey\">"
   ]
  },
  {
   "cell_type": "markdown",
   "id": "73cae591",
   "metadata": {},
   "source": [
    "10. Define a function named ```normalize_name```. It should accept a string and return a valid python identifier, that is:\n",
    "- anything that is not a valid python identifier should be removed\n",
    "- leading and trailing whitespace should be removed\n",
    "- everything should be lowercase\n",
    "- spaces should be replaced with underscores\n",
    "- for example:\n",
    "    - ```Name``` will become name\n",
    "    - ```First Name``` will become ```first_name```\n",
    "    - ```% Completed``` will become ```completed```"
   ]
  },
  {
   "cell_type": "code",
   "execution_count": 45,
   "id": "c9437608",
   "metadata": {},
   "outputs": [],
   "source": [
    "def normalize_name(string):\n",
    "    '''\n",
    "    This function takes in a string\n",
    "    removes leading and trailing white sace,\n",
    "    lowercases everyting, and replaces spaces with underscores\n",
    "    then returns a valid python identifier\n",
    "    '''\n",
    "    #remove special characters\n",
    "    string = string.replace(\"$\", \"\")\n",
    "    string = string.replace(\"%\", \"\")\n",
    "    string = string.replace(\"!\", \"\")\n",
    "\n",
    "    #remove leading and trailing whitespace\n",
    "    string = string.strip()\n",
    "\n",
    "    #replace spaces with underscores\n",
    "    string = string.replace(\" \", \"_\")\n",
    "    \n",
    "    #convert to lowercase\n",
    "    string = string.lower()\n",
    "\n",
    "    return string"
   ]
  },
  {
   "cell_type": "code",
   "execution_count": 46,
   "id": "6924f952",
   "metadata": {
    "scrolled": true
   },
   "outputs": [
    {
     "data": {
      "text/plain": [
       "'name'"
      ]
     },
     "execution_count": 46,
     "metadata": {},
     "output_type": "execute_result"
    }
   ],
   "source": [
    "normalize_name('Name')"
   ]
  },
  {
   "cell_type": "code",
   "execution_count": 47,
   "id": "fa5ff019",
   "metadata": {},
   "outputs": [
    {
     "data": {
      "text/plain": [
       "'first_name'"
      ]
     },
     "execution_count": 47,
     "metadata": {},
     "output_type": "execute_result"
    }
   ],
   "source": [
    "normalize_name('First Name')"
   ]
  },
  {
   "cell_type": "code",
   "execution_count": 48,
   "id": "7ae89e25",
   "metadata": {},
   "outputs": [
    {
     "data": {
      "text/plain": [
       "'completed'"
      ]
     },
     "execution_count": 48,
     "metadata": {},
     "output_type": "execute_result"
    }
   ],
   "source": [
    "normalize_name('% Completed')"
   ]
  },
  {
   "cell_type": "code",
   "execution_count": 49,
   "id": "2b6bfa8d",
   "metadata": {},
   "outputs": [],
   "source": [
    "#accomplish the same thing using a for loop\n",
    "def normalize_name(somestring):\n",
    "    newstring = ''\n",
    "    #for loop to grab all letter, numbers, and spaces.\n",
    "    for letter in somestring:\n",
    "        if letter.isalnum() or letter == ' ':\n",
    "            newstring += letter\n",
    "    ## for loops to check if leading character is a letter.\n",
    "    for letter in newstring:\n",
    "        if letter.isalpha():\n",
    "            break\n",
    "        else:\n",
    "            newstring = newstring[1:]\n",
    "    return newstring.strip().lower().replace(' ', '_')"
   ]
  },
  {
   "cell_type": "code",
   "execution_count": 50,
   "id": "bcb63a17",
   "metadata": {},
   "outputs": [
    {
     "data": {
      "text/plain": [
       "'name'"
      ]
     },
     "execution_count": 50,
     "metadata": {},
     "output_type": "execute_result"
    }
   ],
   "source": [
    "normalize_name('Name')"
   ]
  },
  {
   "cell_type": "code",
   "execution_count": 51,
   "id": "0ca7416b",
   "metadata": {},
   "outputs": [
    {
     "data": {
      "text/plain": [
       "'first_name'"
      ]
     },
     "execution_count": 51,
     "metadata": {},
     "output_type": "execute_result"
    }
   ],
   "source": [
    "normalize_name('First Name')"
   ]
  },
  {
   "cell_type": "code",
   "execution_count": 52,
   "id": "2092873f",
   "metadata": {},
   "outputs": [
    {
     "data": {
      "text/plain": [
       "'completed'"
      ]
     },
     "execution_count": 52,
     "metadata": {},
     "output_type": "execute_result"
    }
   ],
   "source": [
    "normalize_name('% Completed')"
   ]
  },
  {
   "cell_type": "markdown",
   "id": "4f143263",
   "metadata": {},
   "source": [
    "<hr style=\"border:1px solid grey\">"
   ]
  },
  {
   "cell_type": "markdown",
   "id": "1b162eaf",
   "metadata": {},
   "source": [
    "11. Write a function named cumulative_sum that accepts a list of numbers and returns a list that is the cumulative sum of the numbers in the list.\n",
    "- ```cumulative_sum([1, 1, 1])``` returns ```[1, 2, 3]```\n",
    "- ```cumulative_sum([1, 2, 3, 4])``` returns ```[1, 3, 6, 10]```"
   ]
  },
  {
   "cell_type": "code",
   "execution_count": 53,
   "id": "3e7aedbf",
   "metadata": {},
   "outputs": [],
   "source": [
    "num_list = [1,2,3]"
   ]
  },
  {
   "cell_type": "code",
   "execution_count": 54,
   "id": "a40e7914",
   "metadata": {},
   "outputs": [
    {
     "data": {
      "text/plain": [
       "[1]"
      ]
     },
     "execution_count": 54,
     "metadata": {},
     "output_type": "execute_result"
    }
   ],
   "source": [
    "num_list[:1]"
   ]
  },
  {
   "cell_type": "code",
   "execution_count": 55,
   "id": "8b938b8c",
   "metadata": {},
   "outputs": [
    {
     "data": {
      "text/plain": [
       "[1, 2]"
      ]
     },
     "execution_count": 55,
     "metadata": {},
     "output_type": "execute_result"
    }
   ],
   "source": [
    "num_list[:2]"
   ]
  },
  {
   "cell_type": "code",
   "execution_count": 56,
   "id": "16189406",
   "metadata": {},
   "outputs": [],
   "source": [
    "def cumulative_sum(oldlist):\n",
    "    newlist = []\n",
    "    i = 1\n",
    "    for num in oldlist:\n",
    "        cumusum = sum(oldlist[:i])\n",
    "        newlist.append(cumusum)\n",
    "        i += 1\n",
    "    return newlist"
   ]
  },
  {
   "cell_type": "code",
   "execution_count": 57,
   "id": "151c2efc",
   "metadata": {},
   "outputs": [
    {
     "data": {
      "text/plain": [
       "[1, 2, 3]"
      ]
     },
     "execution_count": 57,
     "metadata": {},
     "output_type": "execute_result"
    }
   ],
   "source": [
    "#test the function\n",
    "cumulative_sum([1, 1, 1])"
   ]
  },
  {
   "cell_type": "code",
   "execution_count": 58,
   "id": "147c2758",
   "metadata": {},
   "outputs": [
    {
     "data": {
      "text/plain": [
       "[1, 3, 6, 10]"
      ]
     },
     "execution_count": 58,
     "metadata": {},
     "output_type": "execute_result"
    }
   ],
   "source": [
    "#test the function\n",
    "cumulative_sum([1, 2, 3, 4]) "
   ]
  }
 ],
 "metadata": {
  "kernelspec": {
   "display_name": "Python 3 (ipykernel)",
   "language": "python",
   "name": "python3"
  },
  "language_info": {
   "codemirror_mode": {
    "name": "ipython",
    "version": 3
   },
   "file_extension": ".py",
   "mimetype": "text/x-python",
   "name": "python",
   "nbconvert_exporter": "python",
   "pygments_lexer": "ipython3",
   "version": "3.9.13"
  }
 },
 "nbformat": 4,
 "nbformat_minor": 5
}
